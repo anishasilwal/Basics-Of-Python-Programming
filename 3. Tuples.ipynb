{
 "cells": [
  {
   "cell_type": "markdown",
   "id": "077321cd",
   "metadata": {},
   "source": [
    "Tuples are ordered, unchangeable, and allow duplicate values."
   ]
  },
  {
   "cell_type": "markdown",
   "id": "7bc830c5",
   "metadata": {},
   "source": [
    "1. Creating Tuples"
   ]
  },
  {
   "cell_type": "code",
   "execution_count": 3,
   "id": "f025848c",
   "metadata": {},
   "outputs": [
    {
     "name": "stdout",
     "output_type": "stream",
     "text": [
      "()\n",
      "<class 'tuple'>\n"
     ]
    }
   ],
   "source": [
    "# create empty tuple\n",
    "tuple1=()\n",
    "print(tuple1)\n",
    "print(type(tuple1))"
   ]
  },
  {
   "cell_type": "code",
   "execution_count": 4,
   "id": "b0a50379",
   "metadata": {},
   "outputs": [
    {
     "name": "stdout",
     "output_type": "stream",
     "text": [
      "4\n"
     ]
    }
   ],
   "source": [
    "# display length of tuple\n",
    "# Hint: len(tuple)\n",
    "tuple1=(\"hi\",40,67.88,True)\n",
    "print(len(tuple1))"
   ]
  },
  {
   "cell_type": "code",
   "execution_count": 6,
   "id": "0d6db098",
   "metadata": {},
   "outputs": [
    {
     "name": "stdout",
     "output_type": "stream",
     "text": [
      "(('hello', 'world'), (890, 88.09))\n",
      "<class 'tuple'>\n"
     ]
    }
   ],
   "source": [
    "# create nested tuple\n",
    "# display type of nested tuple\n",
    "nested_tuple=(('hello','world'),(890,88.090))\n",
    "print(nested_tuple)\n",
    "print(type(nested_tuple))"
   ]
  },
  {
   "cell_type": "markdown",
   "id": "a4e8ab37",
   "metadata": {},
   "source": [
    "Tuples creation from Strings"
   ]
  },
  {
   "cell_type": "code",
   "execution_count": 9,
   "id": "319d4e7f",
   "metadata": {},
   "outputs": [
    {
     "name": "stdout",
     "output_type": "stream",
     "text": [
      "('I', 'am', 'Learning', 'Python.')\n",
      "<class 'tuple'>\n"
     ]
    }
   ],
   "source": [
    "strings=\"I am Learning Python.\"\n",
    "\n",
    "# split string \n",
    "list_form=strings.split()\n",
    "\n",
    "# typecast list to tuple\n",
    "form_tuple=tuple(list_form)\n",
    "print(form_tuple)\n",
    "\n",
    "print(type(form_tuple))"
   ]
  },
  {
   "cell_type": "markdown",
   "id": "e7753f8f",
   "metadata": {},
   "source": [
    "2. Indexing Tuples"
   ]
  },
  {
   "cell_type": "markdown",
   "id": "9006826d",
   "metadata": {},
   "source": [
    "Positive Indexing"
   ]
  },
  {
   "cell_type": "code",
   "execution_count": 12,
   "id": "d98b91ba",
   "metadata": {},
   "outputs": [
    {
     "name": "stdout",
     "output_type": "stream",
     "text": [
      "5\n"
     ]
    }
   ],
   "source": [
    "# initialize simple tuple of length 5\n",
    "indexing_tuple=(\"hi\",6.890,True,99,\"python\")\n",
    "print(len(indexing_tuple))"
   ]
  },
  {
   "cell_type": "code",
   "execution_count": 13,
   "id": "fa709cf5",
   "metadata": {},
   "outputs": [
    {
     "name": "stdout",
     "output_type": "stream",
     "text": [
      "hi\n"
     ]
    }
   ],
   "source": [
    "# print 1st item using positive index\n",
    "indexing_tuple=(\"hi\",6.890,True,99,\"python\")\n",
    "print(indexing_tuple[0])"
   ]
  },
  {
   "cell_type": "code",
   "execution_count": 16,
   "id": "55e2227b",
   "metadata": {},
   "outputs": [
    {
     "name": "stdout",
     "output_type": "stream",
     "text": [
      "python\n"
     ]
    }
   ],
   "source": [
    "# print last item using positive index\n",
    "indexing_tuple=(\"hi\",6.890,True,99,\"python\")\n",
    "print(indexing_tuple[4])"
   ]
  },
  {
   "cell_type": "markdown",
   "id": "87a51a59",
   "metadata": {},
   "source": [
    "negative indexing"
   ]
  },
  {
   "cell_type": "code",
   "execution_count": 18,
   "id": "134877ca",
   "metadata": {},
   "outputs": [
    {
     "name": "stdout",
     "output_type": "stream",
     "text": [
      "hi\n"
     ]
    }
   ],
   "source": [
    "# print 1st item using negative index\n",
    "indexing_tuple=(\"hi\",6.890,True,99,\"python\")\n",
    "print(indexing_tuple[-5])"
   ]
  },
  {
   "cell_type": "code",
   "execution_count": 17,
   "id": "e7f180f7",
   "metadata": {},
   "outputs": [
    {
     "name": "stdout",
     "output_type": "stream",
     "text": [
      "python\n"
     ]
    }
   ],
   "source": [
    "# print last item using negative index\n",
    "indexing_tuple=(\"hi\",6.890,True,99,\"python\")\n",
    "print(indexing_tuple[-1])"
   ]
  },
  {
   "cell_type": "markdown",
   "id": "cd9b79a7",
   "metadata": {},
   "source": [
    "3. Slicing Tuples"
   ]
  },
  {
   "cell_type": "markdown",
   "id": "ac4fabdb",
   "metadata": {},
   "source": [
    "case 1: when step is positive"
   ]
  },
  {
   "cell_type": "code",
   "execution_count": 19,
   "id": "1de726dc",
   "metadata": {},
   "outputs": [
    {
     "name": "stdout",
     "output_type": "stream",
     "text": [
      "('hi', 6.89, True, 99, 'python')\n"
     ]
    }
   ],
   "source": [
    "# initialize simple Tuples\n",
    "indexing_tuple=(\"hi\",6.890,True,99,\"python\")\n",
    "print(indexing_tuple)"
   ]
  },
  {
   "cell_type": "code",
   "execution_count": 21,
   "id": "e5204a68",
   "metadata": {},
   "outputs": [
    {
     "name": "stdout",
     "output_type": "stream",
     "text": [
      "('hi', 6.89, True)\n"
     ]
    }
   ],
   "source": [
    "# slice first 3 items using positive index\n",
    "indexing_tuple=(\"hi\",6.890,True,99,\"python\")\n",
    "print(indexing_tuple[:3])"
   ]
  },
  {
   "cell_type": "code",
   "execution_count": 22,
   "id": "fbf236a9",
   "metadata": {},
   "outputs": [
    {
     "name": "stdout",
     "output_type": "stream",
     "text": [
      "(True, 99, 'python')\n"
     ]
    }
   ],
   "source": [
    "# slice last 3 items using negative index\n",
    "indexing_tuple=(\"hi\",6.890,True,99,\"python\")\n",
    "print(indexing_tuple[-3:])"
   ]
  },
  {
   "cell_type": "code",
   "execution_count": 23,
   "id": "6c6dabfe",
   "metadata": {},
   "outputs": [
    {
     "name": "stdout",
     "output_type": "stream",
     "text": [
      "('hi', True, 'python')\n"
     ]
    }
   ],
   "source": [
    "# get tuple items at even index\n",
    "indexing_tuple=(\"hi\",6.890,True,99,\"python\")\n",
    "print(indexing_tuple[::2])"
   ]
  },
  {
   "cell_type": "markdown",
   "id": "ee98ed88",
   "metadata": {},
   "source": [
    "case 2: when step is negative"
   ]
  },
  {
   "cell_type": "code",
   "execution_count": 27,
   "id": "81b5532e",
   "metadata": {},
   "outputs": [
    {
     "name": "stdout",
     "output_type": "stream",
     "text": [
      "('python', 99, True, 6.89, 'hi')\n"
     ]
    }
   ],
   "source": [
    "# reverse tuple\n",
    "indexing_tuple=(\"hi\",6.890,True,99,\"python\")\n",
    "print(indexing_tuple[::-1])"
   ]
  },
  {
   "cell_type": "markdown",
   "id": "88fe5b34",
   "metadata": {},
   "source": [
    "4. Tuples are immutable"
   ]
  },
  {
   "cell_type": "code",
   "execution_count": 30,
   "id": "9aaf9793",
   "metadata": {},
   "outputs": [
    {
     "ename": "TypeError",
     "evalue": "'tuple' object does not support item assignment",
     "output_type": "error",
     "traceback": [
      "\u001b[1;31m---------------------------------------------------------------------------\u001b[0m",
      "\u001b[1;31mTypeError\u001b[0m                                 Traceback (most recent call last)",
      "Cell \u001b[1;32mIn[30], line 3\u001b[0m\n\u001b[0;32m      1\u001b[0m \u001b[38;5;66;03m# verify tuples are immutable\u001b[39;00m\n\u001b[0;32m      2\u001b[0m indexing_tuple\u001b[38;5;241m=\u001b[39m(\u001b[38;5;124m\"\u001b[39m\u001b[38;5;124mhi\u001b[39m\u001b[38;5;124m\"\u001b[39m,\u001b[38;5;241m6.890\u001b[39m,\u001b[38;5;28;01mTrue\u001b[39;00m,\u001b[38;5;241m99\u001b[39m,\u001b[38;5;124m\"\u001b[39m\u001b[38;5;124mpython\u001b[39m\u001b[38;5;124m\"\u001b[39m)\n\u001b[1;32m----> 3\u001b[0m indexing_tuple[\u001b[38;5;241m0\u001b[39m]\u001b[38;5;241m=\u001b[39m\u001b[38;5;124m\"\u001b[39m\u001b[38;5;124mhello\u001b[39m\u001b[38;5;124m\"\u001b[39m\n\u001b[0;32m      4\u001b[0m \u001b[38;5;28mprint\u001b[39m(indexing_tuple)\n",
      "\u001b[1;31mTypeError\u001b[0m: 'tuple' object does not support item assignment"
     ]
    }
   ],
   "source": [
    "# verify tuples are immutable\n",
    "indexing_tuple=(\"hi\",6.890,True,99,\"python\")\n",
    "indexing_tuple[0]=\"hello\"\n",
    "print(indexing_tuple)"
   ]
  },
  {
   "cell_type": "markdown",
   "id": "c47ef333",
   "metadata": {},
   "source": [
    "5. Tuples Methods"
   ]
  },
  {
   "cell_type": "markdown",
   "id": "e2cd98c8",
   "metadata": {},
   "source": [
    "1. count(): returns number of times a specified value occures in a tuple\n",
    "\n",
    "\n",
    "2. index(): returns index of specified value in tuple"
   ]
  },
  {
   "cell_type": "code",
   "execution_count": 32,
   "id": "8d844841",
   "metadata": {},
   "outputs": [
    {
     "name": "stdout",
     "output_type": "stream",
     "text": [
      "5\n"
     ]
    }
   ],
   "source": [
    "# initialize tuple \n",
    "# count number of occurence of item \"2\"\n",
    "# Hint: tuple.count(<item>)\n",
    "\n",
    "tuples=(1,2,3,4,2,2,5,2,2)\n",
    "print(tuples.count(2))"
   ]
  },
  {
   "cell_type": "code",
   "execution_count": 34,
   "id": "05736dd3",
   "metadata": {},
   "outputs": [
    {
     "name": "stdout",
     "output_type": "stream",
     "text": [
      "6\n"
     ]
    }
   ],
   "source": [
    "# get index of first item \"4\"\n",
    "# tuple.index(<item>)\n",
    "tuples=(1,2,3,4,2,2,5,2,2)\n",
    "print(tuples.index(5))"
   ]
  },
  {
   "cell_type": "markdown",
   "id": "748dc461",
   "metadata": {},
   "source": [
    "How to add item in Tuple?"
   ]
  },
  {
   "cell_type": "markdown",
   "id": "79a03f4f",
   "metadata": {},
   "source": [
    "They do not have append() methods like list.\n",
    "\n",
    "\n",
    "Approach 1:\n",
    "\n",
    "Input Tuple\n",
    "\n",
    "\n",
    "Typecast Tuple to List\n",
    "\n",
    "\n",
    "\n",
    "Append item to List\n",
    "\n",
    "\n",
    "\n",
    "Typecast List back to Tuple\n",
    "\n",
    "\n",
    "\n",
    "\n",
    "Approach 2:\n",
    "\n",
    "Input Tuple.\n",
    "\n",
    "\n",
    "\n",
    "\n",
    "Create Tuple with value to be added to main Tuple\n",
    "\n",
    "\n",
    "\n",
    "Concatenate Tuple using + operator."
   ]
  },
  {
   "cell_type": "code",
   "execution_count": 42,
   "id": "e73f0503",
   "metadata": {},
   "outputs": [
    {
     "name": "stdout",
     "output_type": "stream",
     "text": [
      "['hi', 6.89, True, 99, 'python']\n",
      "('hi', 6.89, True, 99, 'python', 'Hello World')\n"
     ]
    }
   ],
   "source": [
    "#approach1\n",
    "tuple_1=(\"hi\",6.890,True,99,\"python\")\n",
    "\n",
    "lists=list(tuple_1)\n",
    "print(lists)\n",
    "\n",
    "lists.append(\"Hello World\")\n",
    "\n",
    "tuple_2=tuple(lists)\n",
    "print(tuple_2)\n"
   ]
  },
  {
   "cell_type": "code",
   "execution_count": 45,
   "id": "e492da39",
   "metadata": {},
   "outputs": [
    {
     "name": "stdout",
     "output_type": "stream",
     "text": [
      "('hi', 6.89, True, 99, 'python', 'Hello World')\n"
     ]
    }
   ],
   "source": [
    "#approach2\n",
    "tuple1=(\"hi\",6.890,True,99,\"python\")\n",
    "tuple2=(\"Hello World\",)\n",
    "final_tuple=tuple1 + tuple2\n",
    "print(final_tuple)"
   ]
  },
  {
   "cell_type": "markdown",
   "id": "51a31683",
   "metadata": {},
   "source": [
    "Unpack Tuples"
   ]
  },
  {
   "cell_type": "code",
   "execution_count": 47,
   "id": "3e653560",
   "metadata": {},
   "outputs": [
    {
     "name": "stdout",
     "output_type": "stream",
     "text": [
      "hi,hello,6797.0,123\n"
     ]
    }
   ],
   "source": [
    "# create tuples of length 4\n",
    "# unpack tuples items to 4 other variables\n",
    "a,b,c,d=(\"hi\",\"hello\",6797.0,123)\n",
    "print(a,b,c,d,sep=\",\")"
   ]
  },
  {
   "cell_type": "markdown",
   "id": "e30b23a5",
   "metadata": {},
   "source": [
    "Unpack Tuples using Asterik *"
   ]
  },
  {
   "cell_type": "code",
   "execution_count": 48,
   "id": "72935553",
   "metadata": {},
   "outputs": [
    {
     "name": "stdout",
     "output_type": "stream",
     "text": [
      "hi ['hello', 6797.0] 123\n"
     ]
    }
   ],
   "source": [
    "# Unpack Tuples values using 3 variables\n",
    "# Hint: a, *b, c\n",
    "a,*b,c=(\"hi\",\"hello\",6797.0,123)\n",
    "print(a,b,c)"
   ]
  },
  {
   "cell_type": "markdown",
   "id": "4ac40ae3",
   "metadata": {},
   "source": [
    "9. Loop Tuples"
   ]
  },
  {
   "cell_type": "code",
   "execution_count": 49,
   "id": "ab813711",
   "metadata": {},
   "outputs": [
    {
     "name": "stdout",
     "output_type": "stream",
     "text": [
      "hi\n",
      "hello\n",
      "6797.0\n",
      "123\n"
     ]
    }
   ],
   "source": [
    "#Initialize Tuples and loop through Tuples items one by one.\n",
    "loop_tuple=(\"hi\",\"hello\",6797.0,123)\n",
    "\n",
    "for i in loop_tuple:\n",
    "    print(i)"
   ]
  },
  {
   "cell_type": "code",
   "execution_count": 51,
   "id": "98f5e4a9",
   "metadata": {},
   "outputs": [
    {
     "name": "stdout",
     "output_type": "stream",
     "text": [
      "(0, 'hi')\n",
      "(1, 'hello')\n",
      "(2, 6797.0)\n",
      "(3, 123)\n",
      "Index:0,Value:hi\n",
      "Index:1,Value:hello\n",
      "Index:2,Value:6797.0\n",
      "Index:3,Value:123\n"
     ]
    }
   ],
   "source": [
    "# Use enumerate() function to loop through Tupes to get index and values.\n",
    "loop_tuple=(\"hi\",\"hello\",6797.0,123)\n",
    "\n",
    "for i in enumerate(loop_tuple):\n",
    "    print(i)\n",
    "    \n",
    "\n",
    "for index,value in enumerate(loop_tuple):\n",
    "    print(f\"Index:{index},Value:{value}\")"
   ]
  },
  {
   "cell_type": "markdown",
   "id": "d0d81685",
   "metadata": {},
   "source": [
    "There is no Tuple comprehension like List. But we can use tuple() function to accomplish Tuple Comprehension"
   ]
  },
  {
   "cell_type": "code",
   "execution_count": 53,
   "id": "02c462f0",
   "metadata": {},
   "outputs": [
    {
     "name": "stdout",
     "output_type": "stream",
     "text": [
      "('apple', 'orange', 'grapes', 'guava')\n"
     ]
    }
   ],
   "source": [
    "#Write a python program to lowercase item in given Tuples using Tuple comprehension.\n",
    "fruits=('apple','orange','grapes','guava')\n",
    "\n",
    "lower_fruits=tuple(item.lower() for item in fruits)\n",
    "print(lower_fruits)"
   ]
  },
  {
   "cell_type": "code",
   "execution_count": null,
   "id": "c726b71e",
   "metadata": {},
   "outputs": [],
   "source": []
  }
 ],
 "metadata": {
  "kernelspec": {
   "display_name": "Python 3 (ipykernel)",
   "language": "python",
   "name": "python3"
  },
  "language_info": {
   "codemirror_mode": {
    "name": "ipython",
    "version": 3
   },
   "file_extension": ".py",
   "mimetype": "text/x-python",
   "name": "python",
   "nbconvert_exporter": "python",
   "pygments_lexer": "ipython3",
   "version": "3.11.5"
  }
 },
 "nbformat": 4,
 "nbformat_minor": 5
}
