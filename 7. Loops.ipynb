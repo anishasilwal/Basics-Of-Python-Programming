{
 "cells": [
  {
   "cell_type": "markdown",
   "id": "0655145f",
   "metadata": {},
   "source": [
    "Python loops can be categorized into 2 types:\n",
    "\n",
    "1. while loop\n",
    "\n",
    "\n",
    "\n",
    "2. for loop"
   ]
  },
  {
   "cell_type": "markdown",
   "id": "bdea4884",
   "metadata": {},
   "source": [
    "# 1. While loop"
   ]
  },
  {
   "cell_type": "markdown",
   "id": "d930c9ec",
   "metadata": {},
   "source": [
    "With the while loop we can execute set of statements as long as a condition is true."
   ]
  },
  {
   "cell_type": "code",
   "execution_count": 2,
   "id": "71656cca",
   "metadata": {},
   "outputs": [
    {
     "name": "stdout",
     "output_type": "stream",
     "text": [
      "Hello World!!\n",
      "Hello World!!\n",
      "Hello World!!\n",
      "Hello World!!\n",
      "Hello World!!\n",
      "Hello World!!\n",
      "Hello World!!\n",
      "Hello World!!\n",
      "Hello World!!\n",
      "Hello World!!\n"
     ]
    }
   ],
   "source": [
    "#Write a python program to print \"Hello world\" 10 times using while loop.\n",
    "\n",
    "i=0\n",
    "while i<10:\n",
    "    print(\"Hello World!!\")\n",
    "    i+=1"
   ]
  },
  {
   "cell_type": "code",
   "execution_count": 12,
   "id": "cd61e15a",
   "metadata": {},
   "outputs": [
    {
     "name": "stdout",
     "output_type": "stream",
     "text": [
      "Hello World\n",
      "Hello World\n",
      "Hello World\n",
      "Hello World\n",
      "Hello World\n",
      "Hello World\n",
      "Hello World\n",
      "Hello World\n",
      "Hello World\n",
      "Hello World\n"
     ]
    }
   ],
   "source": [
    "i = 0\n",
    "\n",
    "while i < 10:\n",
    "    if i == 10:\n",
    "        break\n",
    "\n",
    "    else:\n",
    "        print('Hello World')\n",
    "        i += 1"
   ]
  },
  {
   "cell_type": "markdown",
   "id": "bb035ade",
   "metadata": {},
   "source": [
    "# 1.1. Break Statement"
   ]
  },
  {
   "cell_type": "markdown",
   "id": "1ca46b05",
   "metadata": {},
   "source": [
    "break keyword is used to break and exit from the loop."
   ]
  },
  {
   "cell_type": "code",
   "execution_count": 10,
   "id": "4cf890ef",
   "metadata": {},
   "outputs": [
    {
     "name": "stdout",
     "output_type": "stream",
     "text": [
      "mango\n",
      "banana\n"
     ]
    }
   ],
   "source": [
    "#Given list = ['mango', 'banana', 'apple', 'kiwi', 'orange']. print every items, if item = apple, then exit from loop.\n",
    "\n",
    "list = ['mango', 'banana', 'apple', 'kiwi', 'orange']\n",
    "\n",
    "for items in list:\n",
    "    if items=='apple':\n",
    "        break\n",
    "    else:\n",
    "        print(items)\n"
   ]
  },
  {
   "cell_type": "markdown",
   "id": "8dc6fff8",
   "metadata": {},
   "source": [
    "# 1.2. Continue Statement"
   ]
  },
  {
   "cell_type": "markdown",
   "id": "53a10d58",
   "metadata": {},
   "source": [
    "continue keyword is used to stop current iteration and continue with next iteration."
   ]
  },
  {
   "cell_type": "code",
   "execution_count": 11,
   "id": "0a6b21cb",
   "metadata": {},
   "outputs": [
    {
     "name": "stdout",
     "output_type": "stream",
     "text": [
      "mango\n",
      "banana\n",
      "kiwi\n",
      "orange\n"
     ]
    }
   ],
   "source": [
    "# Given list = ['mango', 'banana', 'apple', 'kiwi', 'orange'].**print** every items, if item = apple, simply continue with next item without printing.\n",
    "list = ['mango', 'banana', 'apple', 'kiwi', 'orange']\n",
    "\n",
    "for items in list:\n",
    "    if items=='apple':\n",
    "        continue\n",
    "    else:\n",
    "        print(items)"
   ]
  },
  {
   "cell_type": "markdown",
   "id": "3bb312c0",
   "metadata": {},
   "source": [
    "# 2. for loop"
   ]
  },
  {
   "cell_type": "markdown",
   "id": "fe92871e",
   "metadata": {},
   "source": [
    "A for loop is used for iterating over a sequence (string, list, tuple, set, dictionary)."
   ]
  },
  {
   "cell_type": "code",
   "execution_count": 18,
   "id": "1ba9b364",
   "metadata": {},
   "outputs": [
    {
     "name": "stdout",
     "output_type": "stream",
     "text": [
      "10\n",
      "20\n",
      "2\n",
      "100\n"
     ]
    }
   ],
   "source": [
    "#Given List of numbers, [10, 20, 5, 7, 2, 9, 13, 100]. Print items that are even.\n",
    "list_of_num=[10,20,5,7,2,9,13,100]\n",
    "for nums in list_of_num:\n",
    "    if nums%2==0:\n",
    "        print(nums)"
   ]
  },
  {
   "cell_type": "markdown",
   "id": "7d734495",
   "metadata": {},
   "source": [
    "# 2.1 Loop using range() function"
   ]
  },
  {
   "cell_type": "code",
   "execution_count": 19,
   "id": "d7fdffa4",
   "metadata": {},
   "outputs": [
    {
     "name": "stdout",
     "output_type": "stream",
     "text": [
      "*\n",
      "**\n",
      "***\n",
      "****\n",
      "*****\n"
     ]
    }
   ],
   "source": [
    "#Write a python program to print following patterns using range() function.\n",
    "'''\n",
    "*                                       \n",
    "**\n",
    "***                                               \n",
    "****\n",
    "*****\n",
    "'''\n",
    "for i in range(5):\n",
    "    print(\"*\" * (i+1))"
   ]
  },
  {
   "cell_type": "code",
   "execution_count": 20,
   "id": "92a259ea",
   "metadata": {},
   "outputs": [
    {
     "name": "stdout",
     "output_type": "stream",
     "text": [
      "*****\n",
      "****\n",
      "***\n",
      "**\n",
      "*\n"
     ]
    }
   ],
   "source": [
    "for i in range(5):\n",
    "    print(\"*\" * (5-i))"
   ]
  },
  {
   "cell_type": "code",
   "execution_count": 43,
   "id": "0549dc85",
   "metadata": {},
   "outputs": [
    {
     "name": "stdout",
     "output_type": "stream",
     "text": [
      "      \n",
      "     *\n",
      "    **\n",
      "   ***\n",
      "  ****\n",
      " *****\n"
     ]
    }
   ],
   "source": [
    "for i in range(6):\n",
    "    print(\" \" * (6-i) + \"*\" * i)"
   ]
  },
  {
   "cell_type": "code",
   "execution_count": 7,
   "id": "b5a79821",
   "metadata": {},
   "outputs": [
    {
     "name": "stdout",
     "output_type": "stream",
     "text": [
      "      \n",
      "     * \n",
      "    * * \n",
      "   * * * \n",
      "  * * * * \n",
      " * * * * * \n"
     ]
    }
   ],
   "source": [
    "for i in range(6):\n",
    "    print(\" \"*(6-i)+ \"* \"*i)"
   ]
  },
  {
   "cell_type": "code",
   "execution_count": 14,
   "id": "ead087b8",
   "metadata": {},
   "outputs": [
    {
     "name": "stdout",
     "output_type": "stream",
     "text": [
      "    \n",
      "   *   *\n",
      "  * * \n",
      " * * * \n"
     ]
    }
   ],
   "source": [
    "for i in range(4):\n",
    "    if i == 1:\n",
    "        print(\" \" * (4 - i) + \"*   *\")\n",
    "    else:\n",
    "        print(\" \" * (4 - i) + \"* \" * i)\n"
   ]
  },
  {
   "cell_type": "code",
   "execution_count": 10,
   "id": "27a58a3d",
   "metadata": {},
   "outputs": [
    {
     "name": "stdout",
     "output_type": "stream",
     "text": [
      "Enter the string of your choice: hello\n",
      "The number of vowels in the input string is: 2\n"
     ]
    }
   ],
   "source": [
    "#Write a program that takes a string as input and counts the number of vowels (a, e, i, o, u) using a for loop.\n",
    "user_input = input(\"Enter the string of your choice: \").lower()\n",
    "\n",
    "vowels = ['a', 'e', 'i', 'o', 'u']\n",
    "count = 0\n",
    "\n",
    "for char in user_input:\n",
    "    if char in vowels:\n",
    "        count += 1\n",
    "        vowel_count=count\n",
    "\n",
    "print(f\"The number of vowels in the input string is: {vowel_count}\")\n"
   ]
  },
  {
   "cell_type": "code",
   "execution_count": 9,
   "id": "63c5b4e2",
   "metadata": {},
   "outputs": [
    {
     "name": "stdout",
     "output_type": "stream",
     "text": [
      "(1, 1, 1)\n",
      "(1, 1, 2)\n",
      "(1, 1, 3)\n",
      "(1, 1, 4)\n",
      "(1, 1, 5)\n",
      "(1, 2, 1)\n",
      "(1, 2, 2)\n",
      "(1, 2, 3)\n",
      "(1, 2, 4)\n",
      "(1, 2, 5)\n",
      "(1, 3, 1)\n",
      "(1, 3, 2)\n",
      "(1, 3, 3)\n",
      "(1, 3, 4)\n",
      "(1, 3, 5)\n",
      "(1, 4, 1)\n",
      "(1, 4, 2)\n",
      "(1, 4, 3)\n",
      "(1, 4, 4)\n",
      "(1, 4, 5)\n",
      "(1, 5, 1)\n",
      "(1, 5, 2)\n",
      "(1, 5, 3)\n",
      "(1, 5, 4)\n",
      "(1, 5, 5)\n",
      "(2, 1, 1)\n",
      "(2, 1, 2)\n",
      "(2, 1, 3)\n",
      "(2, 1, 4)\n",
      "(2, 1, 5)\n",
      "(2, 2, 1)\n",
      "(2, 2, 2)\n",
      "(2, 2, 3)\n",
      "(2, 2, 4)\n",
      "(2, 2, 5)\n",
      "(2, 3, 1)\n",
      "(2, 3, 2)\n",
      "(2, 3, 3)\n",
      "(2, 3, 4)\n",
      "(2, 3, 5)\n",
      "(2, 4, 1)\n",
      "(2, 4, 2)\n",
      "(2, 4, 3)\n",
      "(2, 4, 4)\n",
      "(2, 4, 5)\n",
      "(2, 5, 1)\n",
      "(2, 5, 2)\n",
      "(2, 5, 3)\n",
      "(2, 5, 4)\n",
      "(2, 5, 5)\n",
      "(3, 1, 1)\n",
      "(3, 1, 2)\n",
      "(3, 1, 3)\n",
      "(3, 1, 4)\n",
      "(3, 1, 5)\n",
      "(3, 2, 1)\n",
      "(3, 2, 2)\n",
      "(3, 2, 3)\n",
      "(3, 2, 4)\n",
      "(3, 2, 5)\n",
      "(3, 3, 1)\n",
      "(3, 3, 2)\n",
      "(3, 3, 3)\n",
      "(3, 3, 4)\n",
      "(3, 3, 5)\n",
      "(3, 4, 1)\n",
      "(3, 4, 2)\n",
      "(3, 4, 3)\n",
      "(3, 4, 4)\n",
      "(3, 4, 5)\n",
      "(3, 5, 1)\n",
      "(3, 5, 2)\n",
      "(3, 5, 3)\n",
      "(3, 5, 4)\n",
      "(3, 5, 5)\n",
      "(4, 1, 1)\n",
      "(4, 1, 2)\n",
      "(4, 1, 3)\n",
      "(4, 1, 4)\n",
      "(4, 1, 5)\n",
      "(4, 2, 1)\n",
      "(4, 2, 2)\n",
      "(4, 2, 3)\n",
      "(4, 2, 4)\n",
      "(4, 2, 5)\n",
      "(4, 3, 1)\n",
      "(4, 3, 2)\n",
      "(4, 3, 3)\n",
      "(4, 3, 4)\n",
      "(4, 3, 5)\n",
      "(4, 4, 1)\n",
      "(4, 4, 2)\n",
      "(4, 4, 3)\n",
      "(4, 4, 4)\n",
      "(4, 4, 5)\n",
      "(4, 5, 1)\n",
      "(4, 5, 2)\n",
      "(4, 5, 3)\n",
      "(4, 5, 4)\n",
      "(4, 5, 5)\n",
      "(5, 1, 1)\n",
      "(5, 1, 2)\n",
      "(5, 1, 3)\n",
      "(5, 1, 4)\n",
      "(5, 1, 5)\n",
      "(5, 2, 1)\n",
      "(5, 2, 2)\n",
      "(5, 2, 3)\n",
      "(5, 2, 4)\n",
      "(5, 2, 5)\n",
      "(5, 3, 1)\n",
      "(5, 3, 2)\n",
      "(5, 3, 3)\n",
      "(5, 3, 4)\n",
      "(5, 3, 5)\n",
      "(5, 4, 1)\n",
      "(5, 4, 2)\n",
      "(5, 4, 3)\n",
      "(5, 4, 4)\n",
      "(5, 4, 5)\n",
      "(5, 5, 1)\n",
      "(5, 5, 2)\n",
      "(5, 5, 3)\n",
      "(5, 5, 4)\n",
      "(5, 5, 5)\n"
     ]
    }
   ],
   "source": [
    "#Write a program that generates all possible combinations of three numbers from 1 to 5 using nested for loops and prints them.\n",
    "start_idx = 1\n",
    "end_idx = 6\n",
    "\n",
    "for num1 in range(start_idx, end_idx): ## i =  [1, 2, 3, 4, 5]\n",
    "    for num2 in range(start_idx, end_idx): ## j = [1, 2, 3, 4, 5]\n",
    "        for num3 in range(start_idx, end_idx): ## k = [1, 2, 3, 4, 5]\n",
    "            print((num1, num2, num3))\n"
   ]
  },
  {
   "cell_type": "code",
   "execution_count": 11,
   "id": "b70223cb",
   "metadata": {},
   "outputs": [
    {
     "name": "stdout",
     "output_type": "stream",
     "text": [
      "(1, 1, 1)\n",
      "(1, 1, 2)\n",
      "(1, 1, 3)\n",
      "(1, 1, 4)\n",
      "(1, 1, 5)\n",
      "(1, 2, 1)\n",
      "(1, 2, 2)\n",
      "(1, 2, 3)\n",
      "(1, 2, 4)\n",
      "(1, 2, 5)\n",
      "(1, 3, 1)\n",
      "(1, 3, 2)\n",
      "(1, 3, 3)\n",
      "(1, 3, 4)\n",
      "(1, 3, 5)\n",
      "(1, 4, 1)\n",
      "(1, 4, 2)\n",
      "(1, 4, 3)\n",
      "(1, 4, 4)\n",
      "(1, 4, 5)\n",
      "(1, 5, 1)\n",
      "(1, 5, 2)\n",
      "(1, 5, 3)\n",
      "(1, 5, 4)\n",
      "(1, 5, 5)\n",
      "(2, 1, 1)\n",
      "(2, 1, 2)\n",
      "(2, 1, 3)\n",
      "(2, 1, 4)\n",
      "(2, 1, 5)\n",
      "(2, 2, 1)\n",
      "(2, 2, 2)\n",
      "(2, 2, 3)\n",
      "(2, 2, 4)\n",
      "(2, 2, 5)\n",
      "(2, 3, 1)\n",
      "(2, 3, 2)\n",
      "(2, 3, 3)\n",
      "(2, 3, 4)\n",
      "(2, 3, 5)\n",
      "(2, 4, 1)\n",
      "(2, 4, 2)\n",
      "(2, 4, 3)\n",
      "(2, 4, 4)\n",
      "(2, 4, 5)\n",
      "(2, 5, 1)\n",
      "(2, 5, 2)\n",
      "(2, 5, 3)\n",
      "(2, 5, 4)\n",
      "(2, 5, 5)\n",
      "(3, 1, 1)\n",
      "(3, 1, 2)\n",
      "(3, 1, 3)\n",
      "(3, 1, 4)\n",
      "(3, 1, 5)\n",
      "(3, 2, 1)\n",
      "(3, 2, 2)\n",
      "(3, 2, 3)\n",
      "(3, 2, 4)\n",
      "(3, 2, 5)\n",
      "(3, 3, 1)\n",
      "(3, 3, 2)\n",
      "(3, 3, 3)\n",
      "(3, 3, 4)\n",
      "(3, 3, 5)\n",
      "(3, 4, 1)\n",
      "(3, 4, 2)\n",
      "(3, 4, 3)\n",
      "(3, 4, 4)\n",
      "(3, 4, 5)\n",
      "(3, 5, 1)\n",
      "(3, 5, 2)\n",
      "(3, 5, 3)\n",
      "(3, 5, 4)\n",
      "(3, 5, 5)\n",
      "(4, 1, 1)\n",
      "(4, 1, 2)\n",
      "(4, 1, 3)\n",
      "(4, 1, 4)\n",
      "(4, 1, 5)\n",
      "(4, 2, 1)\n",
      "(4, 2, 2)\n",
      "(4, 2, 3)\n",
      "(4, 2, 4)\n",
      "(4, 2, 5)\n",
      "(4, 3, 1)\n",
      "(4, 3, 2)\n",
      "(4, 3, 3)\n",
      "(4, 3, 4)\n",
      "(4, 3, 5)\n",
      "(4, 4, 1)\n",
      "(4, 4, 2)\n",
      "(4, 4, 3)\n",
      "(4, 4, 4)\n",
      "(4, 4, 5)\n",
      "(4, 5, 1)\n",
      "(4, 5, 2)\n",
      "(4, 5, 3)\n",
      "(4, 5, 4)\n",
      "(4, 5, 5)\n",
      "(5, 1, 1)\n",
      "(5, 1, 2)\n",
      "(5, 1, 3)\n",
      "(5, 1, 4)\n",
      "(5, 1, 5)\n",
      "(5, 2, 1)\n",
      "(5, 2, 2)\n",
      "(5, 2, 3)\n",
      "(5, 2, 4)\n",
      "(5, 2, 5)\n",
      "(5, 3, 1)\n",
      "(5, 3, 2)\n",
      "(5, 3, 3)\n",
      "(5, 3, 4)\n",
      "(5, 3, 5)\n",
      "(5, 4, 1)\n",
      "(5, 4, 2)\n",
      "(5, 4, 3)\n",
      "(5, 4, 4)\n",
      "(5, 4, 5)\n",
      "(5, 5, 1)\n",
      "(5, 5, 2)\n",
      "(5, 5, 3)\n",
      "(5, 5, 4)\n",
      "(5, 5, 5)\n"
     ]
    }
   ],
   "source": [
    "for num1 in range(1, 6):\n",
    "    for num2 in range(1, 6):\n",
    "        for num3 in range(1, 6):\n",
    "            print((num1, num2, num3))"
   ]
  }
 ],
 "metadata": {
  "kernelspec": {
   "display_name": "Python 3 (ipykernel)",
   "language": "python",
   "name": "python3"
  },
  "language_info": {
   "codemirror_mode": {
    "name": "ipython",
    "version": 3
   },
   "file_extension": ".py",
   "mimetype": "text/x-python",
   "name": "python",
   "nbconvert_exporter": "python",
   "pygments_lexer": "ipython3",
   "version": "3.11.5"
  }
 },
 "nbformat": 4,
 "nbformat_minor": 5
}
