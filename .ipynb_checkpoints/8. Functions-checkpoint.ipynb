{
 "cells": [
  {
   "cell_type": "markdown",
   "id": "49ec1e81",
   "metadata": {},
   "source": [
    "A function is a reusable block of code which only runs when it is called."
   ]
  },
  {
   "cell_type": "markdown",
   "id": "1c037169",
   "metadata": {},
   "source": [
    "When to use functions?\n",
    "\n",
    "Use functions when you plan on using a block of code multiple times."
   ]
  },
  {
   "cell_type": "markdown",
   "id": "91ae8a52",
   "metadata": {},
   "source": [
    "Types Of functions:\n",
    "\n",
    "1. Pre-defined functions\n",
    "2. User defined functions"
   ]
  },
  {
   "cell_type": "markdown",
   "id": "dced5cd6",
   "metadata": {},
   "source": [
    "# 1. Anatomy of function"
   ]
  },
  {
   "cell_type": "markdown",
   "id": "9ac8e45a",
   "metadata": {},
   "source": [
    "def keyword is used for creating a uder-defined function in python."
   ]
  },
  {
   "cell_type": "code",
   "execution_count": 2,
   "id": "04caa38c",
   "metadata": {},
   "outputs": [
    {
     "name": "stdout",
     "output_type": "stream",
     "text": [
      "Hello this is a function!!!!!!\n"
     ]
    }
   ],
   "source": [
    "def myfun():\n",
    "    print(\"Hello this is a function!!!!!!\")\n",
    "\n",
    "myfun()"
   ]
  },
  {
   "cell_type": "markdown",
   "id": "021d80ec",
   "metadata": {},
   "source": [
    "# 2. Create a function without parameters and without return statement."
   ]
  },
  {
   "cell_type": "markdown",
   "id": "16617953",
   "metadata": {},
   "source": [
    "Function without return statement are called Void function."
   ]
  },
  {
   "cell_type": "code",
   "execution_count": 7,
   "id": "693e9c89",
   "metadata": {},
   "outputs": [
    {
     "name": "stdout",
     "output_type": "stream",
     "text": [
      "Enter the 1st num:12\n",
      "Enter the 2nd num:34\n",
      "34 is greater.\n"
     ]
    }
   ],
   "source": [
    "#Write a python function that takes two integer input from user and print greater number. \n",
    "\n",
    "def greatnum():\n",
    "    num1=int(input(\"Enter the 1st num:\"))\n",
    "    num2=int(input(\"Enter the 2nd num:\"))\n",
    "    \n",
    "    if num1>num2:\n",
    "        print(f\"{num1} is greater.\")\n",
    "    else:\n",
    "        print(f\"{num2} is greater.\")    \n",
    "\n",
    "greatnum()"
   ]
  },
  {
   "cell_type": "markdown",
   "id": "f3ab5a85",
   "metadata": {},
   "source": [
    "# 3. Create function with parameters and without return statement"
   ]
  },
  {
   "cell_type": "code",
   "execution_count": 8,
   "id": "a4fe3165",
   "metadata": {},
   "outputs": [
    {
     "name": "stdout",
     "output_type": "stream",
     "text": [
      "Enter the 1st num:12\n",
      "Enter the 2nd num:34\n",
      "34 is greater.\n"
     ]
    }
   ],
   "source": [
    "#Write a python function that takes two integer input from user pass them as argument to function and print greater number.\n",
    "def greatnum(num1,num2):\n",
    "   \n",
    "    if num1>num2:\n",
    "        print(f\"{num1} is greater.\")\n",
    "    else:\n",
    "        print(f\"{num2} is greater.\")    \n",
    "\n",
    "        \n",
    "num1=int(input(\"Enter the 1st num:\"))\n",
    "num2=int(input(\"Enter the 2nd num:\"))   \n",
    "greatnum(num1,num2)"
   ]
  },
  {
   "cell_type": "markdown",
   "id": "ce0e9798",
   "metadata": {},
   "source": [
    "# 4.Create function without parameters and with return statement"
   ]
  },
  {
   "cell_type": "markdown",
   "id": "e28dd61e",
   "metadata": {},
   "source": [
    "Functions with return statement are called Fruitful function."
   ]
  },
  {
   "cell_type": "code",
   "execution_count": 10,
   "id": "aa13a2dd",
   "metadata": {},
   "outputs": [
    {
     "name": "stdout",
     "output_type": "stream",
     "text": [
      "Enter the 1st num:12\n",
      "Enter the 2nd num:34\n",
      "34 is greater\n"
     ]
    }
   ],
   "source": [
    "#Write a python function that takes two integer input from user and print greater number. \n",
    "\n",
    "def greatnum():\n",
    "    num1=int(input(\"Enter the 1st num:\"))\n",
    "    num2=int(input(\"Enter the 2nd num:\"))\n",
    "    \n",
    "    if num1>num2:\n",
    "        return f\"{num1} is greater\"\n",
    "    else:\n",
    "        return f\"{num2} is greater\"   \n",
    "\n",
    "result=greatnum()\n",
    "print(result)"
   ]
  },
  {
   "cell_type": "markdown",
   "id": "63c3b120",
   "metadata": {},
   "source": [
    "# 5. Create function with parameters and with return statement"
   ]
  },
  {
   "cell_type": "code",
   "execution_count": 13,
   "id": "efce15a8",
   "metadata": {},
   "outputs": [
    {
     "name": "stdout",
     "output_type": "stream",
     "text": [
      "Enter the 1st num:12\n",
      "Enter the 2nd num:34\n",
      "34 is greater\n"
     ]
    }
   ],
   "source": [
    "#Write a python function that takes two integer input from user and print greater number. \n",
    "\n",
    "def greatnum(num1,num2):\n",
    "   \n",
    "    if num1>num2:\n",
    "        return f\"{num1} is greater\"\n",
    "    else:\n",
    "        return f\"{num2} is greater\"   \n",
    "\n",
    "num1=int(input(\"Enter the 1st num:\"))\n",
    "num2=int(input(\"Enter the 2nd num:\"))\n",
    "    \n",
    "result=greatnum(num1,num2)\n",
    "print(result)"
   ]
  },
  {
   "cell_type": "markdown",
   "id": "39b37a3b",
   "metadata": {},
   "source": [
    "# 6. Local & Global Variable"
   ]
  },
  {
   "cell_type": "code",
   "execution_count": 3,
   "id": "cd36adcb",
   "metadata": {},
   "outputs": [
    {
     "name": "stdout",
     "output_type": "stream",
     "text": [
      "10\n",
      "20\n"
     ]
    }
   ],
   "source": [
    "x=20 #global variable\n",
    "\n",
    "def my_fun():\n",
    "    x=10 #local variable\n",
    "    print(x)\n",
    "    \n",
    "my_fun()\n",
    "print(x)"
   ]
  },
  {
   "cell_type": "code",
   "execution_count": 8,
   "id": "96c57c0c",
   "metadata": {},
   "outputs": [
    {
     "name": "stdout",
     "output_type": "stream",
     "text": [
      "The value of x is 30\n",
      "I am outside the function:30\n"
     ]
    }
   ],
   "source": [
    "x=25\n",
    "\n",
    "def my_fun():\n",
    "    global x\n",
    "    x+=5\n",
    "    print(f\"The value of x is {x}\")\n",
    "my_fun()\n",
    "\n",
    "print(f\"I am outside the function:{x}\")"
   ]
  },
  {
   "cell_type": "markdown",
   "id": "510ec77e",
   "metadata": {},
   "source": [
    "# 7. Arbitrary Positional Arguments, *args"
   ]
  },
  {
   "cell_type": "code",
   "execution_count": 6,
   "id": "dd8e9ed0",
   "metadata": {},
   "outputs": [
    {
     "name": "stdout",
     "output_type": "stream",
     "text": [
      "(1, 2, 3, 4, 5, 6)\n",
      "('Hi', 'Hello')\n"
     ]
    }
   ],
   "source": [
    "\n",
    "def my_args(*args):\n",
    "\n",
    "        print(args)\n",
    "        \n",
    "my_args(1,2,3,4,5,6)\n",
    "my_args(\"Hi\",\"Hello\")"
   ]
  },
  {
   "cell_type": "code",
   "execution_count": 8,
   "id": "b059ff99",
   "metadata": {},
   "outputs": [
    {
     "name": "stdout",
     "output_type": "stream",
     "text": [
      "The result is 720.\n"
     ]
    }
   ],
   "source": [
    "#Write a python function that return multiplication of all the numbers passed by user as a argument.\n",
    "def mul(*args):\n",
    "    c=1\n",
    "    for nums in args:\n",
    "        c=c*nums\n",
    "    return c\n",
    "       \n",
    "result=mul(1,2,3,4,5,6)\n",
    "print(f\"The result is {result}.\")\n"
   ]
  },
  {
   "cell_type": "markdown",
   "id": "659f7f1a",
   "metadata": {},
   "source": [
    "# 8. Keyword Arguments"
   ]
  },
  {
   "cell_type": "code",
   "execution_count": 11,
   "id": "a71b3d99",
   "metadata": {},
   "outputs": [
    {
     "ename": "NameError",
     "evalue": "name 'items' is not defined",
     "output_type": "error",
     "traceback": [
      "\u001b[1;31m---------------------------------------------------------------------------\u001b[0m",
      "\u001b[1;31mNameError\u001b[0m                                 Traceback (most recent call last)",
      "Cell \u001b[1;32mIn[11], line 6\u001b[0m\n\u001b[0;32m      2\u001b[0m     \u001b[38;5;28;01mfor\u001b[39;00m key \u001b[38;5;129;01min\u001b[39;00m kwargs:\n\u001b[0;32m      3\u001b[0m         \u001b[38;5;28mprint\u001b[39m(items)\n\u001b[1;32m----> 6\u001b[0m detail(name\u001b[38;5;241m=\u001b[39m\u001b[38;5;124m\"\u001b[39m\u001b[38;5;124mAnu\u001b[39m\u001b[38;5;124m\"\u001b[39m,age\u001b[38;5;241m=\u001b[39m\u001b[38;5;241m22\u001b[39m)\n\u001b[0;32m      7\u001b[0m detail(course\u001b[38;5;241m=\u001b[39m\u001b[38;5;124m\"\u001b[39m\u001b[38;5;124mpython\u001b[39m\u001b[38;5;124m\"\u001b[39m,cost\u001b[38;5;241m=\u001b[39m\u001b[38;5;241m4000\u001b[39m)\n",
      "Cell \u001b[1;32mIn[11], line 3\u001b[0m, in \u001b[0;36mdetail\u001b[1;34m(**kwargs)\u001b[0m\n\u001b[0;32m      1\u001b[0m \u001b[38;5;28;01mdef\u001b[39;00m \u001b[38;5;21mdetail\u001b[39m(\u001b[38;5;241m*\u001b[39m\u001b[38;5;241m*\u001b[39mkwargs):\n\u001b[0;32m      2\u001b[0m     \u001b[38;5;28;01mfor\u001b[39;00m key \u001b[38;5;129;01min\u001b[39;00m kwargs:\n\u001b[1;32m----> 3\u001b[0m         \u001b[38;5;28mprint\u001b[39m(items)\n",
      "\u001b[1;31mNameError\u001b[0m: name 'items' is not defined"
     ]
    }
   ],
   "source": [
    "def detail(**kwargs):\n",
    "    for key in kwargs:\n",
    "        print(items)\n",
    "    \n",
    "    \n",
    "detail(name=\"Anu\",age=22)\n",
    "detail(course=\"python\",cost=4000)"
   ]
  },
  {
   "cell_type": "code",
   "execution_count": null,
   "id": "6ab23486",
   "metadata": {},
   "outputs": [],
   "source": []
  }
 ],
 "metadata": {
  "kernelspec": {
   "display_name": "Python 3 (ipykernel)",
   "language": "python",
   "name": "python3"
  },
  "language_info": {
   "codemirror_mode": {
    "name": "ipython",
    "version": 3
   },
   "file_extension": ".py",
   "mimetype": "text/x-python",
   "name": "python",
   "nbconvert_exporter": "python",
   "pygments_lexer": "ipython3",
   "version": "3.11.5"
  }
 },
 "nbformat": 4,
 "nbformat_minor": 5
}
