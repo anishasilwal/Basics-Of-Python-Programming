{
 "cells": [
  {
   "cell_type": "markdown",
   "id": "49ec1e81",
   "metadata": {},
   "source": [
    "A function is a reusable block of code which only runs when it is called."
   ]
  },
  {
   "cell_type": "markdown",
   "id": "1c037169",
   "metadata": {},
   "source": [
    "When to use functions?\n",
    "\n",
    "Use functions when you plan on using a block of code multiple times."
   ]
  },
  {
   "cell_type": "markdown",
   "id": "91ae8a52",
   "metadata": {},
   "source": [
    "Types Of functions:\n",
    "\n",
    "1. Pre-defined functions\n",
    "2. User defined functions"
   ]
  },
  {
   "cell_type": "markdown",
   "id": "dced5cd6",
   "metadata": {},
   "source": [
    "# 1. Anatomy of function"
   ]
  },
  {
   "cell_type": "markdown",
   "id": "9ac8e45a",
   "metadata": {},
   "source": [
    "def keyword is used for creating a uder-defined function in python."
   ]
  },
  {
   "cell_type": "code",
   "execution_count": 2,
   "id": "04caa38c",
   "metadata": {},
   "outputs": [
    {
     "name": "stdout",
     "output_type": "stream",
     "text": [
      "Hello this is a function!!!!!!\n"
     ]
    }
   ],
   "source": [
    "def myfun():\n",
    "    print(\"Hello this is a function!!!!!!\")\n",
    "\n",
    "myfun()"
   ]
  },
  {
   "cell_type": "markdown",
   "id": "021d80ec",
   "metadata": {},
   "source": [
    "# 2. Create a function without parameters and without return statement."
   ]
  },
  {
   "cell_type": "markdown",
   "id": "16617953",
   "metadata": {},
   "source": [
    "Function without return statement are called Void function."
   ]
  },
  {
   "cell_type": "code",
   "execution_count": 7,
   "id": "693e9c89",
   "metadata": {},
   "outputs": [
    {
     "name": "stdout",
     "output_type": "stream",
     "text": [
      "Enter the 1st num:12\n",
      "Enter the 2nd num:34\n",
      "34 is greater.\n"
     ]
    }
   ],
   "source": [
    "#Write a python function that takes two integer input from user and print greater number. \n",
    "\n",
    "def greatnum():\n",
    "    num1=int(input(\"Enter the 1st num:\"))\n",
    "    num2=int(input(\"Enter the 2nd num:\"))\n",
    "    \n",
    "    if num1>num2:\n",
    "        print(f\"{num1} is greater.\")\n",
    "    else:\n",
    "        print(f\"{num2} is greater.\")    \n",
    "\n",
    "greatnum()"
   ]
  },
  {
   "cell_type": "markdown",
   "id": "f3ab5a85",
   "metadata": {},
   "source": [
    "# 3. Create function with parameters and without return statement"
   ]
  },
  {
   "cell_type": "code",
   "execution_count": 8,
   "id": "a4fe3165",
   "metadata": {},
   "outputs": [
    {
     "name": "stdout",
     "output_type": "stream",
     "text": [
      "Enter the 1st num:12\n",
      "Enter the 2nd num:34\n",
      "34 is greater.\n"
     ]
    }
   ],
   "source": [
    "#Write a python function that takes two integer input from user pass them as argument to function and print greater number.\n",
    "def greatnum(num1,num2):\n",
    "   \n",
    "    if num1>num2:\n",
    "        print(f\"{num1} is greater.\")\n",
    "    else:\n",
    "        print(f\"{num2} is greater.\")    \n",
    "\n",
    "        \n",
    "num1=int(input(\"Enter the 1st num:\"))\n",
    "num2=int(input(\"Enter the 2nd num:\"))   \n",
    "greatnum(num1,num2)"
   ]
  },
  {
   "cell_type": "markdown",
   "id": "ce0e9798",
   "metadata": {},
   "source": [
    "# 4.Create function without parameters and with return statement"
   ]
  },
  {
   "cell_type": "markdown",
   "id": "e28dd61e",
   "metadata": {},
   "source": [
    "Functions with return statement are called Fruitful function."
   ]
  },
  {
   "cell_type": "code",
   "execution_count": 10,
   "id": "aa13a2dd",
   "metadata": {},
   "outputs": [
    {
     "name": "stdout",
     "output_type": "stream",
     "text": [
      "Enter the 1st num:12\n",
      "Enter the 2nd num:34\n",
      "34 is greater\n"
     ]
    }
   ],
   "source": [
    "#Write a python function that takes two integer input from user and print greater number. \n",
    "\n",
    "def greatnum():\n",
    "    num1=int(input(\"Enter the 1st num:\"))\n",
    "    num2=int(input(\"Enter the 2nd num:\"))\n",
    "    \n",
    "    if num1>num2:\n",
    "        return f\"{num1} is greater\"\n",
    "    else:\n",
    "        return f\"{num2} is greater\"   \n",
    "\n",
    "result=greatnum()\n",
    "print(result)"
   ]
  },
  {
   "cell_type": "markdown",
   "id": "63c3b120",
   "metadata": {},
   "source": [
    "# 5. Create function with parameters and with return statement"
   ]
  },
  {
   "cell_type": "code",
   "execution_count": 13,
   "id": "efce15a8",
   "metadata": {},
   "outputs": [
    {
     "name": "stdout",
     "output_type": "stream",
     "text": [
      "Enter the 1st num:12\n",
      "Enter the 2nd num:34\n",
      "34 is greater\n"
     ]
    }
   ],
   "source": [
    "#Write a python function that takes two integer input from user and print greater number. \n",
    "\n",
    "def greatnum(num1,num2):\n",
    "   \n",
    "    if num1>num2:\n",
    "        return f\"{num1} is greater\"\n",
    "    else:\n",
    "        return f\"{num2} is greater\"   \n",
    "\n",
    "num1=int(input(\"Enter the 1st num:\"))\n",
    "num2=int(input(\"Enter the 2nd num:\"))\n",
    "    \n",
    "result=greatnum(num1,num2)\n",
    "print(result)"
   ]
  },
  {
   "cell_type": "code",
   "execution_count": null,
   "id": "094085fe",
   "metadata": {},
   "outputs": [],
   "source": []
  }
 ],
 "metadata": {
  "kernelspec": {
   "display_name": "Python 3 (ipykernel)",
   "language": "python",
   "name": "python3"
  },
  "language_info": {
   "codemirror_mode": {
    "name": "ipython",
    "version": 3
   },
   "file_extension": ".py",
   "mimetype": "text/x-python",
   "name": "python",
   "nbconvert_exporter": "python",
   "pygments_lexer": "ipython3",
   "version": "3.11.5"
  }
 },
 "nbformat": 4,
 "nbformat_minor": 5
}
