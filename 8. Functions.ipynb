{
 "cells": [
  {
   "cell_type": "markdown",
   "id": "49ec1e81",
   "metadata": {},
   "source": [
    "A function is a reusable block of code which only runs when it is called."
   ]
  },
  {
   "cell_type": "markdown",
   "id": "1c037169",
   "metadata": {},
   "source": [
    "When to use functions?\n",
    "\n",
    "Use functions when you plan on using a block of code multiple times."
   ]
  },
  {
   "cell_type": "markdown",
   "id": "91ae8a52",
   "metadata": {},
   "source": [
    "Types Of functions:\n",
    "\n",
    "1. Pre-defined functions\n",
    "2. User defined functions"
   ]
  },
  {
   "cell_type": "markdown",
   "id": "dced5cd6",
   "metadata": {},
   "source": [
    "# 1. Anatomy of function"
   ]
  },
  {
   "cell_type": "markdown",
   "id": "9ac8e45a",
   "metadata": {},
   "source": [
    "def keyword is used for creating a uder-defined function in python."
   ]
  },
  {
   "cell_type": "code",
   "execution_count": 2,
   "id": "04caa38c",
   "metadata": {},
   "outputs": [
    {
     "name": "stdout",
     "output_type": "stream",
     "text": [
      "Hello this is a function!!!!!!\n"
     ]
    }
   ],
   "source": [
    "def myfun():\n",
    "    print(\"Hello this is a function!!!!!!\")\n",
    "\n",
    "myfun()"
   ]
  },
  {
   "cell_type": "markdown",
   "id": "021d80ec",
   "metadata": {},
   "source": [
    "# 2. Create a function without parameters and without return statement."
   ]
  },
  {
   "cell_type": "markdown",
   "id": "16617953",
   "metadata": {},
   "source": [
    "Function without return statement are called Void function."
   ]
  },
  {
   "cell_type": "code",
   "execution_count": 7,
   "id": "693e9c89",
   "metadata": {},
   "outputs": [
    {
     "name": "stdout",
     "output_type": "stream",
     "text": [
      "Enter the 1st num:12\n",
      "Enter the 2nd num:34\n",
      "34 is greater.\n"
     ]
    }
   ],
   "source": [
    "#Write a python function that takes two integer input from user and print greater number. \n",
    "\n",
    "def greatnum():\n",
    "    num1=int(input(\"Enter the 1st num:\"))\n",
    "    num2=int(input(\"Enter the 2nd num:\"))\n",
    "    \n",
    "    if num1>num2:\n",
    "        print(f\"{num1} is greater.\")\n",
    "    else:\n",
    "        print(f\"{num2} is greater.\")    \n",
    "\n",
    "greatnum()"
   ]
  },
  {
   "cell_type": "markdown",
   "id": "f3ab5a85",
   "metadata": {},
   "source": [
    "# 3. Create function with parameters and without return statement"
   ]
  },
  {
   "cell_type": "code",
   "execution_count": 8,
   "id": "a4fe3165",
   "metadata": {},
   "outputs": [
    {
     "name": "stdout",
     "output_type": "stream",
     "text": [
      "Enter the 1st num:12\n",
      "Enter the 2nd num:34\n",
      "34 is greater.\n"
     ]
    }
   ],
   "source": [
    "#Write a python function that takes two integer input from user pass them as argument to function and print greater number.\n",
    "def greatnum(num1,num2):\n",
    "   \n",
    "    if num1>num2:\n",
    "        print(f\"{num1} is greater.\")\n",
    "    else:\n",
    "        print(f\"{num2} is greater.\")    \n",
    "\n",
    "        \n",
    "num1=int(input(\"Enter the 1st num:\"))\n",
    "num2=int(input(\"Enter the 2nd num:\"))   \n",
    "greatnum(num1,num2)"
   ]
  },
  {
   "cell_type": "markdown",
   "id": "ce0e9798",
   "metadata": {},
   "source": [
    "# 4.Create function without parameters and with return statement"
   ]
  },
  {
   "cell_type": "markdown",
   "id": "e28dd61e",
   "metadata": {},
   "source": [
    "Functions with return statement are called Fruitful function."
   ]
  },
  {
   "cell_type": "code",
   "execution_count": 10,
   "id": "aa13a2dd",
   "metadata": {},
   "outputs": [
    {
     "name": "stdout",
     "output_type": "stream",
     "text": [
      "Enter the 1st num:12\n",
      "Enter the 2nd num:34\n",
      "34 is greater\n"
     ]
    }
   ],
   "source": [
    "#Write a python function that takes two integer input from user and print greater number. \n",
    "\n",
    "def greatnum():\n",
    "    num1=int(input(\"Enter the 1st num:\"))\n",
    "    num2=int(input(\"Enter the 2nd num:\"))\n",
    "    \n",
    "    if num1>num2:\n",
    "        return f\"{num1} is greater\"\n",
    "    else:\n",
    "        return f\"{num2} is greater\"   \n",
    "\n",
    "result=greatnum()\n",
    "print(result)"
   ]
  },
  {
   "cell_type": "markdown",
   "id": "63c3b120",
   "metadata": {},
   "source": [
    "# 5. Create function with parameters and with return statement"
   ]
  },
  {
   "cell_type": "code",
   "execution_count": 13,
   "id": "efce15a8",
   "metadata": {},
   "outputs": [
    {
     "name": "stdout",
     "output_type": "stream",
     "text": [
      "Enter the 1st num:12\n",
      "Enter the 2nd num:34\n",
      "34 is greater\n"
     ]
    }
   ],
   "source": [
    "#Write a python function that takes two integer input from user and print greater number. \n",
    "\n",
    "def greatnum(num1,num2):\n",
    "   \n",
    "    if num1>num2:\n",
    "        return f\"{num1} is greater\"\n",
    "    else:\n",
    "        return f\"{num2} is greater\"   \n",
    "\n",
    "num1=int(input(\"Enter the 1st num:\"))\n",
    "num2=int(input(\"Enter the 2nd num:\"))\n",
    "    \n",
    "result=greatnum(num1,num2)\n",
    "print(result)"
   ]
  },
  {
   "cell_type": "markdown",
   "id": "39b37a3b",
   "metadata": {},
   "source": [
    "# 6. Local & Global Variable"
   ]
  },
  {
   "cell_type": "code",
   "execution_count": 3,
   "id": "cd36adcb",
   "metadata": {},
   "outputs": [
    {
     "name": "stdout",
     "output_type": "stream",
     "text": [
      "10\n",
      "20\n"
     ]
    }
   ],
   "source": [
    "x=20 #global variable\n",
    "\n",
    "def my_fun():\n",
    "    x=10 #local variable\n",
    "    print(x)\n",
    "    \n",
    "my_fun()\n",
    "print(x)"
   ]
  },
  {
   "cell_type": "code",
   "execution_count": 8,
   "id": "96c57c0c",
   "metadata": {},
   "outputs": [
    {
     "name": "stdout",
     "output_type": "stream",
     "text": [
      "The value of x is 30\n",
      "I am outside the function:30\n"
     ]
    }
   ],
   "source": [
    "x=25\n",
    "\n",
    "def my_fun():\n",
    "    global x\n",
    "    x+=5\n",
    "    print(f\"The value of x is {x}\")\n",
    "my_fun()\n",
    "\n",
    "print(f\"I am outside the function:{x}\")"
   ]
  },
  {
   "cell_type": "markdown",
   "id": "510ec77e",
   "metadata": {},
   "source": [
    "# 7. Arbitrary Positional Arguments, *args"
   ]
  },
  {
   "cell_type": "code",
   "execution_count": 6,
   "id": "dd8e9ed0",
   "metadata": {},
   "outputs": [
    {
     "name": "stdout",
     "output_type": "stream",
     "text": [
      "(1, 2, 3, 4, 5, 6)\n",
      "('Hi', 'Hello')\n"
     ]
    }
   ],
   "source": [
    "\n",
    "def my_args(*args):\n",
    "\n",
    "        print(args)\n",
    "        \n",
    "my_args(1,2,3,4,5,6)\n",
    "my_args(\"Hi\",\"Hello\")"
   ]
  },
  {
   "cell_type": "code",
   "execution_count": 8,
   "id": "b059ff99",
   "metadata": {},
   "outputs": [
    {
     "name": "stdout",
     "output_type": "stream",
     "text": [
      "The result is 720.\n"
     ]
    }
   ],
   "source": [
    "#Write a python function that return multiplication of all the numbers passed by user as a argument.\n",
    "def mul(*args):\n",
    "    c=1\n",
    "    for nums in args:\n",
    "        c=c*nums\n",
    "    return c\n",
    "       \n",
    "result=mul(1,2,3,4,5,6)\n",
    "print(f\"The result is {result}.\")\n"
   ]
  },
  {
   "cell_type": "markdown",
   "id": "20ad76b9",
   "metadata": {},
   "source": [
    "# 8. Keyword Arguments"
   ]
  },
  {
   "cell_type": "code",
   "execution_count": 17,
   "id": "f0e017c1",
   "metadata": {},
   "outputs": [
    {
     "name": "stdout",
     "output_type": "stream",
     "text": [
      "name Anu\n",
      "age 22\n",
      "course python\n",
      "cost 4000\n"
     ]
    }
   ],
   "source": [
    "def detail(**kwargs):\n",
    "    for key,values in kwargs.items():\n",
    "        print(key,values)\n",
    "    \n",
    "    \n",
    "detail(name=\"Anu\",age=22)\n",
    "detail(course=\"python\",cost=4000)"
   ]
  },
  {
   "cell_type": "markdown",
   "id": "d14ebefe",
   "metadata": {},
   "source": [
    "# 9. Default Parameter Value"
   ]
  },
  {
   "cell_type": "code",
   "execution_count": 2,
   "id": "07fe0e56",
   "metadata": {},
   "outputs": [
    {
     "name": "stdout",
     "output_type": "stream",
     "text": [
      "How are you!!\n",
      "What is your name?\n",
      "hello_world\n"
     ]
    }
   ],
   "source": [
    "'''What if you do not want to pass arguments at the time of function call but function is expecting some parameters?\n",
    "\n",
    "Ans: You can use concept of Default parameter value.`'''\n",
    "\n",
    "# write your program here\n",
    "def print_message(msg = 'hello_world'):\n",
    "  print(msg)\n",
    "\n",
    "print_message('How are you!!') # output: How are you!!\n",
    "print_message(msg='What is your name?') # output: What is your name?\n",
    "print_message() # output: hello_world"
   ]
  },
  {
   "cell_type": "markdown",
   "id": "c4e4b09f",
   "metadata": {},
   "source": [
    "# 10. Pass Keyword"
   ]
  },
  {
   "cell_type": "markdown",
   "id": "267a2c23",
   "metadata": {},
   "source": [
    "functions definition cannot be empty.\n",
    "\n",
    "Q. What if you only want to define a function and write code logic later?\n",
    "\n",
    "In such scenario we can use pass keyword, which simply acts as a placeholder for code logic to be added later.\n",
    "\n"
   ]
  },
  {
   "cell_type": "code",
   "execution_count": 4,
   "id": "a7f432d4",
   "metadata": {},
   "outputs": [],
   "source": [
    "def function1():\n",
    "     pass\n",
    "\n",
    "def function2():\n",
    "     pass\n",
    "\n",
    "def function3():\n",
    "    pass"
   ]
  },
  {
   "cell_type": "markdown",
   "id": "815c1b14",
   "metadata": {},
   "source": [
    "# 11. Recall Pre-defined functions"
   ]
  },
  {
   "cell_type": "markdown",
   "id": "89377a3d",
   "metadata": {},
   "source": [
    "Pre-defined functions, also know as built-in functions, are functions that are included in the Python programming language by default."
   ]
  },
  {
   "cell_type": "code",
   "execution_count": null,
   "id": "d9b805d6",
   "metadata": {},
   "outputs": [],
   "source": []
  },
  {
   "cell_type": "markdown",
   "id": "6f978bec",
   "metadata": {},
   "source": [
    "# 12.  Math Module"
   ]
  },
  {
   "cell_type": "code",
   "execution_count": null,
   "id": "3c47a5cd",
   "metadata": {},
   "outputs": [],
   "source": []
  },
  {
   "cell_type": "markdown",
   "id": "02d2da7b",
   "metadata": {},
   "source": [
    "# 13.Recursion"
   ]
  },
  {
   "cell_type": "code",
   "execution_count": null,
   "id": "c2d17904",
   "metadata": {},
   "outputs": [],
   "source": []
  },
  {
   "cell_type": "markdown",
   "id": "1c3f89b6",
   "metadata": {},
   "source": [
    "# Assignments"
   ]
  },
  {
   "cell_type": "code",
   "execution_count": 5,
   "id": "82dcd7d2",
   "metadata": {},
   "outputs": [],
   "source": [
    "#Q.1 Write a python function to multiply all the numbers in a list"
   ]
  },
  {
   "cell_type": "code",
   "execution_count": null,
   "id": "be4ddf9c",
   "metadata": {},
   "outputs": [],
   "source": [
    "#Q.2 Write a python function to reverse a string"
   ]
  },
  {
   "cell_type": "code",
   "execution_count": null,
   "id": "60ce3c27",
   "metadata": {},
   "outputs": [],
   "source": [
    "#Q.3 Write a python function to find factorial of a given non negativenumber\n",
    "\n"
   ]
  },
  {
   "cell_type": "code",
   "execution_count": null,
   "id": "017da5a3",
   "metadata": {},
   "outputs": [],
   "source": [
    "#Q.4 Write a python function to reverse a string"
   ]
  },
  {
   "cell_type": "code",
   "execution_count": null,
   "id": "56541ded",
   "metadata": {},
   "outputs": [],
   "source": [
    "#Q.5 Write a python function that accepts a string and calculate the number of upper case letters and lower case letters"
   ]
  },
  {
   "cell_type": "code",
   "execution_count": null,
   "id": "e549b49b",
   "metadata": {},
   "outputs": [],
   "source": [
    "#Q.6 Write a python function that takes a list and returns a new list with unique elements of the first list"
   ]
  },
  {
   "cell_type": "code",
   "execution_count": null,
   "id": "bef60e05",
   "metadata": {},
   "outputs": [],
   "source": [
    "#Q.7 Write a Python function that takes a number as a parameter and check the number is prime or not."
   ]
  },
  {
   "cell_type": "code",
   "execution_count": null,
   "id": "4ebac7ca",
   "metadata": {},
   "outputs": [],
   "source": [
    "#Q.8 Write a python function to print the even numbers from a given list."
   ]
  }
 ],
 "metadata": {
  "kernelspec": {
   "display_name": "Python 3 (ipykernel)",
   "language": "python",
   "name": "python3"
  },
  "language_info": {
   "codemirror_mode": {
    "name": "ipython",
    "version": 3
   },
   "file_extension": ".py",
   "mimetype": "text/x-python",
   "name": "python",
   "nbconvert_exporter": "python",
   "pygments_lexer": "ipython3",
   "version": "3.11.5"
  }
 },
 "nbformat": 4,
 "nbformat_minor": 5
}
