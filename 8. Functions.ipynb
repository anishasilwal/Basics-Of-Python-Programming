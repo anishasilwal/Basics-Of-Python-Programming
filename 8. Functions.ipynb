{
 "cells": [
  {
   "cell_type": "markdown",
   "id": "49ec1e81",
   "metadata": {},
   "source": [
    "A function is a reusable block of code which only runs when it is called."
   ]
  },
  {
   "cell_type": "markdown",
   "id": "1c037169",
   "metadata": {},
   "source": [
    "When to use functions?\n",
    "\n",
    "Use functions when you plan on using a block of code multiple times."
   ]
  },
  {
   "cell_type": "markdown",
   "id": "91ae8a52",
   "metadata": {},
   "source": [
    "Types Of functions:\n",
    "\n",
    "1. Pre-defined functions\n",
    "2. User defined functions"
   ]
  },
  {
   "cell_type": "markdown",
   "id": "dced5cd6",
   "metadata": {},
   "source": [
    "# 1. Anatomy of function"
   ]
  },
  {
   "cell_type": "markdown",
   "id": "9ac8e45a",
   "metadata": {},
   "source": [
    "def keyword is used for creating a uder-defined function in python."
   ]
  },
  {
   "cell_type": "code",
   "execution_count": 1,
   "id": "04caa38c",
   "metadata": {},
   "outputs": [
    {
     "name": "stdout",
     "output_type": "stream",
     "text": [
      "Hello this is a function!!!!!!\n"
     ]
    }
   ],
   "source": [
    "def myfun():\n",
    "    print(\"Hello this is a function!!!!!!\")\n",
    "\n",
    "myfun()"
   ]
  },
  {
   "cell_type": "markdown",
   "id": "021d80ec",
   "metadata": {},
   "source": [
    "# 2. Create a function without parameters and without return statement."
   ]
  },
  {
   "cell_type": "markdown",
   "id": "16617953",
   "metadata": {},
   "source": [
    "Function without return statement are called Void function."
   ]
  },
  {
   "cell_type": "code",
   "execution_count": 2,
   "id": "693e9c89",
   "metadata": {},
   "outputs": [
    {
     "name": "stdout",
     "output_type": "stream",
     "text": [
      "Enter the 1st num:12\n",
      "Enter the 2nd num:77\n",
      "77 is greater.\n"
     ]
    }
   ],
   "source": [
    "#Write a python function that takes two integer input from user and print greater number. \n",
    "\n",
    "def greatnum():\n",
    "    num1=int(input(\"Enter the 1st num:\"))\n",
    "    num2=int(input(\"Enter the 2nd num:\"))\n",
    "    \n",
    "    if num1>num2:\n",
    "        print(f\"{num1} is greater.\")\n",
    "    else:\n",
    "        print(f\"{num2} is greater.\")    \n",
    "\n",
    "greatnum()"
   ]
  },
  {
   "cell_type": "markdown",
   "id": "f3ab5a85",
   "metadata": {},
   "source": [
    "# 3. Create function with parameters and without return statement"
   ]
  },
  {
   "cell_type": "code",
   "execution_count": 3,
   "id": "a4fe3165",
   "metadata": {},
   "outputs": [
    {
     "name": "stdout",
     "output_type": "stream",
     "text": [
      "Enter the 1st num:24\n",
      "Enter the 2nd num:88\n",
      "88 is greater.\n"
     ]
    }
   ],
   "source": [
    "#Write a python function that takes two integer input from user pass them as argument to function and print greater number.\n",
    "def greatnum(num1,num2):\n",
    "   \n",
    "    if num1>num2:\n",
    "        print(f\"{num1} is greater.\")\n",
    "    else:\n",
    "        print(f\"{num2} is greater.\")    \n",
    "\n",
    "        \n",
    "num1=int(input(\"Enter the 1st num:\"))\n",
    "num2=int(input(\"Enter the 2nd num:\"))   \n",
    "greatnum(num1,num2)"
   ]
  },
  {
   "cell_type": "markdown",
   "id": "ce0e9798",
   "metadata": {},
   "source": [
    "# 4.Create function without parameters and with return statement"
   ]
  },
  {
   "cell_type": "markdown",
   "id": "e28dd61e",
   "metadata": {},
   "source": [
    "Functions with return statement are called Fruitful function."
   ]
  },
  {
   "cell_type": "code",
   "execution_count": 4,
   "id": "aa13a2dd",
   "metadata": {},
   "outputs": [
    {
     "name": "stdout",
     "output_type": "stream",
     "text": [
      "Enter the 1st num:88\n",
      "Enter the 2nd num:100\n",
      "100 is greater\n"
     ]
    }
   ],
   "source": [
    "#Write a python function that takes two integer input from user and print greater number. \n",
    "\n",
    "def greatnum():\n",
    "    num1=int(input(\"Enter the 1st num:\"))\n",
    "    num2=int(input(\"Enter the 2nd num:\"))\n",
    "    \n",
    "    if num1>num2:\n",
    "        return f\"{num1} is greater\"\n",
    "    else:\n",
    "        return f\"{num2} is greater\"   \n",
    "\n",
    "result=greatnum()\n",
    "print(result)"
   ]
  },
  {
   "cell_type": "markdown",
   "id": "63c3b120",
   "metadata": {},
   "source": [
    "# 5. Create function with parameters and with return statement"
   ]
  },
  {
   "cell_type": "code",
   "execution_count": 5,
   "id": "efce15a8",
   "metadata": {},
   "outputs": [
    {
     "name": "stdout",
     "output_type": "stream",
     "text": [
      "Enter the 1st num:78\n",
      "Enter the 2nd num:23\n",
      "78 is greater\n"
     ]
    }
   ],
   "source": [
    "#Write a python function that takes two integer input from user and print greater number. \n",
    "\n",
    "def greatnum(num1,num2):\n",
    "   \n",
    "    if num1>num2:\n",
    "        return f\"{num1} is greater\"\n",
    "    else:\n",
    "        return f\"{num2} is greater\"   \n",
    "\n",
    "num1=int(input(\"Enter the 1st num:\"))\n",
    "num2=int(input(\"Enter the 2nd num:\"))\n",
    "    \n",
    "result=greatnum(num1,num2)\n",
    "print(result)"
   ]
  },
  {
   "cell_type": "markdown",
   "id": "39b37a3b",
   "metadata": {},
   "source": [
    "# 6. Local & Global Variable"
   ]
  },
  {
   "cell_type": "code",
   "execution_count": 6,
   "id": "cd36adcb",
   "metadata": {},
   "outputs": [
    {
     "name": "stdout",
     "output_type": "stream",
     "text": [
      "10\n",
      "20\n"
     ]
    }
   ],
   "source": [
    "x=20 #global variable\n",
    "\n",
    "def my_fun():\n",
    "    x=10 #local variable\n",
    "    print(x)\n",
    "    \n",
    "my_fun()\n",
    "print(x)"
   ]
  },
  {
   "cell_type": "code",
   "execution_count": 7,
   "id": "96c57c0c",
   "metadata": {},
   "outputs": [
    {
     "name": "stdout",
     "output_type": "stream",
     "text": [
      "The value of x is 30\n",
      "I am outside the function:30\n"
     ]
    }
   ],
   "source": [
    "x=25\n",
    "\n",
    "def my_fun():\n",
    "    global x\n",
    "    x+=5\n",
    "    print(f\"The value of x is {x}\")\n",
    "my_fun()\n",
    "\n",
    "print(f\"I am outside the function:{x}\")"
   ]
  },
  {
   "cell_type": "markdown",
   "id": "510ec77e",
   "metadata": {},
   "source": [
    "# 7. Arbitrary Positional Arguments, *args"
   ]
  },
  {
   "cell_type": "code",
   "execution_count": 8,
   "id": "dd8e9ed0",
   "metadata": {},
   "outputs": [
    {
     "name": "stdout",
     "output_type": "stream",
     "text": [
      "(1, 2, 3, 4, 5, 6)\n",
      "('Hi', 'Hello')\n"
     ]
    }
   ],
   "source": [
    "\n",
    "def my_args(*args):\n",
    "\n",
    "        print(args)\n",
    "        \n",
    "my_args(1,2,3,4,5,6)\n",
    "my_args(\"Hi\",\"Hello\")"
   ]
  },
  {
   "cell_type": "code",
   "execution_count": 9,
   "id": "b059ff99",
   "metadata": {},
   "outputs": [
    {
     "name": "stdout",
     "output_type": "stream",
     "text": [
      "The result is 720.\n"
     ]
    }
   ],
   "source": [
    "#Write a python function that return multiplication of all the numbers passed by user as a argument.\n",
    "def mul(*args):\n",
    "    c=1\n",
    "    for nums in args:\n",
    "        c=c*nums\n",
    "    return c\n",
    "       \n",
    "result=mul(1,2,3,4,5,6)\n",
    "print(f\"The result is {result}.\")\n"
   ]
  },
  {
   "cell_type": "markdown",
   "id": "20ad76b9",
   "metadata": {},
   "source": [
    "# 8. Keyword Arguments"
   ]
  },
  {
   "cell_type": "code",
   "execution_count": 10,
   "id": "f0e017c1",
   "metadata": {},
   "outputs": [
    {
     "name": "stdout",
     "output_type": "stream",
     "text": [
      "name Anu\n",
      "age 22\n",
      "course python\n",
      "cost 4000\n"
     ]
    }
   ],
   "source": [
    "def detail(**kwargs):\n",
    "    for key,values in kwargs.items():\n",
    "        print(key,values)\n",
    "    \n",
    "    \n",
    "detail(name=\"Anu\",age=22)\n",
    "detail(course=\"python\",cost=4000)"
   ]
  },
  {
   "cell_type": "markdown",
   "id": "d14ebefe",
   "metadata": {},
   "source": [
    "# 9. Default Parameter Value"
   ]
  },
  {
   "cell_type": "code",
   "execution_count": 11,
   "id": "07fe0e56",
   "metadata": {},
   "outputs": [
    {
     "name": "stdout",
     "output_type": "stream",
     "text": [
      "How are you!!\n",
      "What is your name?\n",
      "hello_world\n"
     ]
    }
   ],
   "source": [
    "'''What if you do not want to pass arguments at the time of function call but function is expecting some parameters?\n",
    "\n",
    "Ans: You can use concept of Default parameter value.`'''\n",
    "\n",
    "# write your program here\n",
    "def print_message(msg = 'hello_world'):\n",
    "  print(msg)\n",
    "\n",
    "print_message('How are you!!') # output: How are you!!\n",
    "print_message(msg='What is your name?') # output: What is your name?\n",
    "print_message() # output: hello_world"
   ]
  },
  {
   "cell_type": "markdown",
   "id": "c4e4b09f",
   "metadata": {},
   "source": [
    "# 10. Pass Keyword"
   ]
  },
  {
   "cell_type": "markdown",
   "id": "267a2c23",
   "metadata": {},
   "source": [
    "functions definition cannot be empty.\n",
    "\n",
    "Q. What if you only want to define a function and write code logic later?\n",
    "\n",
    "In such scenario we can use pass keyword, which simply acts as a placeholder for code logic to be added later.\n",
    "\n"
   ]
  },
  {
   "cell_type": "code",
   "execution_count": 12,
   "id": "a7f432d4",
   "metadata": {},
   "outputs": [],
   "source": [
    "def function1():\n",
    "     pass\n",
    "\n",
    "def function2():\n",
    "     pass\n",
    "\n",
    "def function3():\n",
    "    pass"
   ]
  },
  {
   "cell_type": "markdown",
   "id": "815c1b14",
   "metadata": {},
   "source": [
    "# 11. Recall Pre-defined functions"
   ]
  },
  {
   "cell_type": "markdown",
   "id": "89377a3d",
   "metadata": {},
   "source": [
    "Pre-defined functions, also know as built-in functions, are functions that are included in the Python programming language by default."
   ]
  },
  {
   "cell_type": "code",
   "execution_count": 13,
   "id": "d9b805d6",
   "metadata": {},
   "outputs": [
    {
     "name": "stdout",
     "output_type": "stream",
     "text": [
      "Hi, I am learning Python.\n"
     ]
    }
   ],
   "source": [
    "#print()\tOutputs messages or values to the console.\n",
    "\n",
    "message=\"Hi, I am learning Python.\"\n",
    "print(message)"
   ]
  },
  {
   "cell_type": "code",
   "execution_count": 14,
   "id": "2ffa8645",
   "metadata": {},
   "outputs": [
    {
     "name": "stdout",
     "output_type": "stream",
     "text": [
      "16\n",
      "4\n"
     ]
    }
   ],
   "source": [
    "#len()\tReturns the length of a sequence (e.g., string, list, tuple).\n",
    "string=\"Hello I am fine.\"\n",
    "print(len(string))\n",
    "\n",
    "list_item=[1,2,3,4]\n",
    "print(len(list_item))"
   ]
  },
  {
   "cell_type": "code",
   "execution_count": 15,
   "id": "2b9bd866",
   "metadata": {},
   "outputs": [
    {
     "name": "stdout",
     "output_type": "stream",
     "text": [
      "<class 'str'>\n",
      "<class 'list'>\n",
      "<class 'tuple'>\n",
      "<class 'tuple'>\n",
      "<class 'int'>\n"
     ]
    }
   ],
   "source": [
    "#type()\tReturns the type of an object.\n",
    "string=\"Hello I am fine.\"\n",
    "print(type(string))\n",
    "\n",
    "\n",
    "list_item=[1,2,3,4]\n",
    "print(type(list_item))\n",
    "\n",
    "tuples=(12,34,\"tuple_item\")\n",
    "print(type(tuples))\n",
    "\n",
    "unknown=(29,)\n",
    "print(type(unknown))\n",
    "\n",
    "unknown=(29)\n",
    "print(type(unknown))"
   ]
  },
  {
   "cell_type": "code",
   "execution_count": 16,
   "id": "8db0e55a",
   "metadata": {},
   "outputs": [
    {
     "name": "stdout",
     "output_type": "stream",
     "text": [
      "Enter the number of your choice:22\n",
      "22\n"
     ]
    }
   ],
   "source": [
    "#input()\tReads user input from the console.\n",
    "\n",
    "user_input=int(input(\"Enter the number of your choice:\"))\n",
    "print(user_input)"
   ]
  },
  {
   "cell_type": "code",
   "execution_count": 17,
   "id": "ddcd24aa",
   "metadata": {},
   "outputs": [
    {
     "name": "stdout",
     "output_type": "stream",
     "text": [
      "0\n",
      "1\n",
      "2\n",
      "3\n",
      "The range is 1\n",
      "The range is 2\n",
      "The range is 3\n",
      "The range is 4\n",
      "1\n",
      "4\n",
      "7\n"
     ]
    }
   ],
   "source": [
    "#range()\tGenerates a sequence of numbers within a specified range.\n",
    "for i in range(4):\n",
    "    print(i)\n",
    "    \n",
    "    \n",
    "for i in range(1,5):\n",
    "    print(f\"The range is {i}\")\n",
    "    \n",
    "    \n",
    "for i in range(1,10,3):\n",
    "    print(i)"
   ]
  },
  {
   "cell_type": "code",
   "execution_count": 18,
   "id": "d8b6cb90",
   "metadata": {},
   "outputs": [
    {
     "name": "stdout",
     "output_type": "stream",
     "text": [
      "6\n"
     ]
    }
   ],
   "source": [
    "#sum()\tCalculates the sum of all the values in an iterable.\n",
    "my_list=[1,2,3]\n",
    "print(sum(my_list))"
   ]
  },
  {
   "cell_type": "code",
   "execution_count": 19,
   "id": "5407cf82",
   "metadata": {},
   "outputs": [
    {
     "name": "stdout",
     "output_type": "stream",
     "text": [
      "3\n"
     ]
    }
   ],
   "source": [
    "#max()\tReturns the maximum value in an iterable.\n",
    "my_list=[1,2,3]\n",
    "print(max(my_list))"
   ]
  },
  {
   "cell_type": "code",
   "execution_count": 20,
   "id": "0c9ac30a",
   "metadata": {},
   "outputs": [
    {
     "name": "stdout",
     "output_type": "stream",
     "text": [
      "1\n"
     ]
    }
   ],
   "source": [
    "#min()\tReturns the minimum value in an iterable.\n",
    "my_list=[1,2,3]\n",
    "print(min(my_list))"
   ]
  },
  {
   "cell_type": "code",
   "execution_count": 21,
   "id": "71cd6c1c",
   "metadata": {},
   "outputs": [
    {
     "name": "stdout",
     "output_type": "stream",
     "text": [
      "2.25\n"
     ]
    }
   ],
   "source": [
    "#abs()\tReturns the absolute value of a number.\n",
    "a=-10.7\n",
    "b=8.45\n",
    "sums=a+b\n",
    "result=abs(sums)\n",
    "print(result)"
   ]
  },
  {
   "cell_type": "code",
   "execution_count": 22,
   "id": "ad8db31b",
   "metadata": {},
   "outputs": [
    {
     "name": "stdout",
     "output_type": "stream",
     "text": [
      "19.15\n",
      "Rounded value is 19\n"
     ]
    }
   ],
   "source": [
    "#round()\tRounds a number to a specified number of decimal places.\n",
    "a = 10.7\n",
    "b = 8.45\n",
    "sums = a + b\n",
    "print(sums)\n",
    "result = round(sums)\n",
    "print(f\"Rounded value is {result}\")\n"
   ]
  },
  {
   "cell_type": "code",
   "execution_count": 23,
   "id": "e441cddd",
   "metadata": {},
   "outputs": [
    {
     "name": "stdout",
     "output_type": "stream",
     "text": [
      "<class 'float'>\n",
      "<class 'str'>\n"
     ]
    }
   ],
   "source": [
    "#str()\tConverts an object to a string representation.\n",
    "obj=12.452\n",
    "print(type(obj))\n",
    "result=str(obj)\n",
    "print(type(result))"
   ]
  },
  {
   "cell_type": "code",
   "execution_count": 24,
   "id": "022c0e00",
   "metadata": {},
   "outputs": [
    {
     "name": "stdout",
     "output_type": "stream",
     "text": [
      "<class 'str'>\n",
      "<class 'int'>\n"
     ]
    }
   ],
   "source": [
    "#int()\tConverts a string or a number to an integer.\n",
    "strings=\"6729\"\n",
    "print(type(strings))\n",
    "\n",
    "conversion=int(strings)\n",
    "print(type(conversion))"
   ]
  },
  {
   "cell_type": "code",
   "execution_count": 25,
   "id": "b3da6069",
   "metadata": {},
   "outputs": [
    {
     "name": "stdout",
     "output_type": "stream",
     "text": [
      "349.0\n"
     ]
    }
   ],
   "source": [
    "#float()\tConverts a string or a number to a floating-point number.\n",
    "num=float(349)\n",
    "print(num)"
   ]
  },
  {
   "cell_type": "code",
   "execution_count": 26,
   "id": "db991ff8",
   "metadata": {},
   "outputs": [
    {
     "name": "stdout",
     "output_type": "stream",
     "text": [
      "['h', 'e', 'l', 'l', 'o']\n"
     ]
    }
   ],
   "source": [
    "#list()\tConverts an iterable to a list.\n",
    "item=\"hello\"\n",
    "result=list(item)\n",
    "print(result)"
   ]
  },
  {
   "cell_type": "code",
   "execution_count": 27,
   "id": "a7fc6933",
   "metadata": {},
   "outputs": [
    {
     "name": "stdout",
     "output_type": "stream",
     "text": [
      "{'name': 'John', 'age': 25}\n"
     ]
    }
   ],
   "source": [
    "#dict()\tCreates a new dictionary object.\n",
    "key_value_pairs = [('name', 'John'), ('age', 25)]\n",
    "my_dict = dict(key_value_pairs)\n",
    "print(my_dict)"
   ]
  },
  {
   "cell_type": "code",
   "execution_count": 28,
   "id": "33d9f8a1",
   "metadata": {},
   "outputs": [
    {
     "name": "stdout",
     "output_type": "stream",
     "text": [
      "List in ascending order [2, 3, 4, 5, 10, 45]\n",
      "List in descending order [45, 10, 5, 4, 3, 2]\n"
     ]
    }
   ],
   "source": [
    "#sorted()\tReturns a new sorted list from the items in an iterable.\n",
    "list1=[45,10,2,3,4,5]\n",
    "result1=sorted(list1)\n",
    "print((f\"List in ascending order {result1}\"))\n",
    "\n",
    "result=sorted(list1, reverse=True)\n",
    "print(f\"List in descending order {result}\")"
   ]
  },
  {
   "cell_type": "code",
   "execution_count": 29,
   "id": "9c70689f",
   "metadata": {},
   "outputs": [
    {
     "name": "stdout",
     "output_type": "stream",
     "text": [
      "[(1, 10), (2, 20), (3, 30)]\n"
     ]
    }
   ],
   "source": [
    "#zip()\tCreates an iterator that aggregates elements from multiple iterables.\n",
    "tuple1=(1,2,3,4)\n",
    "list1=[10,20,30]\n",
    "result=list(zip(tuple1,list1))\n",
    "# zip() pairs up the elements of tuple1 and list1 element-wise, and the list() function is used to convert the result into a list.\n",
    "print(result)"
   ]
  },
  {
   "cell_type": "code",
   "execution_count": 30,
   "id": "770a4c97",
   "metadata": {},
   "outputs": [
    {
     "name": "stdout",
     "output_type": "stream",
     "text": [
      "Index: 0, Value: apple\n",
      "Index: 1, Value: banana\n",
      "Index: 2, Value: cherry\n"
     ]
    }
   ],
   "source": [
    "#enumerate()\tReturns an iterator of tuples containing indices and values from an iterable\n",
    "my_list = ['apple', 'banana', 'cherry']\n",
    "\n",
    "for index, value in enumerate(my_list):\n",
    "    print(f\"Index: {index}, Value: {value}\")\n"
   ]
  },
  {
   "cell_type": "code",
   "execution_count": 31,
   "id": "b8c3ddfe",
   "metadata": {},
   "outputs": [
    {
     "name": "stdout",
     "output_type": "stream",
     "text": [
      "Help on built-in function print in module builtins:\n",
      "\n",
      "print(*args, sep=' ', end='\\n', file=None, flush=False)\n",
      "    Prints the values to a stream, or to sys.stdout by default.\n",
      "    \n",
      "    sep\n",
      "      string inserted between values, default a space.\n",
      "    end\n",
      "      string appended after the last value, default a newline.\n",
      "    file\n",
      "      a file-like object (stream); defaults to the current sys.stdout.\n",
      "    flush\n",
      "      whether to forcibly flush the stream.\n",
      "\n",
      "Help on built-in module math:\n",
      "\n",
      "NAME\n",
      "    math\n",
      "\n",
      "DESCRIPTION\n",
      "    This module provides access to the mathematical functions\n",
      "    defined by the C standard.\n",
      "\n",
      "FUNCTIONS\n",
      "    acos(x, /)\n",
      "        Return the arc cosine (measured in radians) of x.\n",
      "        \n",
      "        The result is between 0 and pi.\n",
      "    \n",
      "    acosh(x, /)\n",
      "        Return the inverse hyperbolic cosine of x.\n",
      "    \n",
      "    asin(x, /)\n",
      "        Return the arc sine (measured in radians) of x.\n",
      "        \n",
      "        The result is between -pi/2 and pi/2.\n",
      "    \n",
      "    asinh(x, /)\n",
      "        Return the inverse hyperbolic sine of x.\n",
      "    \n",
      "    atan(x, /)\n",
      "        Return the arc tangent (measured in radians) of x.\n",
      "        \n",
      "        The result is between -pi/2 and pi/2.\n",
      "    \n",
      "    atan2(y, x, /)\n",
      "        Return the arc tangent (measured in radians) of y/x.\n",
      "        \n",
      "        Unlike atan(y/x), the signs of both x and y are considered.\n",
      "    \n",
      "    atanh(x, /)\n",
      "        Return the inverse hyperbolic tangent of x.\n",
      "    \n",
      "    cbrt(x, /)\n",
      "        Return the cube root of x.\n",
      "    \n",
      "    ceil(x, /)\n",
      "        Return the ceiling of x as an Integral.\n",
      "        \n",
      "        This is the smallest integer >= x.\n",
      "    \n",
      "    comb(n, k, /)\n",
      "        Number of ways to choose k items from n items without repetition and without order.\n",
      "        \n",
      "        Evaluates to n! / (k! * (n - k)!) when k <= n and evaluates\n",
      "        to zero when k > n.\n",
      "        \n",
      "        Also called the binomial coefficient because it is equivalent\n",
      "        to the coefficient of k-th term in polynomial expansion of the\n",
      "        expression (1 + x)**n.\n",
      "        \n",
      "        Raises TypeError if either of the arguments are not integers.\n",
      "        Raises ValueError if either of the arguments are negative.\n",
      "    \n",
      "    copysign(x, y, /)\n",
      "        Return a float with the magnitude (absolute value) of x but the sign of y.\n",
      "        \n",
      "        On platforms that support signed zeros, copysign(1.0, -0.0)\n",
      "        returns -1.0.\n",
      "    \n",
      "    cos(x, /)\n",
      "        Return the cosine of x (measured in radians).\n",
      "    \n",
      "    cosh(x, /)\n",
      "        Return the hyperbolic cosine of x.\n",
      "    \n",
      "    degrees(x, /)\n",
      "        Convert angle x from radians to degrees.\n",
      "    \n",
      "    dist(p, q, /)\n",
      "        Return the Euclidean distance between two points p and q.\n",
      "        \n",
      "        The points should be specified as sequences (or iterables) of\n",
      "        coordinates.  Both inputs must have the same dimension.\n",
      "        \n",
      "        Roughly equivalent to:\n",
      "            sqrt(sum((px - qx) ** 2.0 for px, qx in zip(p, q)))\n",
      "    \n",
      "    erf(x, /)\n",
      "        Error function at x.\n",
      "    \n",
      "    erfc(x, /)\n",
      "        Complementary error function at x.\n",
      "    \n",
      "    exp(x, /)\n",
      "        Return e raised to the power of x.\n",
      "    \n",
      "    exp2(x, /)\n",
      "        Return 2 raised to the power of x.\n",
      "    \n",
      "    expm1(x, /)\n",
      "        Return exp(x)-1.\n",
      "        \n",
      "        This function avoids the loss of precision involved in the direct evaluation of exp(x)-1 for small x.\n",
      "    \n",
      "    fabs(x, /)\n",
      "        Return the absolute value of the float x.\n",
      "    \n",
      "    factorial(n, /)\n",
      "        Find n!.\n",
      "        \n",
      "        Raise a ValueError if x is negative or non-integral.\n",
      "    \n",
      "    floor(x, /)\n",
      "        Return the floor of x as an Integral.\n",
      "        \n",
      "        This is the largest integer <= x.\n",
      "    \n",
      "    fmod(x, y, /)\n",
      "        Return fmod(x, y), according to platform C.\n",
      "        \n",
      "        x % y may differ.\n",
      "    \n",
      "    frexp(x, /)\n",
      "        Return the mantissa and exponent of x, as pair (m, e).\n",
      "        \n",
      "        m is a float and e is an int, such that x = m * 2.**e.\n",
      "        If x is 0, m and e are both 0.  Else 0.5 <= abs(m) < 1.0.\n",
      "    \n",
      "    fsum(seq, /)\n",
      "        Return an accurate floating point sum of values in the iterable seq.\n",
      "        \n",
      "        Assumes IEEE-754 floating point arithmetic.\n",
      "    \n",
      "    gamma(x, /)\n",
      "        Gamma function at x.\n",
      "    \n",
      "    gcd(*integers)\n",
      "        Greatest Common Divisor.\n",
      "    \n",
      "    hypot(...)\n",
      "        hypot(*coordinates) -> value\n",
      "        \n",
      "        Multidimensional Euclidean distance from the origin to a point.\n",
      "        \n",
      "        Roughly equivalent to:\n",
      "            sqrt(sum(x**2 for x in coordinates))\n",
      "        \n",
      "        For a two dimensional point (x, y), gives the hypotenuse\n",
      "        using the Pythagorean theorem:  sqrt(x*x + y*y).\n",
      "        \n",
      "        For example, the hypotenuse of a 3/4/5 right triangle is:\n",
      "        \n",
      "            >>> hypot(3.0, 4.0)\n",
      "            5.0\n",
      "    \n",
      "    isclose(a, b, *, rel_tol=1e-09, abs_tol=0.0)\n",
      "        Determine whether two floating point numbers are close in value.\n",
      "        \n",
      "          rel_tol\n",
      "            maximum difference for being considered \"close\", relative to the\n",
      "            magnitude of the input values\n",
      "          abs_tol\n",
      "            maximum difference for being considered \"close\", regardless of the\n",
      "            magnitude of the input values\n",
      "        \n",
      "        Return True if a is close in value to b, and False otherwise.\n",
      "        \n",
      "        For the values to be considered close, the difference between them\n",
      "        must be smaller than at least one of the tolerances.\n",
      "        \n",
      "        -inf, inf and NaN behave similarly to the IEEE 754 Standard.  That\n",
      "        is, NaN is not close to anything, even itself.  inf and -inf are\n",
      "        only close to themselves.\n",
      "    \n",
      "    isfinite(x, /)\n",
      "        Return True if x is neither an infinity nor a NaN, and False otherwise.\n",
      "    \n",
      "    isinf(x, /)\n",
      "        Return True if x is a positive or negative infinity, and False otherwise.\n",
      "    \n",
      "    isnan(x, /)\n",
      "        Return True if x is a NaN (not a number), and False otherwise.\n",
      "    \n",
      "    isqrt(n, /)\n",
      "        Return the integer part of the square root of the input.\n",
      "    \n",
      "    lcm(*integers)\n",
      "        Least Common Multiple.\n",
      "    \n",
      "    ldexp(x, i, /)\n",
      "        Return x * (2**i).\n",
      "        \n",
      "        This is essentially the inverse of frexp().\n",
      "    \n",
      "    lgamma(x, /)\n",
      "        Natural logarithm of absolute value of Gamma function at x.\n",
      "    \n",
      "    log(...)\n",
      "        log(x, [base=math.e])\n",
      "        Return the logarithm of x to the given base.\n",
      "        \n",
      "        If the base not specified, returns the natural logarithm (base e) of x.\n",
      "    \n",
      "    log10(x, /)\n",
      "        Return the base 10 logarithm of x.\n",
      "    \n",
      "    log1p(x, /)\n",
      "        Return the natural logarithm of 1+x (base e).\n",
      "        \n",
      "        The result is computed in a way which is accurate for x near zero.\n",
      "    \n",
      "    log2(x, /)\n",
      "        Return the base 2 logarithm of x.\n",
      "    \n",
      "    modf(x, /)\n",
      "        Return the fractional and integer parts of x.\n",
      "        \n",
      "        Both results carry the sign of x and are floats.\n",
      "    \n",
      "    nextafter(x, y, /)\n",
      "        Return the next floating-point value after x towards y.\n",
      "    \n",
      "    perm(n, k=None, /)\n",
      "        Number of ways to choose k items from n items without repetition and with order.\n",
      "        \n",
      "        Evaluates to n! / (n - k)! when k <= n and evaluates\n",
      "        to zero when k > n.\n",
      "        \n",
      "        If k is not specified or is None, then k defaults to n\n",
      "        and the function returns n!.\n",
      "        \n",
      "        Raises TypeError if either of the arguments are not integers.\n",
      "        Raises ValueError if either of the arguments are negative.\n",
      "    \n",
      "    pow(x, y, /)\n",
      "        Return x**y (x to the power of y).\n",
      "    \n",
      "    prod(iterable, /, *, start=1)\n",
      "        Calculate the product of all the elements in the input iterable.\n",
      "        \n",
      "        The default start value for the product is 1.\n",
      "        \n",
      "        When the iterable is empty, return the start value.  This function is\n",
      "        intended specifically for use with numeric values and may reject\n",
      "        non-numeric types.\n",
      "    \n",
      "    radians(x, /)\n",
      "        Convert angle x from degrees to radians.\n",
      "    \n",
      "    remainder(x, y, /)\n",
      "        Difference between x and the closest integer multiple of y.\n",
      "        \n",
      "        Return x - n*y where n*y is the closest integer multiple of y.\n",
      "        In the case where x is exactly halfway between two multiples of\n",
      "        y, the nearest even value of n is used. The result is always exact.\n",
      "    \n",
      "    sin(x, /)\n",
      "        Return the sine of x (measured in radians).\n",
      "    \n",
      "    sinh(x, /)\n",
      "        Return the hyperbolic sine of x.\n",
      "    \n",
      "    sqrt(x, /)\n",
      "        Return the square root of x.\n",
      "    \n",
      "    tan(x, /)\n",
      "        Return the tangent of x (measured in radians).\n",
      "    \n",
      "    tanh(x, /)\n",
      "        Return the hyperbolic tangent of x.\n",
      "    \n",
      "    trunc(x, /)\n",
      "        Truncates the Real x to the nearest Integral toward 0.\n",
      "        \n",
      "        Uses the __trunc__ magic method.\n",
      "    \n",
      "    ulp(x, /)\n",
      "        Return the value of the least significant bit of the float x.\n",
      "\n",
      "DATA\n",
      "    e = 2.718281828459045\n",
      "    inf = inf\n",
      "    nan = nan\n",
      "    pi = 3.141592653589793\n",
      "    tau = 6.283185307179586\n",
      "\n",
      "FILE\n",
      "    (built-in)\n",
      "\n",
      "\n",
      "Help on built-in function append:\n",
      "\n",
      "append(object, /) method of builtins.list instance\n",
      "    Append object to the end of the list.\n",
      "\n"
     ]
    }
   ],
   "source": [
    "#help()\tDisplays information and documentation about Python objects and modules.\n",
    "# Display help for a specific function or object\n",
    "help(print)\n",
    "\n",
    "# Display help for a module\n",
    "import math\n",
    "help(math)\n",
    "\n",
    "# Display help for a specific method of an object\n",
    "my_list = [1, 2, 3]\n",
    "help(my_list.append)\n"
   ]
  },
  {
   "cell_type": "code",
   "execution_count": 32,
   "id": "c6970452",
   "metadata": {},
   "outputs": [
    {
     "name": "stdout",
     "output_type": "stream",
     "text": [
      "['__add__', '__class__', '__class_getitem__', '__contains__', '__delattr__', '__delitem__', '__dir__', '__doc__', '__eq__', '__format__', '__ge__', '__getattribute__', '__getitem__', '__getstate__', '__gt__', '__hash__', '__iadd__', '__imul__', '__init__', '__init_subclass__', '__iter__', '__le__', '__len__', '__lt__', '__mul__', '__ne__', '__new__', '__reduce__', '__reduce_ex__', '__repr__', '__reversed__', '__rmul__', '__setattr__', '__setitem__', '__sizeof__', '__str__', '__subclasshook__', 'append', 'clear', 'copy', 'count', 'extend', 'index', 'insert', 'pop', 'remove', 'reverse', 'sort']\n"
     ]
    }
   ],
   "source": [
    "#dir()\tReturns a list of names in the current local scope or a given object.\n",
    "# Get a list of attributes and methods for a list object\n",
    "my_list = [1, 2, 3]\n",
    "list_attributes = dir(my_list)\n",
    "print(list_attributes)\n"
   ]
  },
  {
   "cell_type": "markdown",
   "id": "6f978bec",
   "metadata": {},
   "source": [
    "# 12.  Math Module"
   ]
  },
  {
   "cell_type": "code",
   "execution_count": 33,
   "id": "3c47a5cd",
   "metadata": {},
   "outputs": [
    {
     "name": "stdout",
     "output_type": "stream",
     "text": [
      "259\n"
     ]
    }
   ],
   "source": [
    "#math.ceil(x)\tReturns the smallest integer greater than or equal to x.\n",
    "import math\n",
    "\n",
    "num=258.9826\n",
    "print(math.ceil(num))"
   ]
  },
  {
   "cell_type": "code",
   "execution_count": 34,
   "id": "bf9c4f8e",
   "metadata": {},
   "outputs": [
    {
     "name": "stdout",
     "output_type": "stream",
     "text": [
      "Floor: 4\n",
      "Ceil: 5\n"
     ]
    }
   ],
   "source": [
    "#math.floor(x)\tReturns the largest integer less than or equal to x.\n",
    "import math\n",
    "num=4.9\n",
    "print(\"Floor:\",math.floor(num))\n",
    "print(\"Ceil:\",math.ceil(num))"
   ]
  },
  {
   "cell_type": "code",
   "execution_count": 35,
   "id": "3f0cfb90",
   "metadata": {},
   "outputs": [
    {
     "name": "stdout",
     "output_type": "stream",
     "text": [
      "Square is: 4.0\n"
     ]
    }
   ],
   "source": [
    "#math.sqrt(x)\tReturns the square root of x.\n",
    "import math\n",
    "num=16\n",
    "print(\"Square is:\",math.sqrt(num))"
   ]
  },
  {
   "cell_type": "code",
   "execution_count": 36,
   "id": "743510b5",
   "metadata": {},
   "outputs": [
    {
     "name": "stdout",
     "output_type": "stream",
     "text": [
      "Power: 8.0\n"
     ]
    }
   ],
   "source": [
    "#math.pow(x, y)\tReturns x raised to the power of y.\n",
    "import math\n",
    "x=2\n",
    "y=3\n",
    "print(\"Power:\",math.pow(x,y))"
   ]
  },
  {
   "cell_type": "code",
   "execution_count": 37,
   "id": "6f694d29",
   "metadata": {},
   "outputs": [
    {
     "name": "stdout",
     "output_type": "stream",
     "text": [
      "Power: 7.38905609893065\n"
     ]
    }
   ],
   "source": [
    "#math.exp(x)\tReturns e raised to the power of x.\n",
    "import math\n",
    "x=2\n",
    "\n",
    "print(\"Power:\",math.exp(x))"
   ]
  },
  {
   "cell_type": "code",
   "execution_count": 38,
   "id": "be0600d9",
   "metadata": {},
   "outputs": [
    {
     "name": "stdout",
     "output_type": "stream",
     "text": [
      "Power: 0.30102999566398114\n",
      "Power: 0.3010299956639812\n"
     ]
    }
   ],
   "source": [
    "#math.log(x)\tReturns the natural logarithm (base e) of x.\n",
    "import math\n",
    "x=2\n",
    "\n",
    "print(\"Power:\",math.log(x,10))#base 10\n",
    "print(\"Power:\",math.log10(x))"
   ]
  },
  {
   "cell_type": "code",
   "execution_count": 39,
   "id": "d4a6b42e",
   "metadata": {},
   "outputs": [
    {
     "name": "stdout",
     "output_type": "stream",
     "text": [
      "0.8509035245341184\n"
     ]
    }
   ],
   "source": [
    "#math.sin(x)\tReturns the sine of x (in radians).\n",
    "import math\n",
    "x=45\n",
    "print(math.sin(x))"
   ]
  },
  {
   "cell_type": "code",
   "execution_count": 40,
   "id": "d13d6e4c",
   "metadata": {},
   "outputs": [
    {
     "name": "stdout",
     "output_type": "stream",
     "text": [
      "0.5253219888177297\n"
     ]
    }
   ],
   "source": [
    "#math.cos(x)\tReturns the cosine of x (in radians).\n",
    "import math\n",
    "x=45\n",
    "print(math.cos(x))"
   ]
  },
  {
   "cell_type": "code",
   "execution_count": 41,
   "id": "7e476575",
   "metadata": {},
   "outputs": [
    {
     "name": "stdout",
     "output_type": "stream",
     "text": [
      "1.6197751905438615\n"
     ]
    }
   ],
   "source": [
    "#math.tan(x)\tReturns the tangent of x (in radians).\n",
    "import math\n",
    "x=45\n",
    "print(math.tan(x))"
   ]
  },
  {
   "cell_type": "code",
   "execution_count": 42,
   "id": "a49ea78d",
   "metadata": {},
   "outputs": [
    {
     "name": "stdout",
     "output_type": "stream",
     "text": [
      "0.7853981633974483\n"
     ]
    }
   ],
   "source": [
    "#math.radians(x)\tConverts x from degrees to radians.\n",
    "import math\n",
    "x=45\n",
    "print(math.radians(x))"
   ]
  },
  {
   "cell_type": "code",
   "execution_count": 43,
   "id": "9d0fca21",
   "metadata": {},
   "outputs": [
    {
     "name": "stdout",
     "output_type": "stream",
     "text": [
      "2578.3100780887044\n"
     ]
    }
   ],
   "source": [
    "#math.degrees(x)\tConverts x from radians to degrees.\n",
    "import math\n",
    "x=45\n",
    "print(math.degrees(x))"
   ]
  },
  {
   "cell_type": "code",
   "execution_count": 44,
   "id": "b5c419a7",
   "metadata": {},
   "outputs": [
    {
     "name": "stdout",
     "output_type": "stream",
     "text": [
      "6.283185307179586\n",
      "10.87312731383618\n",
      "24\n",
      "4.0\n"
     ]
    }
   ],
   "source": [
    "#math.pi\tRepresents the mathematical constant π (pi).\n",
    "\n",
    "import math\n",
    "\n",
    "num=2\n",
    "print(math.pi*num)\n",
    "\n",
    "\n",
    "#math.e\tRepresents the mathematical constant e (Euler's number).\n",
    "\n",
    "import math\n",
    "num=4\n",
    "print(math.e*num)\n",
    "\n",
    "\n",
    "\n",
    "\n",
    "#math.factorial(x)\tReturns the factorial factorial( x.\n",
    "\n",
    "import math\n",
    "num=4\n",
    "print(math.factorial(num))\n",
    "\n",
    "\n",
    "#math.fabs(x)\tReturns the absolute value of x.\n",
    "import math\n",
    "num=-4\n",
    "print(math.fabs(num))"
   ]
  },
  {
   "cell_type": "markdown",
   "id": "02d2da7b",
   "metadata": {},
   "source": [
    "# 13.Recursion"
   ]
  },
  {
   "cell_type": "markdown",
   "id": "9fe40554",
   "metadata": {},
   "source": [
    "When a function calls itself, then it is called recursion."
   ]
  },
  {
   "cell_type": "code",
   "execution_count": 45,
   "id": "3b76ac20",
   "metadata": {},
   "outputs": [
    {
     "name": "stdout",
     "output_type": "stream",
     "text": [
      "2\n",
      "6\n"
     ]
    }
   ],
   "source": [
    "def fact(n):\n",
    "    \n",
    "    if n==0 or n==1:\n",
    "        return 1\n",
    "    \n",
    "    else:\n",
    "        return n*fact(n-1)\n",
    "        \n",
    "print(fact(2))\n",
    "print(fact(3))"
   ]
  },
  {
   "cell_type": "markdown",
   "id": "1c3f89b6",
   "metadata": {},
   "source": [
    "# Assignments"
   ]
  },
  {
   "cell_type": "code",
   "execution_count": 46,
   "id": "82dcd7d2",
   "metadata": {},
   "outputs": [
    {
     "name": "stdout",
     "output_type": "stream",
     "text": [
      "The result is 6\n"
     ]
    }
   ],
   "source": [
    "#Q.1 Write a python function to multiply all the numbers in a list\n",
    "\n",
    "\n",
    "def mul(sam_list):\n",
    "    \n",
    "    value=1 \n",
    "    \n",
    "    for items in sam_list:\n",
    "        value*=items\n",
    "\n",
    "    return value\n",
    "    \n",
    "    \n",
    "sample_list=[1,2,3]   \n",
    "print(\"The result is\",mul(sample_list))"
   ]
  },
  {
   "cell_type": "code",
   "execution_count": 47,
   "id": "be4ddf9c",
   "metadata": {},
   "outputs": [
    {
     "name": "stdout",
     "output_type": "stream",
     "text": [
      ".nohtyp gninrael ma I\n"
     ]
    }
   ],
   "source": [
    "#Q.2 Write a python function to reverse a string\n",
    "\n",
    "def word(msg):\n",
    "    \n",
    "    result=msg[::-1]\n",
    "    return result\n",
    "    \n",
    "    \n",
    "print(word(\"I am learning python.\"))"
   ]
  },
  {
   "cell_type": "code",
   "execution_count": 48,
   "id": "60ce3c27",
   "metadata": {},
   "outputs": [
    {
     "name": "stdout",
     "output_type": "stream",
     "text": [
      "24\n"
     ]
    }
   ],
   "source": [
    "#Q.3 Write a python function to find factorial of a given non negativenumber\n",
    "\n",
    "def fact(n):\n",
    "    \n",
    "    if n==1 or n==0:\n",
    "        return 1\n",
    "    \n",
    "    else:\n",
    "        return n*fact(n-1)\n",
    "    \n",
    "        \n",
    "print(fact(4))\n"
   ]
  },
  {
   "cell_type": "code",
   "execution_count": 49,
   "id": "017da5a3",
   "metadata": {},
   "outputs": [
    {
     "name": "stdout",
     "output_type": "stream",
     "text": [
      "!!!ereht olleH\n"
     ]
    }
   ],
   "source": [
    "#Q.4 Write a python function to reverse a string\n",
    "def word(msg):\n",
    "    \n",
    "    reverse_result= msg[::-1]\n",
    "    return reverse_result\n",
    "    \n",
    "    \n",
    "print(word(\"Hello there!!!\"))"
   ]
  },
  {
   "cell_type": "code",
   "execution_count": 57,
   "id": "56541ded",
   "metadata": {},
   "outputs": [
    {
     "name": "stdout",
     "output_type": "stream",
     "text": [
      "(4, 8)\n"
     ]
    }
   ],
   "source": [
    "#Q.5 Write a python function that accepts a string and calculate the number of upper case letters and lower case letters\n",
    "\n",
    "def count_word(msg):\n",
    "    upper_case=0\n",
    "    lower_case=0\n",
    "    \n",
    "    for char in msg:\n",
    "        if char.isupper():\n",
    "            upper_case+=1\n",
    "        \n",
    "        elif char.islower():\n",
    "            lower_case+=1\n",
    "            \n",
    "    return upper_case, lower_case        \n",
    "    \n",
    "result=count_word(\"Hi Are You Fine\")\n",
    "print(result)"
   ]
  },
  {
   "cell_type": "code",
   "execution_count": 58,
   "id": "e549b49b",
   "metadata": {},
   "outputs": [
    {
     "name": "stdout",
     "output_type": "stream",
     "text": [
      "[1, 2, 3]\n"
     ]
    }
   ],
   "source": [
    "#Q.6 Write a python function that takes a list and returns a new list with unique elements of the first list\n",
    "\n",
    "def user_list(lists):\n",
    "    \n",
    "    unique_list=list(set(lists))\n",
    "    return unique_list\n",
    "    \n",
    "print(user_list([1,2,3,1,3]))"
   ]
  },
  {
   "cell_type": "code",
   "execution_count": 64,
   "id": "bef60e05",
   "metadata": {},
   "outputs": [
    {
     "ename": "IndentationError",
     "evalue": "expected an indented block after function definition on line 3 (3898286028.py, line 6)",
     "output_type": "error",
     "traceback": [
      "\u001b[1;36m  Cell \u001b[1;32mIn[64], line 6\u001b[1;36m\u001b[0m\n\u001b[1;33m    user_input=int(input(\"Enter the number of your choice:\"))\u001b[0m\n\u001b[1;37m    ^\u001b[0m\n\u001b[1;31mIndentationError\u001b[0m\u001b[1;31m:\u001b[0m expected an indented block after function definition on line 3\n"
     ]
    }
   ],
   "source": [
    "#Q.7 Write a Python function that takes a number as a parameter and check the number is prime or not.\n",
    "\n",
    "def check_prime(num):\n",
    "   \n",
    "    \n",
    "user_input=int(input(\"Enter the number of your choice:\"))    \n",
    "print(check_prime(user_input))"
   ]
  },
  {
   "cell_type": "code",
   "execution_count": 71,
   "id": "4ebac7ca",
   "metadata": {},
   "outputs": [
    {
     "name": "stdout",
     "output_type": "stream",
     "text": [
      "15 is not even.\n",
      "20 is even.\n",
      "12 is even.\n"
     ]
    }
   ],
   "source": [
    "#Q.8 Write a python function to print the even numbers from a given list.\n",
    "\n",
    "def check_even(num):\n",
    "    \n",
    "        if num%2==0:\n",
    "            print(f\"{num} is even.\")\n",
    "        else:\n",
    "            print(f\"{num} is not even.\")\n",
    "       \n",
    "    \n",
    "check_even(15)\n",
    "check_even(20)\n",
    "check_even(12)"
   ]
  }
 ],
 "metadata": {
  "kernelspec": {
   "display_name": "Python 3 (ipykernel)",
   "language": "python",
   "name": "python3"
  },
  "language_info": {
   "codemirror_mode": {
    "name": "ipython",
    "version": 3
   },
   "file_extension": ".py",
   "mimetype": "text/x-python",
   "name": "python",
   "nbconvert_exporter": "python",
   "pygments_lexer": "ipython3",
   "version": "3.11.5"
  }
 },
 "nbformat": 4,
 "nbformat_minor": 5
}
