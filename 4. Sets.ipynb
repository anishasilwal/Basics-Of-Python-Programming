{
 "cells": [
  {
   "cell_type": "markdown",
   "id": "df0a2f4e",
   "metadata": {},
   "source": [
    "A set is a collection, which is unordered, Unchangeable (you cannot change the items, but you can remove items and add new items i.e. sets are mutable), and Duplicates are not allowed."
   ]
  },
  {
   "cell_type": "markdown",
   "id": "e4cfb099",
   "metadata": {},
   "source": [
    "# 1. Creating Sets"
   ]
  },
  {
   "cell_type": "code",
   "execution_count": 1,
   "id": "e763690f",
   "metadata": {},
   "outputs": [
    {
     "name": "stdout",
     "output_type": "stream",
     "text": [
      "set()\n"
     ]
    }
   ],
   "source": [
    "# create empty set\n",
    "empty_set=set()\n",
    "print(empty_set)"
   ]
  },
  {
   "cell_type": "code",
   "execution_count": 2,
   "id": "5636ee03",
   "metadata": {},
   "outputs": [
    {
     "name": "stdout",
     "output_type": "stream",
     "text": [
      "<class 'set'>\n"
     ]
    }
   ],
   "source": [
    "# display type\n",
    "empty_set=set()\n",
    "print(type(empty_set))"
   ]
  },
  {
   "cell_type": "code",
   "execution_count": 3,
   "id": "12b1c88f",
   "metadata": {},
   "outputs": [
    {
     "name": "stdout",
     "output_type": "stream",
     "text": [
      "{'hello', 74.22, 980, True}\n",
      "<class 'set'>\n"
     ]
    }
   ],
   "source": [
    "# create simple set with mixed data types\n",
    "mixed_set={\"hello\",980,74.22,True}\n",
    "print(mixed_set)\n",
    "# display type\n",
    "print(type(mixed_set))"
   ]
  },
  {
   "cell_type": "code",
   "execution_count": 4,
   "id": "5f5d27ac",
   "metadata": {},
   "outputs": [
    {
     "name": "stdout",
     "output_type": "stream",
     "text": [
      "4\n"
     ]
    }
   ],
   "source": [
    "# display length of set\n",
    "mixed_set={\"hello\",980,74.22,True}\n",
    "print(len(mixed_set))"
   ]
  },
  {
   "cell_type": "markdown",
   "id": "a0716c87",
   "metadata": {},
   "source": [
    "Since Sets are unordered, there is no concepts of Set Indexing and Slicing"
   ]
  },
  {
   "cell_type": "markdown",
   "id": "e3584bd7",
   "metadata": {},
   "source": [
    "# 2. Sets Methods/Operations."
   ]
  },
  {
   "cell_type": "markdown",
   "id": "766577b5",
   "metadata": {},
   "source": [
    "Most common set methods/operations are:\n",
    "add(): Method to add a new element to a set.\n",
    "\n",
    "\n",
    "\n",
    "remove(): Method to remove item from a set.\n",
    "\n",
    "\n",
    "\n",
    "pop(): Method to remove item from a set and returns removed item\n",
    "\n",
    "\n",
    "\n",
    "union(): Method that return a set containing union of sets..\n",
    "\n",
    "\n",
    "\n",
    "intersection(): Method that return a set that is intersection of 2 other sets.\n",
    "\n",
    "\n",
    "\n",
    "difference(): Method that return a set containing difference between two or more sets."
   ]
  },
  {
   "cell_type": "code",
   "execution_count": 6,
   "id": "2b3c39f4",
   "metadata": {},
   "outputs": [
    {
     "name": "stdout",
     "output_type": "stream",
     "text": [
      "{0, True, 'set', 'methods'}\n",
      "{0, True, 'set', 'methods', 'awesome'}\n"
     ]
    }
   ],
   "source": [
    "#Syntax: set.add(<item>)\n",
    "# inialize set\n",
    "set_methods = {True, 1, 'set', 'methods', 0}\n",
    "print(set_methods)\n",
    "\n",
    "# add item \"awesome\"\n",
    "set_methods.add(\"awesome\")\n",
    "print(set_methods)"
   ]
  },
  {
   "cell_type": "code",
   "execution_count": 7,
   "id": "32f70ae0",
   "metadata": {},
   "outputs": [
    {
     "name": "stdout",
     "output_type": "stream",
     "text": [
      "{0, True, 'set', 'methods'}\n",
      "{0, True, 'methods'}\n"
     ]
    }
   ],
   "source": [
    "#Syntax: set.remove(<item>)\n",
    "# inialize set\n",
    "set_methods = {True, 1, 'set', 'methods', 0}\n",
    "print(set_methods)\n",
    "\n",
    "# remove item \"awesome\"\n",
    "set_methods.remove(\"set\")\n",
    "print(set_methods)"
   ]
  },
  {
   "cell_type": "code",
   "execution_count": 2,
   "id": "09666862",
   "metadata": {},
   "outputs": [
    {
     "name": "stdout",
     "output_type": "stream",
     "text": [
      "{0, True, 'set', 'methods'}\n",
      "{True, 'set', 'methods'}\n"
     ]
    }
   ],
   "source": [
    "#Syntax: set.pop(<item>)\n",
    "# inialize set\n",
    "set_methods = {True, 1, 'set', 'methods', 0}\n",
    "print(set_methods)\n",
    "\n",
    "# pop item \"methods\"\n",
    "set_methods.pop()\n",
    "print(set_methods)"
   ]
  },
  {
   "cell_type": "markdown",
   "id": "6f8cace2",
   "metadata": {},
   "source": [
    "You can also use the pop() method to remove an item, but this method will remove a random item, so you cannot be sure what item that gets removed.\n",
    "\n",
    "\n",
    "\n",
    "Generally, it will remove from starting item in a set.\n",
    "\n",
    "\n",
    "\n",
    "It returns a item that is removed from a set."
   ]
  },
  {
   "cell_type": "markdown",
   "id": "1812b705",
   "metadata": {},
   "source": [
    "union():-\n",
    "\n",
    "\n",
    "\n",
    "\n",
    "The union of two sets A and B include all the elements of set A and B. No duplicates in final obtained set.\n",
    "\n",
    "\n",
    "\n",
    "syntax:\n",
    "\n",
    "\n",
    "set_union = set1.union(set2)\n",
    "\n",
    "\n",
    "\n",
    "set_union = set1 | set2"
   ]
  },
  {
   "cell_type": "code",
   "execution_count": 3,
   "id": "4641c337",
   "metadata": {},
   "outputs": [
    {
     "name": "stdout",
     "output_type": "stream",
     "text": [
      "{1, 2, 3, 4}\n",
      "{10, 20, 30}\n"
     ]
    }
   ],
   "source": [
    "#create two sets\n",
    "set1={1,2,3,4}\n",
    "set2={10,20,30}\n",
    "print(set1)\n",
    "print(set2)"
   ]
  },
  {
   "cell_type": "code",
   "execution_count": 4,
   "id": "3f979a54",
   "metadata": {},
   "outputs": [
    {
     "name": "stdout",
     "output_type": "stream",
     "text": [
      "The union of set1 and set2 is {1, 2, 3, 4, 20, 10, 30}\n"
     ]
    }
   ],
   "source": [
    "set1={1,2,3,4}\n",
    "set2={10,20,30}\n",
    "union_set=set1.union(set2)\n",
    "print(f\"The union of set1 and set2 is {union_set}\")"
   ]
  },
  {
   "cell_type": "code",
   "execution_count": 5,
   "id": "adb1af38",
   "metadata": {},
   "outputs": [
    {
     "name": "stdout",
     "output_type": "stream",
     "text": [
      "The union of set1 and set2 is {1, 2, 3, 4, 20, 10, 30}\n"
     ]
    }
   ],
   "source": [
    "set1={1,2,3,4}\n",
    "set2={10,20,30}\n",
    "union_set=set1|(set2)\n",
    "print(f\"The union of set1 and set2 is {union_set}\")"
   ]
  },
  {
   "cell_type": "code",
   "execution_count": 6,
   "id": "815ef9dc",
   "metadata": {},
   "outputs": [
    {
     "name": "stdout",
     "output_type": "stream",
     "text": [
      "The union of set1 and set2 is {1, 2, 3, 4, 100, 200, 10, 300, 20, 30}\n"
     ]
    }
   ],
   "source": [
    "set1={1,2,3,4}\n",
    "set2={10,20,30}\n",
    "set3={100,200,300}\n",
    "union_set=set1.union(set2,set3)\n",
    "print(f\"The union of set1 and set2 is {union_set}\")"
   ]
  },
  {
   "cell_type": "code",
   "execution_count": 7,
   "id": "5d5538bc",
   "metadata": {},
   "outputs": [
    {
     "name": "stdout",
     "output_type": "stream",
     "text": [
      "The union of set1 and set2 is {1, 2, 3, 4, 100, 200, 10, 300, 20, 30}\n"
     ]
    }
   ],
   "source": [
    "set1={1,2,3,4}\n",
    "set2={10,20,30}\n",
    "set3={100,200,300}\n",
    "union_set=set1|set2|set3\n",
    "print(f\"The union of set1 and set2 is {union_set}\")"
   ]
  },
  {
   "cell_type": "markdown",
   "id": "86f8ba4f",
   "metadata": {},
   "source": [
    "intersection():-\n",
    "\n",
    "\n",
    "\n",
    "\n",
    "Method that return a set containing intesection of sets.\n",
    "\n",
    "\n",
    "\n",
    "\n",
    "\n",
    "The intersection of two sets A and B include the common elements between set A and B. No duplicates in final obtained set.\n",
    "\n",
    "\n",
    "\n",
    "\n",
    "syntax:\n",
    "\n",
    "\n",
    "\n",
    "\n",
    "\n",
    "set_common = set1.intersection(set2)\n",
    "\n",
    "\n",
    "\n",
    "\n",
    "set_union = set1 & set2"
   ]
  },
  {
   "cell_type": "code",
   "execution_count": 24,
   "id": "e3379075",
   "metadata": {},
   "outputs": [
    {
     "name": "stdout",
     "output_type": "stream",
     "text": [
      "The intersection of a set1 and set2 are {1, 4, 5}\n",
      "The intersection of a set1 and set2 are {1, 4, 5}\n"
     ]
    }
   ],
   "source": [
    "# intersection of set using intersection() method\n",
    "\n",
    "set1={1,2,3,4,5}\n",
    "set2={20,10,5,4,1}\n",
    "set_intersection=set1&set2\n",
    "print(f\"The intersection of a set1 and set2 are {set_intersection}\")\n",
    "\n",
    "\n",
    "# intersection of set using (&) operator\n",
    "set1={1,2,3,4,5}\n",
    "set2={20,10,5,4,1}\n",
    "set_intersection=set1.intersection(set2)\n",
    "print(f\"The intersection of a set1 and set2 are {set_intersection}\")\n",
    "\n"
   ]
  },
  {
   "cell_type": "code",
   "execution_count": 22,
   "id": "e5d77a03",
   "metadata": {},
   "outputs": [
    {
     "name": "stdout",
     "output_type": "stream",
     "text": [
      "{1, 4, 5}\n"
     ]
    }
   ],
   "source": [
    "#intersection_update()\n",
    "set1={1,2,3,4,5}\n",
    "set2={20,10,5,4,1}\n",
    "inter_update=set1.intersection_update(set2)\n",
    "print(set1)"
   ]
  },
  {
   "cell_type": "markdown",
   "id": "b40b27ee",
   "metadata": {},
   "source": [
    "difference():\n",
    "\n",
    "Method that return a set containing difference between two or more sets.\n",
    "\n",
    "\n",
    "\n",
    "The difference between two sets A and B denoted by A-Binclude elements of set A that are not present on set B.\n",
    "\n",
    "\n",
    "\n",
    "\n",
    "syntax: \n",
    "\n",
    "\n",
    "set_diff = set1.difference(set2)"
   ]
  },
  {
   "cell_type": "code",
   "execution_count": 2,
   "id": "6a6d78df",
   "metadata": {},
   "outputs": [
    {
     "name": "stdout",
     "output_type": "stream",
     "text": [
      "{2, 3}\n"
     ]
    }
   ],
   "source": [
    "set1={1,2,3,4,5}\n",
    "set2={20,10,5,4,1}\n",
    "set_diff=set1-set2\n",
    "print(set_diff)"
   ]
  },
  {
   "cell_type": "code",
   "execution_count": 5,
   "id": "707887c9",
   "metadata": {},
   "outputs": [
    {
     "name": "stdout",
     "output_type": "stream",
     "text": [
      "{2, 3}\n"
     ]
    }
   ],
   "source": [
    "set1={1,2,3,4,5}\n",
    "set2={20,10,5,4,1}\n",
    "set_diff=set1.difference(set2)\n",
    "print(set_diff)"
   ]
  },
  {
   "cell_type": "markdown",
   "id": "8aa68dc0",
   "metadata": {},
   "source": [
    "Subset:"
   ]
  },
  {
   "cell_type": "code",
   "execution_count": 10,
   "id": "49093a6b",
   "metadata": {},
   "outputs": [
    {
     "data": {
      "text/plain": [
       "False"
      ]
     },
     "execution_count": 10,
     "metadata": {},
     "output_type": "execute_result"
    }
   ],
   "source": [
    "set1={1,2,3,4,5}\n",
    "set2={20,10,5,4,1}\n",
    "set2.issubset(set1)"
   ]
  },
  {
   "cell_type": "code",
   "execution_count": 11,
   "id": "4331f281",
   "metadata": {},
   "outputs": [
    {
     "data": {
      "text/plain": [
       "False"
      ]
     },
     "execution_count": 11,
     "metadata": {},
     "output_type": "execute_result"
    }
   ],
   "source": [
    "set1={1,2,3,4,5}\n",
    "set2={20,10,5,4,1}\n",
    "set2 <= set1"
   ]
  },
  {
   "cell_type": "markdown",
   "id": "af0e9125",
   "metadata": {},
   "source": [
    "Superset:"
   ]
  },
  {
   "cell_type": "code",
   "execution_count": 7,
   "id": "c1bc1fbd",
   "metadata": {},
   "outputs": [
    {
     "name": "stdout",
     "output_type": "stream",
     "text": [
      "True\n"
     ]
    }
   ],
   "source": [
    "set1={1,2,3,4,20,10,5}\n",
    "set2={20,10,5,4,1}\n",
    "subset=set1.issuperset(set2)\n",
    "print(subset)"
   ]
  },
  {
   "cell_type": "code",
   "execution_count": 14,
   "id": "e33913ef",
   "metadata": {},
   "outputs": [
    {
     "data": {
      "text/plain": [
       "True"
      ]
     },
     "execution_count": 14,
     "metadata": {},
     "output_type": "execute_result"
    }
   ],
   "source": [
    "set1={1,2,3,4,20,10,5}\n",
    "set2={20,10,5,4,1}\n",
    "set1 >= set2"
   ]
  },
  {
   "cell_type": "markdown",
   "id": "28c9d992",
   "metadata": {},
   "source": [
    "isdisjoint():"
   ]
  },
  {
   "cell_type": "code",
   "execution_count": 18,
   "id": "8ff2d793",
   "metadata": {},
   "outputs": [
    {
     "name": "stdout",
     "output_type": "stream",
     "text": [
      "True\n"
     ]
    }
   ],
   "source": [
    "set1={3,40,50}\n",
    "set2={20,10,5,4,1}\n",
    "disjoint=set1.isdisjoint(set2)\n",
    "print(disjoint)"
   ]
  },
  {
   "cell_type": "code",
   "execution_count": 20,
   "id": "e6b85d67",
   "metadata": {},
   "outputs": [
    {
     "name": "stdout",
     "output_type": "stream",
     "text": [
      "{1, 2, 3, 4, 5, 20, 30}\n"
     ]
    }
   ],
   "source": [
    "#update()\n",
    "set1={1,2,3,4,5}\n",
    "set1.update([20,30])\n",
    "print(set1)"
   ]
  },
  {
   "cell_type": "code",
   "execution_count": 29,
   "id": "734c58b1",
   "metadata": {},
   "outputs": [
    {
     "name": "stdout",
     "output_type": "stream",
     "text": [
      "{1, 5, 6}\n"
     ]
    }
   ],
   "source": [
    "#symmetric_difference()\n",
    "#Returns a set with the symmetric differences of two sets\n",
    "set1={1,2,3,4}\n",
    "set2={2,3,4,5,6}\n",
    "\n",
    "print(set1.symmetric_difference(set2))"
   ]
  },
  {
   "cell_type": "code",
   "execution_count": 47,
   "id": "714b006d",
   "metadata": {},
   "outputs": [
    {
     "name": "stdout",
     "output_type": "stream",
     "text": [
      "{1, 7, 8}\n"
     ]
    }
   ],
   "source": [
    "set1={1,2,3,4}\n",
    "set2={2,3,4,5,6}\n",
    "set3={5,6,7,8}\n",
    "\n",
    "print(set1 ^ set2 ^ set3) "
   ]
  },
  {
   "cell_type": "code",
   "execution_count": 30,
   "id": "e24239e7",
   "metadata": {},
   "outputs": [
    {
     "name": "stdout",
     "output_type": "stream",
     "text": [
      "{'C++', 'C', 'JS', 'React', 'Python'}\n"
     ]
    }
   ],
   "source": [
    "#symmetric_difference_update()\n",
    "#Inserts the symmetric differences from this set and another\n",
    "set1={'C','C++','Java','Python'}\n",
    "set2={'JS','React'}\n",
    "\n",
    "set1.symmetric_difference_update(('JS','React','Java'))\n",
    "print(set1)"
   ]
  },
  {
   "cell_type": "markdown",
   "id": "8177dd28",
   "metadata": {},
   "source": [
    "# 3 .Sets are Mutable"
   ]
  },
  {
   "cell_type": "code",
   "execution_count": 41,
   "id": "c6fdeb57",
   "metadata": {},
   "outputs": [
    {
     "name": "stdout",
     "output_type": "stream",
     "text": [
      "{'C++', 'C', 'Java', 'Python', 'mysql'}\n"
     ]
    }
   ],
   "source": [
    "# Given Set, verify Sets are mutable\n",
    "# Hint: .add(item)\n",
    "set1={'C','C++','Java','Python'}\n",
    "set1.add('mysql')\n",
    "print(set1)"
   ]
  },
  {
   "cell_type": "markdown",
   "id": "7dcacdff",
   "metadata": {},
   "source": [
    "\n",
    "# 4. Loop Sets."
   ]
  },
  {
   "cell_type": "code",
   "execution_count": 42,
   "id": "47617e4a",
   "metadata": {},
   "outputs": [
    {
     "name": "stdout",
     "output_type": "stream",
     "text": [
      "True\n",
      "100.123\n",
      "20\n",
      "Hi\n"
     ]
    }
   ],
   "source": [
    "#Initialize Set and print set items one by one using for loop.\n",
    "set1={20,'Hi',True,100.123}\n",
    "for items in set1:\n",
    "    print(items)"
   ]
  },
  {
   "cell_type": "markdown",
   "id": "7f38b4ac",
   "metadata": {},
   "source": [
    "# 5.Set Comprehension\n"
   ]
  },
  {
   "cell_type": "code",
   "execution_count": 43,
   "id": "d7725b2f",
   "metadata": {},
   "outputs": [
    {
     "name": "stdout",
     "output_type": "stream",
     "text": [
      "{1, 2, 'item4', 'item1'}\n"
     ]
    }
   ],
   "source": [
    "#Given List = ['item1', 1, 2, 'item4'], create Set using list items using Set comprehension.\n",
    "sample_list = ['item1', 1, 2, 'item4']\n",
    "print(set(sample_list))"
   ]
  },
  {
   "cell_type": "code",
   "execution_count": 70,
   "id": "f952f775",
   "metadata": {},
   "outputs": [
    {
     "name": "stdout",
     "output_type": "stream",
     "text": [
      "[1, 20, 60, 100, 300, 1000]\n",
      "{1, 100, 1000, 300, 20, 60}\n"
     ]
    }
   ],
   "source": [
    "#Write a python program to sort Set items in ascending order.\n",
    "sample_set={20,100,60,1000,1,300}\n",
    "\n",
    "#sorted() function creates a new sorted list from the elements of any iterable, including sets. \n",
    "sample_lists=sorted(sample_set)\n",
    "print(sample_lists)\n",
    "\n",
    "#Once you have a sorted list, you can create a new set from that list using the set() constructor if you need a sorted set.\n",
    "print(set(sample_lists))"
   ]
  },
  {
   "cell_type": "code",
   "execution_count": 69,
   "id": "c932174d",
   "metadata": {},
   "outputs": [
    {
     "name": "stdout",
     "output_type": "stream",
     "text": [
      "{1, 100, 1000, 300, 20, 60}\n"
     ]
    }
   ],
   "source": [
    "set1={20,100,60,1000,1,300}\n",
    "sort=sorted(set1, reverse=True)\n",
    "print(set(sort))"
   ]
  },
  {
   "cell_type": "code",
   "execution_count": 65,
   "id": "ebfac351",
   "metadata": {},
   "outputs": [
    {
     "name": "stdout",
     "output_type": "stream",
     "text": [
      "[1, 20, 60, 100, 300, 1000]\n",
      "{1, 100, 1000, 300, 20, 60}\n"
     ]
    }
   ],
   "source": [
    "# Given set\n",
    "sample = {20, 100, 60, 1000, 1, 300}\n",
    "\n",
    "# Convert the set to a sorted list\n",
    "sorted1 = sorted(sample)\n",
    "\n",
    "# Print the sorted list\n",
    "print(sorted1)\n",
    "\n",
    "# Convert the sorted list back to a set and print it\n",
    "sorted2 = set(sorted1)\n",
    "print(sorted2)\n"
   ]
  },
  {
   "cell_type": "code",
   "execution_count": 64,
   "id": "dd880056",
   "metadata": {},
   "outputs": [
    {
     "name": "stdout",
     "output_type": "stream",
     "text": [
      "[1, 20, 60, 100, 300, 1000]\n",
      "{1, 100, 1000, 300, 20, 60}\n"
     ]
    }
   ],
   "source": [
    "# Resetting the 'set' variable to its default built-in function\n",
    "del set\n",
    "\n",
    "# Given set\n",
    "set1 = {20, 100, 60, 1000, 1, 300}\n",
    "\n",
    "# Convert the set to a sorted list\n",
    "sorted_list = sorted(set1)\n",
    "\n",
    "# Print the sorted list\n",
    "print(sorted_list)\n",
    "\n",
    "# Convert the sorted list back to a set and print it\n",
    "sorted_set = set(sorted_list)\n",
    "print(sorted_set)\n"
   ]
  }
 ],
 "metadata": {
  "kernelspec": {
   "display_name": "Python 3 (ipykernel)",
   "language": "python",
   "name": "python3"
  },
  "language_info": {
   "codemirror_mode": {
    "name": "ipython",
    "version": 3
   },
   "file_extension": ".py",
   "mimetype": "text/x-python",
   "name": "python",
   "nbconvert_exporter": "python",
   "pygments_lexer": "ipython3",
   "version": "3.11.5"
  }
 },
 "nbformat": 4,
 "nbformat_minor": 5
}
