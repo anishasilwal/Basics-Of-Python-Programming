{
 "cells": [
  {
   "cell_type": "markdown",
   "id": "c1fe3fc5",
   "metadata": {},
   "source": [
    "Dictionaries are used to store data values in key:value pairs.\n",
    "\n",
    "A dictionary is collection which is:\n",
    "\n",
    "1. Ordered:\n",
    "\n",
    "Dictionaries are ordered means that the items have a defined order, and that will not change.\n",
    "\n",
    "\n",
    "\n",
    "\n",
    "2. Changeable:\n",
    "\n",
    "Dictionaries are changeable, meaning we can change, add, or remove items after the dictionary has been created.\n",
    "\n",
    "\n",
    "\n",
    "3. Duplicates not allowed:\n",
    "\n",
    "Dictionaries cannot have two items with the same key.\n",
    "Dictionary are also denoted by curly brackets { }"
   ]
  },
  {
   "cell_type": "markdown",
   "id": "99db908a",
   "metadata": {},
   "source": [
    "# 1. Creating Dictionary"
   ]
  },
  {
   "cell_type": "code",
   "execution_count": 1,
   "id": "c7bb668e",
   "metadata": {},
   "outputs": [
    {
     "name": "stdout",
     "output_type": "stream",
     "text": [
      "{}\n",
      "<class 'dict'>\n"
     ]
    }
   ],
   "source": [
    "# 1. create empty dict\n",
    "# check type\n",
    "empty_dict={}\n",
    "print(empty_dict)\n",
    "print(type(empty_dict))"
   ]
  },
  {
   "cell_type": "code",
   "execution_count": 2,
   "id": "8e6b1ba3",
   "metadata": {},
   "outputs": [
    {
     "name": "stdout",
     "output_type": "stream",
     "text": [
      "{'Name': 'Siya', 'Age': 24, 'Course': 'Engineering'}\n",
      "<class 'dict'>\n"
     ]
    }
   ],
   "source": [
    "# 2. create simple dict\n",
    "# check type\n",
    "simple_dict={\"Name\":\"Siya\",\n",
    "            \"Age\":24,\n",
    "            \"Course\":\"Engineering\"}\n",
    "print(simple_dict)\n",
    "print(type(simple_dict))"
   ]
  },
  {
   "cell_type": "code",
   "execution_count": 7,
   "id": "c62b2f2c",
   "metadata": {},
   "outputs": [
    {
     "name": "stdout",
     "output_type": "stream",
     "text": [
      "{'fruit': 'kiwi', 'language': 'python', 'nested_values': {'hello': 'world', 'learning': 'fun'}}\n",
      "<class 'dict'>\n"
     ]
    }
   ],
   "source": [
    "# 3. create nested dict\n",
    "# check type\n",
    "nested_dict={\"fruit\":\"kiwi\",\n",
    "             \"language\":\"python\",\n",
    "             \"nested_values\":{\n",
    "                 \"hello\":\"world\",\n",
    "                 \"learning\":\"fun\"\n",
    "             }\n",
    "}\n",
    "print(nested_dict)\n",
    "print(type(nested_dict))"
   ]
  },
  {
   "cell_type": "markdown",
   "id": "c51f2643",
   "metadata": {},
   "source": [
    "# 2. Indexing Dictionaries"
   ]
  },
  {
   "cell_type": "markdown",
   "id": "fb9b6773",
   "metadata": {},
   "source": [
    "Indexing Simple Dictionary"
   ]
  },
  {
   "cell_type": "code",
   "execution_count": null,
   "id": "c7cc74d0",
   "metadata": {},
   "outputs": [],
   "source": [
    "# create a simple dictionary\n",
    "# access different items"
   ]
  },
  {
   "cell_type": "markdown",
   "id": "55f29713",
   "metadata": {},
   "source": [
    "Indexing Nested Dictionary"
   ]
  },
  {
   "cell_type": "code",
   "execution_count": null,
   "id": "b559cd75",
   "metadata": {},
   "outputs": [],
   "source": [
    "# create a nested dictionary\n",
    "# access different items\n"
   ]
  },
  {
   "cell_type": "markdown",
   "id": "9f8696d8",
   "metadata": {},
   "source": [
    "# 3. Dictionaries are Mutable"
   ]
  },
  {
   "cell_type": "code",
   "execution_count": 35,
   "id": "88211cc4",
   "metadata": {},
   "outputs": [
    {
     "name": "stdout",
     "output_type": "stream",
     "text": [
      "{'mango': 500, 'banana': 10, 'orange': 200, 'kiwi': 20}\n"
     ]
    }
   ],
   "source": [
    "#Create a simple Dictionary. Verify Dictionary is mutable by changing values. Adding new values.\n",
    "mutable_dict = {\n",
    "    'mango': 100,\n",
    "    'banana': 10,\n",
    "    'orange': 200,\n",
    "    'kiwi': 20\n",
    "    }\n",
    "\n",
    "mutable_dict[\"mango\"]=500\n",
    "print(mutable_dict)"
   ]
  },
  {
   "cell_type": "markdown",
   "id": "da53aeab",
   "metadata": {},
   "source": [
    "# 4 Dictionary Methods"
   ]
  },
  {
   "cell_type": "markdown",
   "id": "25fa43eb",
   "metadata": {},
   "source": [
    "Most common Dictionary methods are:\n",
    "\n",
    "\n",
    "\n",
    "get(): Returns the value of the specified key\n",
    "\n",
    "\n",
    "\n",
    "\n",
    "keys(): Returns a list containing the dictionary's keys\n",
    "\n",
    "\n",
    "\n",
    "values(): Returns a list of all the values in the dictionary\n",
    "\n",
    "\n",
    "\n",
    "\n",
    "items(): Returns a list containing a tuple of each key-value pairs\n",
    "\n",
    "\n",
    "\n",
    "\n",
    "update(): Updates the dictionary with the specified key-value pairs\n",
    "\n",
    "\n",
    "\n",
    "\n",
    "pop(): Removes the element with the specified key"
   ]
  },
  {
   "cell_type": "code",
   "execution_count": 1,
   "id": "2143d557",
   "metadata": {},
   "outputs": [
    {
     "name": "stdout",
     "output_type": "stream",
     "text": [
      "100\n"
     ]
    }
   ],
   "source": [
    "## initialize dictionary\n",
    "# access value for key = \"banana\"\n",
    "# hint: dict.get(<key>)\n",
    "fruit_counts= {'mango': 100, 'banana': 10, 'orange': 200, 'kiwi': 20}\n",
    "\n",
    "print(fruit_counts.get('mango'))"
   ]
  },
  {
   "cell_type": "code",
   "execution_count": 2,
   "id": "e260e216",
   "metadata": {},
   "outputs": [
    {
     "data": {
      "text/plain": [
       "dict_keys(['mango', 'banana', 'orange', 'kiwi'])"
      ]
     },
     "execution_count": 2,
     "metadata": {},
     "output_type": "execute_result"
    }
   ],
   "source": [
    "# get list of all the keys present in the dictionary\n",
    "# Hint: dict.keys()\n",
    "fruit_counts= {'mango': 100, 'banana': 10, 'orange': 200, 'kiwi': 20}\n",
    "fruit_counts.keys()"
   ]
  },
  {
   "cell_type": "code",
   "execution_count": 3,
   "id": "01a19908",
   "metadata": {},
   "outputs": [
    {
     "data": {
      "text/plain": [
       "dict_values([100, 10, 200, 20])"
      ]
     },
     "execution_count": 3,
     "metadata": {},
     "output_type": "execute_result"
    }
   ],
   "source": [
    "# get list of all the values present in the dictionary\n",
    "# Hint: dict.values()\n",
    "fruit_counts= {'mango': 100, 'banana': 10, 'orange': 200, 'kiwi': 20}\n",
    "fruit_counts.values()"
   ]
  },
  {
   "cell_type": "code",
   "execution_count": 4,
   "id": "750c0520",
   "metadata": {},
   "outputs": [
    {
     "data": {
      "text/plain": [
       "dict_items([('mango', 100), ('banana', 10), ('orange', 200), ('kiwi', 20)])"
      ]
     },
     "execution_count": 4,
     "metadata": {},
     "output_type": "execute_result"
    }
   ],
   "source": [
    "# get list containing tuples of key-value pairs\n",
    "# Hint: dict.items()\n",
    "fruit_counts= {'mango': 100, 'banana': 10, 'orange': 200, 'kiwi': 20}\n",
    "fruit_counts.items()"
   ]
  },
  {
   "cell_type": "code",
   "execution_count": 11,
   "id": "699f28e2",
   "metadata": {},
   "outputs": [
    {
     "name": "stdout",
     "output_type": "stream",
     "text": [
      "{'mango': 500, 'banana': 10, 'orange': 200, 'kiwi': 20}\n"
     ]
    }
   ],
   "source": [
    "# add new item key = 'watermelon', value = 30\n",
    "# Hint: dict.update({key:value})\n",
    "fruit_counts= {'mango': 100, 'banana': 10, 'orange': 200, 'kiwi': 20}\n",
    "fruit_counts.update({'mango':500})\n",
    "print(fruit_counts)"
   ]
  },
  {
   "cell_type": "code",
   "execution_count": 12,
   "id": "f4bca66a",
   "metadata": {},
   "outputs": [
    {
     "name": "stdout",
     "output_type": "stream",
     "text": [
      "{'mango': 100, 'orange': 200, 'kiwi': 20}\n"
     ]
    }
   ],
   "source": [
    "# remove new added items.\n",
    "# Hint: dict.pop(<key>)\n",
    "fruit_counts= {'mango': 100, 'banana': 10, 'orange': 200, 'kiwi': 20}\n",
    "fruit_counts.pop('banana')\n",
    "print(fruit_counts)"
   ]
  },
  {
   "cell_type": "code",
   "execution_count": 22,
   "id": "8b8b8072",
   "metadata": {},
   "outputs": [
    {
     "name": "stdout",
     "output_type": "stream",
     "text": [
      "{'mango': 100, 'banana': 10, 'orange': 200}\n"
     ]
    }
   ],
   "source": [
    "fruit_counts= {'mango': 100, 'banana': 10, 'orange': 200, 'kiwi': 20}\n",
    "fruit_counts.popitem()#Removes the last inserted key-value pair\n",
    "print(fruit_counts)"
   ]
  },
  {
   "cell_type": "code",
   "execution_count": 13,
   "id": "bf3e1b33",
   "metadata": {},
   "outputs": [
    {
     "name": "stdout",
     "output_type": "stream",
     "text": [
      "{}\n"
     ]
    }
   ],
   "source": [
    "#clear()\n",
    "fruit_counts= {'mango': 100, 'banana': 10, 'orange': 200, 'kiwi': 20}\n",
    "fruit_counts.clear()\n",
    "print(fruit_counts)"
   ]
  },
  {
   "cell_type": "code",
   "execution_count": 14,
   "id": "abab962f",
   "metadata": {},
   "outputs": [
    {
     "name": "stdout",
     "output_type": "stream",
     "text": [
      "{'mango': 100, 'banana': 10, 'orange': 200, 'kiwi': 20}\n",
      "{'mango': 100, 'banana': 10, 'orange': 200, 'kiwi': 20}\n"
     ]
    }
   ],
   "source": [
    "#copy()\n",
    "fruit_counts= {'mango': 100, 'banana': 10, 'orange': 200, 'kiwi': 20}\n",
    "dict2=fruit_counts.copy()\n",
    "print(fruit_counts)\n",
    "print(dict2)"
   ]
  },
  {
   "cell_type": "code",
   "execution_count": 20,
   "id": "e5aef22d",
   "metadata": {},
   "outputs": [
    {
     "name": "stdout",
     "output_type": "stream",
     "text": [
      "{'apple': [500, 100, 200], 'pear': [500, 100, 200], 'grape': [500, 100, 200]}\n"
     ]
    }
   ],
   "source": [
    "# Original dictionary\n",
    "fruit_counts = {'mango': 100, 'banana': 10, 'orange': 200, 'kiwi': 20}\n",
    "\n",
    "# Create a new dictionary with keys from a list and a default value of 0\n",
    "new_counts = dict.fromkeys(['apple', 'pear', 'grape'], [500,100,200])\n",
    "\n",
    "# Print the new dictionary\n",
    "print(new_counts)\n"
   ]
  },
  {
   "cell_type": "markdown",
   "id": "c6bd28ef",
   "metadata": {},
   "source": [
    "# 5. Loop Dictionary"
   ]
  },
  {
   "cell_type": "code",
   "execution_count": 27,
   "id": "14f01989",
   "metadata": {},
   "outputs": [
    {
     "name": "stdout",
     "output_type": "stream",
     "text": [
      "mango\n",
      "banana\n",
      "orange\n",
      "kiwi\n"
     ]
    }
   ],
   "source": [
    "#Print all key names in the dictionary, one by one.\n",
    "sample_dict={'mango': 100, 'banana': 10, 'orange': 200, 'kiwi': 20}\n",
    "for i in sample_dict.keys():\n",
    "    print(i)"
   ]
  },
  {
   "cell_type": "code",
   "execution_count": 26,
   "id": "26867183",
   "metadata": {},
   "outputs": [
    {
     "name": "stdout",
     "output_type": "stream",
     "text": [
      "100\n",
      "10\n",
      "200\n",
      "20\n"
     ]
    }
   ],
   "source": [
    "#Print all values in the dictionary one by one.\n",
    "sample_dict={'mango': 100, 'banana': 10, 'orange': 200, 'kiwi': 20}\n",
    "for values in sample_dict.values():\n",
    "    print(values)"
   ]
  },
  {
   "cell_type": "code",
   "execution_count": 29,
   "id": "6086548b",
   "metadata": {},
   "outputs": [
    {
     "name": "stdout",
     "output_type": "stream",
     "text": [
      "('mango', 100)\n",
      "('banana', 10)\n",
      "('orange', 200)\n",
      "('kiwi', 20)\n",
      "key:mango, value:100\n",
      "key:banana, value:10\n",
      "key:orange, value:200\n",
      "key:kiwi, value:20\n"
     ]
    }
   ],
   "source": [
    "#Print all keys and values one by one, using items() method\n",
    "sample_dict={'mango': 100, 'banana': 10, 'orange': 200, 'kiwi': 20}\n",
    "for item in sample_dict.items():\n",
    "    print(item)\n",
    "    \n",
    "    \n",
    "for keys,values in sample_dict.items():\n",
    "    print(f\"key:{keys}, value:{values}\")"
   ]
  },
  {
   "cell_type": "markdown",
   "id": "eef0a7e6",
   "metadata": {},
   "source": [
    "# 5. Dictionary comprehension"
   ]
  },
  {
   "cell_type": "code",
   "execution_count": 33,
   "id": "4cf3275d",
   "metadata": {},
   "outputs": [
    {
     "name": "stdout",
     "output_type": "stream",
     "text": [
      "{'What is the capital of France?': 'Paris', \"Who wrote the play 'Romeo and Juliet'?\": 'William Shakespeare', 'What is the symbol for the chemical element oxygen?': 'O', 'In which year did World War II end?': '1945', 'What is the tallest mammal on Earth?': 'Giraffe'}\n"
     ]
    }
   ],
   "source": [
    "# Sample list of questions\n",
    "questions = [\n",
    "    \"What is the capital of France?\",\n",
    "    \"Who wrote the play 'Romeo and Juliet'?\",\n",
    "    \"What is the symbol for the chemical element oxygen?\",\n",
    "    \"In which year did World War II end?\",\n",
    "    \"What is the tallest mammal on Earth?\",\n",
    "]\n",
    "\n",
    "# Sample list of corresponding answers\n",
    "answers = [\n",
    "    \"Paris\",\n",
    "    \"William Shakespeare\",\n",
    "    \"O\",\n",
    "    \"1945\",\n",
    "    \"Giraffe\",\n",
    "]\n",
    "\n",
    "# Using dictionary comprehension to create a dictionary of questions\n",
    "new_dict={question: answer for question, answer in zip(questions,answers)}\n",
    "\n",
    "print(new_dict)"
   ]
  }
 ],
 "metadata": {
  "kernelspec": {
   "display_name": "Python 3 (ipykernel)",
   "language": "python",
   "name": "python3"
  },
  "language_info": {
   "codemirror_mode": {
    "name": "ipython",
    "version": 3
   },
   "file_extension": ".py",
   "mimetype": "text/x-python",
   "name": "python",
   "nbconvert_exporter": "python",
   "pygments_lexer": "ipython3",
   "version": "3.11.5"
  }
 },
 "nbformat": 4,
 "nbformat_minor": 5
}
