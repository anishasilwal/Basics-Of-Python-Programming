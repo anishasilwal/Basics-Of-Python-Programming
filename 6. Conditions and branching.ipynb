{
 "cells": [
  {
   "cell_type": "markdown",
   "id": "581070a3",
   "metadata": {},
   "source": [
    "if, elif, else keywords are used to accomplish conditions and branching in python."
   ]
  },
  {
   "cell_type": "markdown",
   "id": "10ff4895",
   "metadata": {},
   "source": [
    "# 1. if statement: How python program enters if blocks? "
   ]
  },
  {
   "cell_type": "code",
   "execution_count": 6,
   "id": "57fb088f",
   "metadata": {},
   "outputs": [
    {
     "name": "stdout",
     "output_type": "stream",
     "text": [
      "if block goes here\n"
     ]
    }
   ],
   "source": [
    "if True:\n",
    "    print(\"if block goes here\")"
   ]
  },
  {
   "cell_type": "code",
   "execution_count": 7,
   "id": "15b02e20",
   "metadata": {},
   "outputs": [
    {
     "name": "stdout",
     "output_type": "stream",
     "text": [
      "a is smaller than b\n"
     ]
    }
   ],
   "source": [
    "a=10\n",
    "b=70\n",
    "if(a<b):\n",
    "    print(\"a is smaller than b\")"
   ]
  },
  {
   "cell_type": "code",
   "execution_count": 10,
   "id": "2df25121",
   "metadata": {},
   "outputs": [
    {
     "name": "stdout",
     "output_type": "stream",
     "text": [
      "Enter the age1:10\n",
      "Enter the age2:5\n",
      "User1 is taller than User2\n"
     ]
    }
   ],
   "source": [
    "user1=int(input(\"Enter the age1:\"))\n",
    "user2=int(input(\"Enter the age2:\"))\n",
    "if(user1>user2):\n",
    "    print(\"User1 is taller than User2\")"
   ]
  },
  {
   "cell_type": "markdown",
   "id": "7940df0d",
   "metadata": {},
   "source": [
    "# 2. Simple if else statements"
   ]
  },
  {
   "cell_type": "markdown",
   "id": "781db774",
   "metadata": {},
   "source": [
    "Generally, if statement has an optional elif, else clause.\n",
    "\n",
    "\n",
    "\n",
    "syntax 1:-\n",
    "\n",
    "if condition:\n",
    "\n",
    "\n",
    "\n",
    "\n",
    "\n",
    "\n",
    "        # block of code if condition is True\n",
    "        \n",
    "        \n",
    "\n",
    "else:\n",
    "\n",
    "\n",
    "\n",
    "\n",
    "\n",
    "\n",
    "         # block of code if condition is False\n",
    "    \n",
    "    \n",
    "    \n",
    "    \n",
    "    \n",
    "syntax 2:-\n",
    "\n",
    "\n",
    "\n",
    "if condition1:\n",
    "\n",
    "\n",
    "\n",
    "\n",
    "\n",
    "               # code block 1\n",
    "\n",
    "elif condition2:\n",
    "\n",
    "\n",
    "\n",
    "\n",
    "\n",
    "             # code block 2\n",
    "\n",
    "else:\n",
    "\n",
    "\n",
    "\n",
    "               # code block 3"
   ]
  },
  {
   "cell_type": "code",
   "execution_count": 13,
   "id": "39bacf7d",
   "metadata": {},
   "outputs": [
    {
     "name": "stdout",
     "output_type": "stream",
     "text": [
      "Enter the number:5\n",
      "The number is positive.\n"
     ]
    }
   ],
   "source": [
    "#Input number from user. print \"postive number\" if number is positive else print \"negative number. Consider 0 as positive as well.\"\n",
    "user_input=int(input(\"Enter the number:\"))\n",
    "\n",
    "if user_input>0:\n",
    "    print(\"The number is positive.\")\n",
    "    \n",
    "elif user_input<0:\n",
    "    print(\"The number is negative.\")\n",
    "\n",
    "else:\n",
    "    print(\"The number is positive as well as negative.\")"
   ]
  },
  {
   "cell_type": "code",
   "execution_count": 18,
   "id": "d78c049f",
   "metadata": {},
   "outputs": [
    {
     "name": "stdout",
     "output_type": "stream",
     "text": [
      "Enter the 1st number:30\n",
      "Enter the 2nd number:21\n",
      "num1 > num2\n"
     ]
    }
   ],
   "source": [
    "#Input two numbers num1, and num2 from user,\n",
    "\n",
    "#if num1 > num2: print \"num1 > num2\"\n",
    "#if num1 == num2: print \"num1 = num2\"\n",
    "#if num1 < num2: print \"num1 < num2\"\n",
    "\n",
    "num1=int(input(\"Enter the 1st number:\"))\n",
    "num2=int(input(\"Enter the 2nd number:\"))\n",
    "if num1>num2:\n",
    "    print(\"num1 > num2\")\n",
    "elif num1 == num2:\n",
    "    print(\"num1 = num2\")\n",
    "else:\n",
    "    print(\"num1 < num2\")"
   ]
  },
  {
   "cell_type": "markdown",
   "id": "2484184a",
   "metadata": {},
   "source": [
    "# 3. Nested if else statements."
   ]
  },
  {
   "cell_type": "markdown",
   "id": "dc9ffa78",
   "metadata": {},
   "source": [
    "Syntax:\n",
    "\n",
    "if condition1:\n",
    "  \n",
    "  \n",
    "  \n",
    "  if condition:\n",
    "  \n",
    "  \n",
    "  \n",
    "  \n",
    "    # code block\n",
    "    \n",
    "    \n",
    "    \n",
    "    \n",
    "    \n",
    "    \n",
    "  else:\n",
    "  \n",
    "  \n",
    "  \n",
    "  \n",
    "  \n",
    "  \n",
    "    # code block\n",
    "    \n",
    "    \n",
    "    \n",
    "    \n",
    "\n",
    "elif condition2:\n",
    "\n",
    "\n",
    "\n",
    "\n",
    "  if condition:\n",
    "  \n",
    "  \n",
    "  \n",
    "  \n",
    "  \n",
    "  \n",
    "    # code block\n",
    "    \n",
    "    \n",
    "    \n",
    "    \n",
    "    \n",
    "    \n",
    "    \n",
    "  else:\n",
    "  \n",
    "  \n",
    "  \n",
    "  \n",
    "  \n",
    "    # code block\n",
    "    \n",
    "    \n",
    "    \n",
    "    \n",
    ":::::::::::::::::\n",
    ":::::::::::::::::\n",
    "\n",
    "else:\n",
    "\n",
    "\n",
    "\n",
    "\n",
    "  if condition:\n",
    "  \n",
    "  \n",
    "  \n",
    "  \n",
    "  \n",
    "  \n",
    "    # code block\n",
    "\n",
    "\n",
    "\n",
    "\n",
    "  elif condition:\n",
    "  \n",
    "  \n",
    "  \n",
    "  \n",
    "  \n",
    "    # code block\n",
    "    \n",
    "    \n",
    "    \n",
    "    \n",
    "  else:\n",
    "  \n",
    "  \n",
    "  \n",
    "  \n",
    "  \n",
    "    # code block"
   ]
  },
  {
   "cell_type": "code",
   "execution_count": 19,
   "id": "850f86ca",
   "metadata": {},
   "outputs": [
    {
     "name": "stdout",
     "output_type": "stream",
     "text": [
      "num2 is max. \n"
     ]
    }
   ],
   "source": [
    "#Write a python program to find max of three numbers.\n",
    "num1 = 10\n",
    "num2 = 22\n",
    "num3 = 12\n",
    "\n",
    "if num1>num2:\n",
    "    if num1>num3:\n",
    "        print(\"num1 is max.\")\n",
    "    else:\n",
    "        print(\"num3 is max.\")\n",
    "else:\n",
    "    if num2>num3:\n",
    "        print(\"num2 is max. \")\n",
    "    else:\n",
    "        print(\"num3 is max.\")"
   ]
  },
  {
   "cell_type": "markdown",
   "id": "2d9353e7",
   "metadata": {},
   "source": [
    "# 4. Short Hand if...else statements / Ternary Operators"
   ]
  },
  {
   "cell_type": "markdown",
   "id": "ee1eb22a",
   "metadata": {},
   "source": [
    "Syntax (simple if else):\n",
    "\n",
    "\n",
    "\n",
    "\n",
    "\n",
    "\n",
    "<if_block> if <condition> else <else_block>\n",
    "    \n",
    "    \n",
    "    \n",
    "    \n",
    "\n",
    "Syntax (nested simple if else):-\n",
    "    \n",
    "    \n",
    "    \n",
    "    \n",
    "\n",
    "(<code_block> if <condition> else <code_block>) if < if_condition > else (<code_block> if <condition> else <code_block>)"
   ]
  },
  {
   "cell_type": "code",
   "execution_count": 1,
   "id": "bbda0ca5",
   "metadata": {},
   "outputs": [
    {
     "name": "stdout",
     "output_type": "stream",
     "text": [
      "a is greater than b\n"
     ]
    }
   ],
   "source": [
    "#Write a python program to print max of 2 numbers using ternary operator.\n",
    "a=30\n",
    "b=20\n",
    "\n",
    "print(\"a is greater than b\") if a>b else print(\"b is greater.\") "
   ]
  },
  {
   "cell_type": "code",
   "execution_count": 2,
   "id": "7d2d5845",
   "metadata": {},
   "outputs": [
    {
     "name": "stdout",
     "output_type": "stream",
     "text": [
      "22\n"
     ]
    }
   ],
   "source": [
    "#Write a python program to print max of 3 numbers using ternary operator.\n",
    "num1 = 10\n",
    "num2 = 22\n",
    "num3 = 12\n",
    "\n",
    "(print(num1) if num1 > num3 else print(num3))if num1>num2 else (print(num2) if num2>num3 else print(num3))"
   ]
  },
  {
   "cell_type": "markdown",
   "id": "1e359887",
   "metadata": {},
   "source": [
    "# 5. Pass Keyword"
   ]
  },
  {
   "cell_type": "markdown",
   "id": "e12a64c8",
   "metadata": {},
   "source": [
    "1. pass keyword acts as a placeholder for code to be added in if..else block."
   ]
  },
  {
   "cell_type": "markdown",
   "id": "613f4db0",
   "metadata": {},
   "source": [
    "Syntax:\n",
    "\n",
    "\n",
    "\n",
    "if <  >:\n",
    "    \n",
    "    \n",
    "    \n",
    "  pass\n",
    "    \n",
    "    \n",
    "    \n",
    "else <  >:\n",
    "    \n",
    "    \n",
    "    \n",
    "    \n",
    "  pass"
   ]
  },
  {
   "cell_type": "code",
   "execution_count": 8,
   "id": "dd1a8657",
   "metadata": {},
   "outputs": [
    {
     "name": "stdout",
     "output_type": "stream",
     "text": [
      "a is great\n",
      "hello\n"
     ]
    }
   ],
   "source": [
    "## write your program using \"pass\" keyword\n",
    "a=2\n",
    "b=1\n",
    "\n",
    "if a>b:\n",
    "    print(\"a is great\")\n",
    "    pass\n",
    "    print(\"hello\")\n",
    "\n",
    "else:\n",
    "  print(\"Hi\")"
   ]
  }
 ],
 "metadata": {
  "kernelspec": {
   "display_name": "Python 3 (ipykernel)",
   "language": "python",
   "name": "python3"
  },
  "language_info": {
   "codemirror_mode": {
    "name": "ipython",
    "version": 3
   },
   "file_extension": ".py",
   "mimetype": "text/x-python",
   "name": "python",
   "nbconvert_exporter": "python",
   "pygments_lexer": "ipython3",
   "version": "3.11.5"
  }
 },
 "nbformat": 4,
 "nbformat_minor": 5
}
