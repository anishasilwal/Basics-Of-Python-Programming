{
 "cells": [
  {
   "cell_type": "markdown",
   "id": "bf21a24b",
   "metadata": {},
   "source": [
    "# 1. Creating Strings"
   ]
  },
  {
   "cell_type": "code",
   "execution_count": 1,
   "id": "46eda53e",
   "metadata": {},
   "outputs": [
    {
     "name": "stdout",
     "output_type": "stream",
     "text": [
      "Single quotation string is: Learning\n",
      "Double quotation string is: Python\n"
     ]
    }
   ],
   "source": [
    "# create string using single and double quotation\n",
    "string_single_quotation='Learning'\n",
    "string_double_quotation=\"Python\"\n",
    "print(\"Single quotation string is:\",string_single_quotation)\n",
    "print(\"Double quotation string is:\",string_double_quotation)"
   ]
  },
  {
   "cell_type": "code",
   "execution_count": 2,
   "id": "34ea1594",
   "metadata": {},
   "outputs": [
    {
     "name": "stdout",
     "output_type": "stream",
     "text": [
      "The string is same. \n"
     ]
    }
   ],
   "source": [
    "## use assert keyword \n",
    "# to check whether single_quot_str is equal to double_quot_str\n",
    "string_single_quotation='Learning'\n",
    "string_double_quotation=\"Python\"\n",
    "\n",
    "assert string_single_quotation!=string_double_quotation\n",
    "\n",
    "print(\"The string is same. \")"
   ]
  },
  {
   "cell_type": "code",
   "execution_count": 3,
   "id": "ad938855",
   "metadata": {},
   "outputs": [
    {
     "name": "stdout",
     "output_type": "stream",
     "text": [
      "I am learning python.\n",
      "Coding is fun.\n"
     ]
    }
   ],
   "source": [
    "# create multi line string using Three Double Quotation\n",
    "multi_line=\"\"\"I am learning python.\n",
    "Coding is fun.\"\"\"\n",
    "print(multi_line)"
   ]
  },
  {
   "cell_type": "code",
   "execution_count": 4,
   "id": "0c4d65a6",
   "metadata": {},
   "outputs": [
    {
     "name": "stdout",
     "output_type": "stream",
     "text": [
      "I am learning python.\n",
      "Coding is fun.\n"
     ]
    }
   ],
   "source": [
    "# create multi line string using Three Single Quotation\n",
    "multi_line='''I am learning python.\n",
    "Coding is fun.'''\n",
    "print(multi_line)"
   ]
  },
  {
   "cell_type": "code",
   "execution_count": 5,
   "id": "6191da7f",
   "metadata": {},
   "outputs": [
    {
     "name": "stdout",
     "output_type": "stream",
     "text": [
      "**Hi I'm learning string creation.**\n"
     ]
    }
   ],
   "source": [
    "#Create a string named string_phrase and assign value **Hi I'm learning string creation.**\n",
    "string_phrase=\"**Hi I'm learning string creation.**\"\n",
    "print(string_phrase)"
   ]
  },
  {
   "cell_type": "markdown",
   "id": "df34fadf",
   "metadata": {},
   "source": [
    "# 2. Concatenate Strings"
   ]
  },
  {
   "cell_type": "code",
   "execution_count": 6,
   "id": "41a809a7",
   "metadata": {},
   "outputs": [
    {
     "name": "stdout",
     "output_type": "stream",
     "text": [
      "stringconcat\n",
      "string concat\n"
     ]
    }
   ],
   "source": [
    "'''Concatenate two string named a and b adding space in between.\n",
    "\n",
    "Input:  a = string,  b = concat  \n",
    "Output: string concat '''\n",
    "\n",
    "a=\"string\"\n",
    "b=\"concat\"\n",
    "\n",
    "print(a + b)\n",
    "\n",
    "print(a+ \" \"+ b)"
   ]
  },
  {
   "cell_type": "markdown",
   "id": "40549119",
   "metadata": {},
   "source": [
    "# 3. Indexing Strings"
   ]
  },
  {
   "cell_type": "markdown",
   "id": "4b414eac",
   "metadata": {},
   "source": [
    "3.1 Positive Indexing"
   ]
  },
  {
   "cell_type": "code",
   "execution_count": 7,
   "id": "fda85eae",
   "metadata": {},
   "outputs": [
    {
     "name": "stdout",
     "output_type": "stream",
     "text": [
      "String Indexin\n"
     ]
    }
   ],
   "source": [
    "indexing_str = \"String Indexin\"\n",
    "print(indexing_str)"
   ]
  },
  {
   "cell_type": "code",
   "execution_count": 8,
   "id": "76303c03",
   "metadata": {},
   "outputs": [
    {
     "name": "stdout",
     "output_type": "stream",
     "text": [
      "S\n"
     ]
    }
   ],
   "source": [
    "# print first element (S) in the string\n",
    "indexing_str = \"String Indexin\"\n",
    "print(indexing_str[0])"
   ]
  },
  {
   "cell_type": "code",
   "execution_count": 9,
   "id": "06357a05",
   "metadata": {},
   "outputs": [
    {
     "name": "stdout",
     "output_type": "stream",
     "text": [
      "r\n"
     ]
    }
   ],
   "source": [
    "# print third element (r) in the string\n",
    "indexing_str = \"String Indexin\"\n",
    "print(indexing_str[2])"
   ]
  },
  {
   "cell_type": "code",
   "execution_count": 10,
   "id": "2c6bb493",
   "metadata": {},
   "outputs": [
    {
     "name": "stdout",
     "output_type": "stream",
     "text": [
      "g\n"
     ]
    }
   ],
   "source": [
    "# print 6th element (g) in the string\n",
    "indexing_str = \"String Indexin\"\n",
    "print(indexing_str[5])"
   ]
  },
  {
   "cell_type": "code",
   "execution_count": 11,
   "id": "83322710",
   "metadata": {},
   "outputs": [
    {
     "name": "stdout",
     "output_type": "stream",
     "text": [
      "g\n"
     ]
    }
   ],
   "source": [
    "# print last element (n) in the string\n",
    "indexing_str = \"String Indexin\"\n",
    "print(indexing_str[5])"
   ]
  },
  {
   "cell_type": "markdown",
   "id": "eb9a0fe4",
   "metadata": {},
   "source": [
    "3.2 Negative Indexing"
   ]
  },
  {
   "cell_type": "code",
   "execution_count": 12,
   "id": "392c9504",
   "metadata": {},
   "outputs": [
    {
     "name": "stdout",
     "output_type": "stream",
     "text": [
      "S\n"
     ]
    }
   ],
   "source": [
    "# print first item (S) using negative indexing\n",
    "indexing_str = \"String Indexin\"\n",
    "print(indexing_str[-14])"
   ]
  },
  {
   "cell_type": "code",
   "execution_count": 13,
   "id": "a49fa2bf",
   "metadata": {},
   "outputs": [
    {
     "name": "stdout",
     "output_type": "stream",
     "text": [
      "n\n"
     ]
    }
   ],
   "source": [
    "# print last item (n) using negative indexing\n",
    "indexing_str = \"String Indexin\"\n",
    "print(indexing_str[-1])"
   ]
  },
  {
   "cell_type": "code",
   "execution_count": 14,
   "id": "cc7f5f7b",
   "metadata": {},
   "outputs": [
    {
     "name": "stdout",
     "output_type": "stream",
     "text": [
      "g\n"
     ]
    }
   ],
   "source": [
    "# print 6th item (g) using negative indexing\n",
    "indexing_str = \"String Indexin\"\n",
    "print(indexing_str[-9])"
   ]
  },
  {
   "cell_type": "markdown",
   "id": "3e304317",
   "metadata": {},
   "source": [
    "# 4. Slicing Strings"
   ]
  },
  {
   "cell_type": "markdown",
   "id": "a5b7fe98",
   "metadata": {},
   "source": [
    "Case 1: When step is positive"
   ]
  },
  {
   "cell_type": "code",
   "execution_count": 15,
   "id": "2ace70ab",
   "metadata": {},
   "outputs": [
    {
     "name": "stdout",
     "output_type": "stream",
     "text": [
      "Str\n"
     ]
    }
   ],
   "source": [
    "# slice first 3 characters using positive index\n",
    "indexing_str = \"String Indexin\"\n",
    "print(indexing_str[:3])"
   ]
  },
  {
   "cell_type": "code",
   "execution_count": 16,
   "id": "18cc205e",
   "metadata": {},
   "outputs": [
    {
     "name": "stdout",
     "output_type": "stream",
     "text": [
      "Str\n"
     ]
    }
   ],
   "source": [
    "# slice first 3 characters using negative index\n",
    "indexing_str = \"String Indexin\"\n",
    "print(indexing_str[-14:-11])"
   ]
  },
  {
   "cell_type": "code",
   "execution_count": 17,
   "id": "0f3c6dea",
   "metadata": {},
   "outputs": [
    {
     "name": "stdout",
     "output_type": "stream",
     "text": [
      "Srn nei\n"
     ]
    }
   ],
   "source": [
    "# get characters at even indexing\n",
    "# desired output: \"srn nei\"\n",
    "#\n",
    "# Hint: use step = 2\n",
    "indexing_str = \"String Indexin\"\n",
    "print(indexing_str[0::2])"
   ]
  },
  {
   "cell_type": "markdown",
   "id": "870f47db",
   "metadata": {},
   "source": [
    "Case 2: When step is negative."
   ]
  },
  {
   "cell_type": "code",
   "execution_count": 18,
   "id": "6f3cfb45",
   "metadata": {},
   "outputs": [
    {
     "name": "stdout",
     "output_type": "stream",
     "text": [
      "nixednI gnirtS\n"
     ]
    }
   ],
   "source": [
    "# reverse string\n",
    "# output: \"nixednI gnirtS\"\n",
    "indexing_str = \"String Indexin\"\n",
    "print(indexing_str[::-1])"
   ]
  },
  {
   "cell_type": "markdown",
   "id": "c1a0ba96",
   "metadata": {},
   "source": [
    "# 5. Strings are immutable"
   ]
  },
  {
   "cell_type": "markdown",
   "id": "f72350f8",
   "metadata": {},
   "source": [
    "This means, once string is created, the elements within it cannot be changed or replaced."
   ]
  },
  {
   "cell_type": "markdown",
   "id": "553a5613",
   "metadata": {},
   "source": [
    "6. String Methods"
   ]
  },
  {
   "cell_type": "markdown",
   "id": "b8f695d3",
   "metadata": {},
   "source": [
    "1. upper() --> Upper Case a string\n",
    "2. lower() --> Lower Case a string\n",
    "3. split() --> Split a string at specified separator\n",
    "4. strip() --> Return trimmed version of the string\n",
    "5. replace() --> Returns a string where a specified value is replaced with a specified value\n",
    "6. endswith() --> Returns True if the string ends with specified value\n",
    "7. isdigit() --> Returns True if all characters in the string are digits"
   ]
  },
  {
   "cell_type": "code",
   "execution_count": 19,
   "id": "3801a9aa",
   "metadata": {},
   "outputs": [
    {
     "name": "stdout",
     "output_type": "stream",
     "text": [
      "  I am practicing String MEthod!!\n"
     ]
    }
   ],
   "source": [
    "# initialize sample string\n",
    "str_method = \"  I am practicing String MEthod!!\"\n",
    "print(str_method)"
   ]
  },
  {
   "cell_type": "code",
   "execution_count": 20,
   "id": "bd2babdb",
   "metadata": {},
   "outputs": [
    {
     "name": "stdout",
     "output_type": "stream",
     "text": [
      "I AM PRACTICING STRING METHOD!!\n"
     ]
    }
   ],
   "source": [
    "# convert string to upper case\n",
    "# Hint: .upper()\n",
    "str_method = \"I am practicing String MEthod!!\"\n",
    "print(str_method.upper())"
   ]
  },
  {
   "cell_type": "code",
   "execution_count": 21,
   "id": "52539210",
   "metadata": {},
   "outputs": [
    {
     "name": "stdout",
     "output_type": "stream",
     "text": [
      "  i am practicing string method!!\n"
     ]
    }
   ],
   "source": [
    "# convert string to lower case\n",
    "# Hint: .lower()\n",
    "str_method = \"  I am practicing String MEthod!!\"\n",
    "print(str_method.lower())"
   ]
  },
  {
   "cell_type": "code",
   "execution_count": 22,
   "id": "d9e08d8b",
   "metadata": {},
   "outputs": [
    {
     "name": "stdout",
     "output_type": "stream",
     "text": [
      "['I', 'am', 'practicing', 'String', 'MEthod!!']\n"
     ]
    }
   ],
   "source": [
    "# split string based on white space\n",
    "# Hint: .split()\n",
    "str_method = \"  I am practicing String MEthod!!\"\n",
    "print(str_method.split())"
   ]
  },
  {
   "cell_type": "code",
   "execution_count": 23,
   "id": "8fe77df7",
   "metadata": {},
   "outputs": [
    {
     "name": "stdout",
     "output_type": "stream",
     "text": [
      "  Hi am practicing String MEthod!!\n"
     ]
    }
   ],
   "source": [
    "# Replace \"am parcticing\" with \"have practiced\"\n",
    "# Hint: .string(to_replace_str, desired_str)\n",
    "str_method = \"  I am practicing String MEthod!!\"\n",
    "print(str_method.replace(\"I\",\"Hi\"))"
   ]
  },
  {
   "cell_type": "code",
   "execution_count": 24,
   "id": "9cf97150",
   "metadata": {},
   "outputs": [
    {
     "name": "stdout",
     "output_type": "stream",
     "text": [
      "True\n"
     ]
    }
   ],
   "source": [
    "# Test if string end with \"!!\"\n",
    "# Hint: .endswith(\"!!\")\n",
    "str_method = \"  I am practicing String MEthod!!\"\n",
    "print(str_method.endswith(\"!!\"))"
   ]
  },
  {
   "cell_type": "code",
   "execution_count": 25,
   "id": "ad3770b8",
   "metadata": {},
   "outputs": [
    {
     "name": "stdout",
     "output_type": "stream",
     "text": [
      "False\n"
     ]
    }
   ],
   "source": [
    "# Test if all characters in the string are digits\n",
    "# Hint: .isdigit()\n",
    "str_method = \"  I am practicing String MEthod!!\"\n",
    "print(str_method.isdigit())"
   ]
  },
  {
   "cell_type": "code",
   "execution_count": 26,
   "id": "9bc1b396",
   "metadata": {},
   "outputs": [
    {
     "name": "stdout",
     "output_type": "stream",
     "text": [
      "I am practicing String MEthod!!\n"
     ]
    }
   ],
   "source": [
    "# remove starting white space\n",
    "# Hint: .strip()\n",
    "str_method = \"  I am practicing String MEthod!!\"\n",
    "print(str_method.strip())"
   ]
  },
  {
   "cell_type": "markdown",
   "id": "9a7f4c01",
   "metadata": {},
   "source": [
    "# 7. String Formatting"
   ]
  },
  {
   "cell_type": "markdown",
   "id": "452321b3",
   "metadata": {},
   "source": [
    "String formatting is the process of inserting a custom string or variable in predefined text.\n"
   ]
  },
  {
   "cell_type": "markdown",
   "id": "87711fe1",
   "metadata": {},
   "source": [
    "format():\n",
    "\n",
    "we can combine string and number using format() method.\n",
    "Example:\n",
    "\n",
    "\n",
    "  Given, age = 20\n",
    "  \n",
    "  \n",
    "  to_display: Your age is 20\n",
    "\n",
    "  code:\n",
    "  \n",
    "  \n",
    "    Approach1: \"Your age is {}\".format(age), or   \n",
    "    Approach2: \"Your age is {0}\".format(age)"
   ]
  },
  {
   "cell_type": "code",
   "execution_count": 27,
   "id": "388573b2",
   "metadata": {},
   "outputs": [
    {
     "name": "stdout",
     "output_type": "stream",
     "text": [
      "Hi, I am Anisha. I am 23 years old.\n"
     ]
    }
   ],
   "source": [
    "# Display message using String Concatenation (+) operators\n",
    "user_name=\" Anisha\"\n",
    "user_age= 23\n",
    "print(\"Hi, I am\" + user_name + \". I am \" + str(user_age) + \" years old.\")"
   ]
  },
  {
   "cell_type": "code",
   "execution_count": 28,
   "id": "01a1bd00",
   "metadata": {},
   "outputs": [
    {
     "name": "stdout",
     "output_type": "stream",
     "text": [
      "Hi I am Anisha\n",
      "I am 23 years old\n"
     ]
    }
   ],
   "source": [
    "# get input from user\n",
    "\n",
    "user_name = \"Anisha\"\n",
    "user_age = 23\n",
    "\n",
    "print(\"Hi I am {}\".format(user_name))\n",
    "print(\"I am {0} years old\".format(user_age))"
   ]
  },
  {
   "cell_type": "markdown",
   "id": "b8e750f6",
   "metadata": {},
   "source": [
    "Formatted String or f-Strings:\n",
    "\n",
    "A formatted String is a String that is prefixed with f or F."
   ]
  },
  {
   "cell_type": "code",
   "execution_count": 29,
   "id": "84ca70b0",
   "metadata": {},
   "outputs": [
    {
     "name": "stdout",
     "output_type": "stream",
     "text": [
      "Hi I am Anisha. I am 23 years old.\n",
      "Hi I am Anisha. I am 23 years old.\n"
     ]
    }
   ],
   "source": [
    "#display message using f-string\n",
    "user_name=\"Anisha\"\n",
    "user_age=23\n",
    "\n",
    "print(f\"Hi I am {user_name}. I am {user_age} years old.\")\n",
    "print(F\"Hi I am {user_name}. I am {user_age} years old.\")"
   ]
  },
  {
   "cell_type": "markdown",
   "id": "311a786d",
   "metadata": {},
   "source": [
    "# 8. Escape Characters:"
   ]
  },
  {
   "cell_type": "code",
   "execution_count": 30,
   "id": "5eef74fc",
   "metadata": {},
   "outputs": [
    {
     "name": "stdout",
     "output_type": "stream",
     "text": [
      "I'm learning Python.\n"
     ]
    }
   ],
   "source": [
    "# How to insert single quotation character in a string created using single quotation?\n",
    "print('I\\'m learning Python.')"
   ]
  },
  {
   "cell_type": "code",
   "execution_count": 31,
   "id": "78d3c919",
   "metadata": {},
   "outputs": [
    {
     "name": "stdout",
     "output_type": "stream",
     "text": [
      "She is from \"Pokhara.\"\n"
     ]
    }
   ],
   "source": [
    "# Experiment with Backslash Escape character\n",
    "print(\"She is from \\\"Pokhara.\\\"\")"
   ]
  },
  {
   "cell_type": "code",
   "execution_count": 32,
   "id": "a642d726",
   "metadata": {},
   "outputs": [
    {
     "name": "stdout",
     "output_type": "stream",
     "text": [
      "I'm learning Python.\n",
      "Coding is fun.\n"
     ]
    }
   ],
   "source": [
    "# Experiment with newline escape character\n",
    "# \\n\n",
    "print(\"I\\'m learning Python.\\nCoding is fun.\")"
   ]
  },
  {
   "cell_type": "code",
   "execution_count": 33,
   "id": "0c6c1839",
   "metadata": {},
   "outputs": [
    {
     "name": "stdout",
     "output_type": "stream",
     "text": [
      "I'm learning Python.\tCoding is fun.\n"
     ]
    }
   ],
   "source": [
    "# experiment with tab escape character\n",
    "# \\t\n",
    "print(\"I\\'m learning Python.\\tCoding is fun.\")"
   ]
  },
  {
   "cell_type": "markdown",
   "id": "01cf7272",
   "metadata": {},
   "source": [
    "# 9. String Loop"
   ]
  },
  {
   "cell_type": "markdown",
   "id": "6eee3320",
   "metadata": {},
   "source": [
    "It is possible to loop through characters present in the string.\n",
    "\n",
    "Loop:\n",
    "\n",
    "Loop is used for iterating over a sequence.\n",
    "string is sequence of characters we can loop through string.\n",
    "Python provides for keyword for loop (also called for loop)."
   ]
  },
  {
   "cell_type": "markdown",
   "id": "718e71b7",
   "metadata": {},
   "source": [
    "i). find length of string:"
   ]
  },
  {
   "cell_type": "code",
   "execution_count": 34,
   "id": "a435707d",
   "metadata": {},
   "outputs": [
    {
     "name": "stdout",
     "output_type": "stream",
     "text": [
      "The length of the string is 6\n"
     ]
    }
   ],
   "source": [
    "# define string\n",
    "# find string length\n",
    "#\n",
    "# Hint: len(str)\n",
    "language=\"Python\"\n",
    "print(\"The length of the string is\",len(language))"
   ]
  },
  {
   "cell_type": "markdown",
   "id": "ddaffd88",
   "metadata": {},
   "source": [
    "ii). Loop through a String"
   ]
  },
  {
   "cell_type": "code",
   "execution_count": 35,
   "id": "f65d9230",
   "metadata": {},
   "outputs": [
    {
     "name": "stdout",
     "output_type": "stream",
     "text": [
      "P\n",
      "y\n",
      "t\n",
      "h\n",
      "o\n",
      "n\n"
     ]
    }
   ],
   "source": [
    "# define string \n",
    "# loop through string\n",
    "language=\"Python\"\n",
    "for letters in language:\n",
    "    print(letters)"
   ]
  },
  {
   "cell_type": "markdown",
   "id": "a5872c75",
   "metadata": {},
   "source": [
    "# 10. String Exercise"
   ]
  },
  {
   "cell_type": "code",
   "execution_count": 36,
   "id": "e9566c9f",
   "metadata": {},
   "outputs": [
    {
     "name": "stdout",
     "output_type": "stream",
     "text": [
      "6\n"
     ]
    }
   ],
   "source": [
    "#Use the len method to print the length of string.\n",
    "dell=\"laptop\"\n",
    "print(len(dell))"
   ]
  },
  {
   "cell_type": "code",
   "execution_count": 37,
   "id": "93a61f0f",
   "metadata": {},
   "outputs": [
    {
     "name": "stdout",
     "output_type": "stream",
     "text": [
      "6\n"
     ]
    }
   ],
   "source": [
    "#Print length of String without using len function.\n",
    "dell=\"laptop\"\n",
    "count=0\n",
    "\n",
    "for i in dell:\n",
    "    count+=1\n",
    "    \n",
    "print(count)\n"
   ]
  },
  {
   "cell_type": "code",
   "execution_count": 38,
   "id": "042f8bbf",
   "metadata": {},
   "outputs": [
    {
     "name": "stdout",
     "output_type": "stream",
     "text": [
      "The vowel letters are['a', 'o']\n",
      "The consonent letters are['l', 'p', 't', 'p']\n"
     ]
    }
   ],
   "source": [
    "#Write python program to print vowel and consonants on the given string.\n",
    "vowel=\"aeiouAEIOU\"\n",
    "dell=\"laptop\"\n",
    "vowel_letters=[]\n",
    "consonent=[]\n",
    "\n",
    "for i in dell:\n",
    "    if i in vowel:\n",
    "        vowel_letters.append(i)\n",
    "    elif i.isalpha():\n",
    "        consonent.append(i)\n",
    "        \n",
    "print(f\"The vowel letters are{vowel_letters}\")\n",
    "print(f\"The consonent letters are{consonent}\")"
   ]
  },
  {
   "cell_type": "code",
   "execution_count": 39,
   "id": "5fb0de96",
   "metadata": {},
   "outputs": [
    {
     "name": "stdout",
     "output_type": "stream",
     "text": [
      "myxyz\n",
      "myyz\n"
     ]
    }
   ],
   "source": [
    "# Write a python program to extract first and last 2 character into new string.\n",
    "input_string=\"my name is xyz\"\n",
    "\n",
    "split_string=input_string.split()\n",
    "print(split_string[0]+split_string[3])\n",
    "\n",
    "\n",
    "first=input_string[0:2]\n",
    "#print(first)\n",
    "\n",
    "last=input_string[-2:]\n",
    "#print(last)\n",
    "\n",
    "output_string=first+last\n",
    "print(output_string)"
   ]
  },
  {
   "cell_type": "code",
   "execution_count": 44,
   "id": "bb2b0426",
   "metadata": {},
   "outputs": [
    {
     "name": "stdout",
     "output_type": "stream",
     "text": [
      "serst ficond\n"
     ]
    }
   ],
   "source": [
    "#Write a python program to get a single string from two given strings, separated by a space and swap the first two characters of each string.\n",
    "first_string=\"first\"\n",
    "second_string=\"second\"\n",
    "\n",
    "combine=first_string+\" \"+second_string\n",
    "\n",
    "swapped=second_string[:2]+first_string[2:]+\" \"+first_string[:2]+second_string[2:]\n",
    "print(swapped)"
   ]
  },
  {
   "cell_type": "code",
   "execution_count": 50,
   "id": "35b9d5fb",
   "metadata": {},
   "outputs": [
    {
     "name": "stdout",
     "output_type": "stream",
     "text": [
      "Enter the string:hello world\n",
      "Enter the no. of index to be removed:3\n",
      "helo world\n"
     ]
    }
   ],
   "source": [
    "#Write a python program to remove the nth index character from a nonempty string. Ask user to input non-empty string, and index\n",
    "string=input(\"Enter the string:\")\n",
    "index=int(input(\"Enter the no. of index to be removed:\"))\n",
    "\n",
    "output=string[:index]+string[index+1:]\n",
    "\n",
    "print(output)"
   ]
  }
 ],
 "metadata": {
  "kernelspec": {
   "display_name": "Python 3 (ipykernel)",
   "language": "python",
   "name": "python3"
  },
  "language_info": {
   "codemirror_mode": {
    "name": "ipython",
    "version": 3
   },
   "file_extension": ".py",
   "mimetype": "text/x-python",
   "name": "python",
   "nbconvert_exporter": "python",
   "pygments_lexer": "ipython3",
   "version": "3.11.5"
  }
 },
 "nbformat": 4,
 "nbformat_minor": 5
}
