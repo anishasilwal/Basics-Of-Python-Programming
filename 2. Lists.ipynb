{
 "cells": [
  {
   "cell_type": "markdown",
   "id": "03368b87",
   "metadata": {},
   "source": [
    "1. Creating Lists"
   ]
  },
  {
   "cell_type": "code",
   "execution_count": 1,
   "id": "7185bba9",
   "metadata": {},
   "outputs": [
    {
     "name": "stdout",
     "output_type": "stream",
     "text": [
      "[22, 220.67, 'chitwan', True]\n"
     ]
    }
   ],
   "source": [
    "# create simple list with mixed data types\n",
    "list1=[22,220.67,\"chitwan\",True]\n",
    "print(list1)"
   ]
  },
  {
   "cell_type": "code",
   "execution_count": 2,
   "id": "db55119a",
   "metadata": {},
   "outputs": [
    {
     "name": "stdout",
     "output_type": "stream",
     "text": [
      "<class 'list'>\n"
     ]
    }
   ],
   "source": [
    "# display type \n",
    "list1=[22,220.67,\"chitwan\",True]\n",
    "print(type(list1))"
   ]
  },
  {
   "cell_type": "code",
   "execution_count": 3,
   "id": "df4b1d58",
   "metadata": {},
   "outputs": [
    {
     "name": "stdout",
     "output_type": "stream",
     "text": [
      "4\n"
     ]
    }
   ],
   "source": [
    "# display length of list\n",
    "# Hint: len(list)\n",
    "list1=[22,220.67,\"chitwan\",True]\n",
    "print(len(list1))"
   ]
  },
  {
   "cell_type": "code",
   "execution_count": 4,
   "id": "55405176",
   "metadata": {},
   "outputs": [
    {
     "name": "stdout",
     "output_type": "stream",
     "text": [
      "[22, 220.67, 'chitwan', True, [66, 90.56, 'ktm', False]]\n"
     ]
    }
   ],
   "source": [
    "# create nested list\n",
    "list1=[22,220.67,\"chitwan\",True,[66,90.56,\"ktm\",False]]\n",
    "print(list1)"
   ]
  },
  {
   "cell_type": "code",
   "execution_count": 7,
   "id": "9b3a54d8",
   "metadata": {},
   "outputs": [
    {
     "name": "stdout",
     "output_type": "stream",
     "text": [
      "<class 'list'>\n"
     ]
    }
   ],
   "source": [
    "# display type of nested list\n",
    "list1=[22,220.67,\"chitwan\",True,[66,90.56,\"ktm\",False]]\n",
    "print(type(list1[4]))"
   ]
  },
  {
   "cell_type": "code",
   "execution_count": 8,
   "id": "ec5a7f1c",
   "metadata": {},
   "outputs": [
    {
     "name": "stdout",
     "output_type": "stream",
     "text": [
      "4\n"
     ]
    }
   ],
   "source": [
    "# display length of nested list\n",
    "# Hint: len() \n",
    "list1=[22,220.67,\"chitwan\",True,[66,90.56,\"ktm\",False]]\n",
    "print(len(list1[4]))"
   ]
  },
  {
   "cell_type": "markdown",
   "id": "4ff742bd",
   "metadata": {},
   "source": [
    "list creation from strings"
   ]
  },
  {
   "cell_type": "code",
   "execution_count": 12,
   "id": "8054ba43",
   "metadata": {},
   "outputs": [
    {
     "name": "stdout",
     "output_type": "stream",
     "text": [
      "['I', 'live', 'in', 'Kathmandu.']\n"
     ]
    }
   ],
   "source": [
    "# Initialize any non-empty string\n",
    "#\n",
    "# split string to create list\n",
    "place=\"I live in Kathmandu.\"\n",
    "print(place.split())"
   ]
  },
  {
   "cell_type": "markdown",
   "id": "4b287c21",
   "metadata": {},
   "source": [
    "2. Indexing Lists"
   ]
  },
  {
   "cell_type": "markdown",
   "id": "25e46fab",
   "metadata": {},
   "source": [
    "Positive Indexing"
   ]
  },
  {
   "cell_type": "code",
   "execution_count": 14,
   "id": "ba89582c",
   "metadata": {},
   "outputs": [
    {
     "name": "stdout",
     "output_type": "stream",
     "text": [
      "5\n"
     ]
    }
   ],
   "source": [
    "# initialize simple list of length 5\n",
    "list=[\"hello\",88,True,555.000,\"world\"]\n",
    "print(len(list))"
   ]
  },
  {
   "cell_type": "code",
   "execution_count": 15,
   "id": "461f9591",
   "metadata": {},
   "outputs": [
    {
     "name": "stdout",
     "output_type": "stream",
     "text": [
      "hello\n"
     ]
    }
   ],
   "source": [
    "# print 1st item using positive index\n",
    "list=[\"hello\",88,True,555.000,\"world\"]\n",
    "print(list[0])"
   ]
  },
  {
   "cell_type": "code",
   "execution_count": 16,
   "id": "e5b700fe",
   "metadata": {},
   "outputs": [
    {
     "name": "stdout",
     "output_type": "stream",
     "text": [
      "True\n"
     ]
    }
   ],
   "source": [
    "# print 3rd item using positive index\n",
    "list=[\"hello\",88,True,555.000,\"world\"]\n",
    "print((list[2]))"
   ]
  },
  {
   "cell_type": "code",
   "execution_count": 17,
   "id": "3412c2d8",
   "metadata": {},
   "outputs": [
    {
     "name": "stdout",
     "output_type": "stream",
     "text": [
      "world\n"
     ]
    }
   ],
   "source": [
    "# print last item using positive index\n",
    "list=[\"hello\",88,True,555.000,\"world\"]\n",
    "print(list[4])"
   ]
  },
  {
   "cell_type": "markdown",
   "id": "1cacf048",
   "metadata": {},
   "source": [
    "Now lets try to index nested list"
   ]
  },
  {
   "cell_type": "code",
   "execution_count": 19,
   "id": "392ca3da",
   "metadata": {},
   "outputs": [
    {
     "name": "stdout",
     "output_type": "stream",
     "text": [
      "5\n"
     ]
    }
   ],
   "source": [
    "# initialize nested list of length 5\n",
    "list1=[22,220.67,\"chitwan\",True,[66,90.56,\"ktm\",False,True]]\n",
    "print(len(list1[4]))"
   ]
  },
  {
   "cell_type": "code",
   "execution_count": 25,
   "id": "76a2bb21",
   "metadata": {},
   "outputs": [
    {
     "name": "stdout",
     "output_type": "stream",
     "text": [
      "[22, 220.67, 'chitwan']\n",
      "[66, 90.56, 'ktm']\n",
      "['chitwan', True, [66, 90.56, 'ktm', False, True]]\n"
     ]
    }
   ],
   "source": [
    "list1=[22,220.67,\"chitwan\",True,[66,90.56,\"ktm\",False,True]]\n",
    "print(list1[0:3])\n",
    "print(list1[4][:3])\n",
    "print(list1[2:5])"
   ]
  },
  {
   "cell_type": "markdown",
   "id": "60e3e565",
   "metadata": {},
   "source": [
    "negative indexing"
   ]
  },
  {
   "cell_type": "code",
   "execution_count": 20,
   "id": "67d90135",
   "metadata": {},
   "outputs": [
    {
     "name": "stdout",
     "output_type": "stream",
     "text": [
      "5\n"
     ]
    }
   ],
   "source": [
    "# reinitialize simple list of length 5\n",
    "list=[\"hello\",88,True,555.000,\"world\"]\n",
    "print(len(list))"
   ]
  },
  {
   "cell_type": "code",
   "execution_count": 26,
   "id": "e810a426",
   "metadata": {},
   "outputs": [
    {
     "name": "stdout",
     "output_type": "stream",
     "text": [
      "hello\n"
     ]
    }
   ],
   "source": [
    "# print 1st item using negative index\n",
    "list=[\"hello\",88,True,555.000,\"world\"]\n",
    "print(list[-5])"
   ]
  },
  {
   "cell_type": "code",
   "execution_count": 27,
   "id": "e286a896",
   "metadata": {},
   "outputs": [
    {
     "name": "stdout",
     "output_type": "stream",
     "text": [
      "True\n"
     ]
    }
   ],
   "source": [
    "# print 3rd item using negative index\n",
    "list=[\"hello\",88,True,555.000,\"world\"]\n",
    "print(list[-3])"
   ]
  },
  {
   "cell_type": "code",
   "execution_count": 28,
   "id": "8c801575",
   "metadata": {},
   "outputs": [
    {
     "name": "stdout",
     "output_type": "stream",
     "text": [
      "world\n"
     ]
    }
   ],
   "source": [
    "# print last item using negative index\n",
    "list=[\"hello\",88,True,555.000,\"world\"]\n",
    "print(list[-1])"
   ]
  },
  {
   "cell_type": "markdown",
   "id": "c6e20eb4",
   "metadata": {},
   "source": [
    "3. Slicing Lists"
   ]
  },
  {
   "cell_type": "markdown",
   "id": "ed19d985",
   "metadata": {},
   "source": [
    "case 1: when step is positive"
   ]
  },
  {
   "cell_type": "code",
   "execution_count": 1,
   "id": "f7e4659a",
   "metadata": {},
   "outputs": [
    {
     "name": "stdout",
     "output_type": "stream",
     "text": [
      "['hello', 88, True, 555.0, 'world']\n"
     ]
    }
   ],
   "source": [
    "# initialize simple list (refer to above example)\n",
    "list=[\"hello\",88,True,555.000,\"world\"]\n",
    "print(list)"
   ]
  },
  {
   "cell_type": "code",
   "execution_count": 3,
   "id": "5ab86fb6",
   "metadata": {},
   "outputs": [
    {
     "name": "stdout",
     "output_type": "stream",
     "text": [
      "['hello', 88, True]\n"
     ]
    }
   ],
   "source": [
    "# slice first 3 items using positive index\n",
    "list=[\"hello\",88,True,555.000,\"world\"]\n",
    "print(list[:3])"
   ]
  },
  {
   "cell_type": "code",
   "execution_count": 4,
   "id": "31cc2d09",
   "metadata": {},
   "outputs": [
    {
     "name": "stdout",
     "output_type": "stream",
     "text": [
      "[True, 555.0, 'world']\n"
     ]
    }
   ],
   "source": [
    "# slice last 3 items using negative index\n",
    "list=[\"hello\",88,True,555.000,\"world\"]\n",
    "print(list[-3:])"
   ]
  },
  {
   "cell_type": "code",
   "execution_count": 6,
   "id": "6243e151",
   "metadata": {},
   "outputs": [
    {
     "name": "stdout",
     "output_type": "stream",
     "text": [
      "['hello', True, 'world']\n"
     ]
    }
   ],
   "source": [
    "# get list item at even index\n",
    "# e.g. ['S', 'r', 'n', ' ', 'n', 'e', i]\n",
    "list=[\"hello\",88,True,555.000,\"world\"]\n",
    "print(list[::2])"
   ]
  },
  {
   "cell_type": "markdown",
   "id": "459c110b",
   "metadata": {},
   "source": [
    "case 2: when step is negative"
   ]
  },
  {
   "cell_type": "code",
   "execution_count": 7,
   "id": "8fccf85c",
   "metadata": {},
   "outputs": [
    {
     "name": "stdout",
     "output_type": "stream",
     "text": [
      "['g', 'n', 'i', 'x', 'e', 'd', 'n', 'i', ' ', 'g', 'n', 'i', 'r', 't', 's']\n"
     ]
    }
   ],
   "source": [
    "# reverse list\n",
    "# output: ['n', 'i', 'x', 'e', 'd', 'n', 'I', ' ', 'g', 'n', 'i', 'r', 't'\n",
    "list=['s','t','r','i','n','g',' ','i','n','d','e','x','i','n','g']\n",
    "print(list[::-1])"
   ]
  },
  {
   "cell_type": "markdown",
   "id": "98a323e7",
   "metadata": {},
   "source": [
    "4. Lists are mutable"
   ]
  },
  {
   "cell_type": "code",
   "execution_count": 8,
   "id": "c0f84f44",
   "metadata": {},
   "outputs": [
    {
     "name": "stdout",
     "output_type": "stream",
     "text": [
      "['hello', 'i', 'am', 'mutable']\n"
     ]
    }
   ],
   "source": [
    "# change first item 'hi' to 'hello'\n",
    "mutable_list = ['hi', 'i', 'am', 'mutable']\n",
    "mutable_list[0]='hello'\n",
    "print(mutable_list)"
   ]
  },
  {
   "cell_type": "markdown",
   "id": "062bfa61",
   "metadata": {},
   "source": [
    "5. List Methods"
   ]
  },
  {
   "cell_type": "code",
   "execution_count": 9,
   "id": "43b1f739",
   "metadata": {},
   "outputs": [
    {
     "name": "stdout",
     "output_type": "stream",
     "text": [
      "[1, 2, 3, 4]\n"
     ]
    }
   ],
   "source": [
    "# Create a new list\n",
    "list1 = [1, 2, 3, 4]\n",
    "print(list1)"
   ]
  },
  {
   "cell_type": "code",
   "execution_count": 11,
   "id": "f47ea849",
   "metadata": {},
   "outputs": [
    {
     "name": "stdout",
     "output_type": "stream",
     "text": [
      "[1, 2, 3, 4, 5]\n"
     ]
    }
   ],
   "source": [
    "# add new item to the end of a list\n",
    "# Hint: list.append()\n",
    "list1 = [1, 2, 3, 4]\n",
    "list1.append(5)\n",
    "print(list1)"
   ]
  },
  {
   "cell_type": "code",
   "execution_count": 13,
   "id": "a581dc67",
   "metadata": {},
   "outputs": [
    {
     "name": "stdout",
     "output_type": "stream",
     "text": [
      "[5, 1, 2, 3, 4]\n"
     ]
    }
   ],
   "source": [
    "# add new item at index 1 using insert()\n",
    "# Hint: list1.insert(, )\n",
    "list1 = [1, 2, 3, 4]\n",
    "list1.insert(0,5)\n",
    "print(list1)"
   ]
  },
  {
   "cell_type": "code",
   "execution_count": 15,
   "id": "8aa31048",
   "metadata": {},
   "outputs": [
    {
     "name": "stdout",
     "output_type": "stream",
     "text": [
      "[1, 2, 3, 4, 10, 20, 30, 40]\n"
     ]
    }
   ],
   "source": [
    "# Given two list i.e. list1 and list2\n",
    "# extend list1 with item from list 2\n",
    "# Hint: list1.extend(list2)\n",
    "list1 = [1, 2, 3, 4]\n",
    "list2=[10,20,30,40]\n",
    "list1.extend(list2)\n",
    "print(list1)"
   ]
  },
  {
   "cell_type": "code",
   "execution_count": 16,
   "id": "bec98f70",
   "metadata": {},
   "outputs": [
    {
     "name": "stdout",
     "output_type": "stream",
     "text": [
      "[1, 2, 3]\n"
     ]
    }
   ],
   "source": [
    "# remove specific item from list\n",
    "# Hint: list.remove()\n",
    "list1 = [1, 2, 3, 4]\n",
    "list1.remove(4)\n",
    "print(list1)"
   ]
  },
  {
   "cell_type": "code",
   "execution_count": 17,
   "id": "ef5dde02",
   "metadata": {},
   "outputs": [
    {
     "name": "stdout",
     "output_type": "stream",
     "text": [
      "[1, 3, 4]\n"
     ]
    }
   ],
   "source": [
    "# remove item at index 1 of list\n",
    "# Hint: list1.pop()\n",
    "list1 = [1, 2, 3, 4]\n",
    "list1.pop(1)\n",
    "print(list1)"
   ]
  },
  {
   "cell_type": "code",
   "execution_count": 18,
   "id": "b4d0adcb",
   "metadata": {},
   "outputs": [
    {
     "name": "stdout",
     "output_type": "stream",
     "text": [
      "[1, 2, 3]\n"
     ]
    }
   ],
   "source": [
    "# remove last item from list\n",
    "# Hint: list1.pop()\n",
    "list1 = [1, 2, 3, 4]\n",
    "list1.pop(3)\n",
    "print(list1)"
   ]
  },
  {
   "cell_type": "code",
   "execution_count": 19,
   "id": "391ec0d8",
   "metadata": {},
   "outputs": [
    {
     "name": "stdout",
     "output_type": "stream",
     "text": [
      "[4, 3, 2, 1]\n"
     ]
    }
   ],
   "source": [
    "# reverse list\n",
    "# Hint: list.reverse()\n",
    "list1 = [1, 2, 3, 4]\n",
    "list1.reverse()\n",
    "print(list1)"
   ]
  },
  {
   "cell_type": "code",
   "execution_count": 21,
   "id": "064e0bc0",
   "metadata": {},
   "outputs": [
    {
     "name": "stdout",
     "output_type": "stream",
     "text": [
      "[0, 1, 2, 3, 4, 100]\n"
     ]
    }
   ],
   "source": [
    "# sort list in ascending order\n",
    "# hint: list.sort()\n",
    "list1 = [1,100, 2,0, 3, 4]\n",
    "list1.sort()\n",
    "print(list1)"
   ]
  },
  {
   "cell_type": "code",
   "execution_count": 22,
   "id": "c64842be",
   "metadata": {},
   "outputs": [
    {
     "name": "stdout",
     "output_type": "stream",
     "text": [
      "[100, 4, 3, 2, 1, 0]\n"
     ]
    }
   ],
   "source": [
    "# sort list in descending order\n",
    "# hint: list.sort(reverse=True)\n",
    "list1 = [1,100, 2,0, 3, 4]\n",
    "list1.sort(reverse=True)\n",
    "print(list1)"
   ]
  },
  {
   "cell_type": "markdown",
   "id": "bb16e4ae",
   "metadata": {},
   "source": [
    "6. Join Lists\n",
    "\n",
    "Technique to convert list to string.\n",
    "\n",
    "Example:\n",
    "\n",
    "input_list = ['hello', 'world']\n",
    "\n",
    "\n",
    "ouput_list = \"hello world\"\n",
    "\n",
    "\n",
    "syntax: `result = separator.join()\n",
    "\n",
    "where, separator is the string that will be used to separate the elements in the resulting string."
   ]
  },
  {
   "cell_type": "code",
   "execution_count": 3,
   "id": "352bd1ab",
   "metadata": {},
   "outputs": [
    {
     "name": "stdout",
     "output_type": "stream",
     "text": [
      "i live in chitwan\n"
     ]
    }
   ],
   "source": [
    "place=[\"i\",\"live\",\"in\",\"chitwan\"]\n",
    "joined_list =\" \".join(place)\n",
    "print(joined_list)"
   ]
  },
  {
   "cell_type": "markdown",
   "id": "fce18837",
   "metadata": {},
   "source": [
    "7. Loop Lists"
   ]
  },
  {
   "cell_type": "code",
   "execution_count": 4,
   "id": "56bd2b86",
   "metadata": {},
   "outputs": [
    {
     "name": "stdout",
     "output_type": "stream",
     "text": [
      "i\n",
      "live\n",
      "in\n",
      "chitwan\n"
     ]
    }
   ],
   "source": [
    "# create list\n",
    "# loop through list items\n",
    "place=[\"i\",\"live\",\"in\",\"chitwan\"]\n",
    "for i in place:\n",
    "    print(i)"
   ]
  },
  {
   "cell_type": "code",
   "execution_count": 7,
   "id": "4a825062",
   "metadata": {},
   "outputs": [
    {
     "name": "stdout",
     "output_type": "stream",
     "text": [
      "Index:0,place:i\n",
      "Index:1,place:live\n",
      "Index:2,place:in\n",
      "Index:3,place:chitwan\n",
      "(0, 'i')\n",
      "(1, 'live')\n",
      "(2, 'in')\n",
      "(3, 'chitwan')\n"
     ]
    }
   ],
   "source": [
    "# loop through list items using enumerate()\n",
    "place=[\"i\",\"live\",\"in\",\"chitwan\"]\n",
    "\n",
    "\n",
    "for index,places in enumerate(place):\n",
    "    print(f\"Index:{index},place:{places}\")\n",
    "    \n",
    "for i in enumerate(place):\n",
    "    print(i)"
   ]
  },
  {
   "cell_type": "markdown",
   "id": "f3270108",
   "metadata": {},
   "source": [
    "8. List Comprehension"
   ]
  },
  {
   "cell_type": "markdown",
   "id": "15e5eda9",
   "metadata": {},
   "source": [
    "List comprehension offers the shortest syntax for looping through lists.\n",
    "\n",
    "\n",
    "Syntax: newlist = [expression for item in iterable if condition == True]"
   ]
  },
  {
   "cell_type": "code",
   "execution_count": 10,
   "id": "a8b9af7c",
   "metadata": {},
   "outputs": [
    {
     "name": "stdout",
     "output_type": "stream",
     "text": [
      "['apple', 'mango', 'banana', 'grapes']\n"
     ]
    }
   ],
   "source": [
    "# Write a python program to lowercase item in given list using list comprehension.\n",
    "sample_list = [\"APPLE\", \"Mango\", \"BaNaNa\", \"GRapes\"]\n",
    "output_list=[words.lower() for words in sample_list]\n",
    "print(output_list)"
   ]
  },
  {
   "cell_type": "code",
   "execution_count": 5,
   "id": "b0d51c49",
   "metadata": {},
   "outputs": [
    {
     "name": "stdout",
     "output_type": "stream",
     "text": [
      "['apple', 'mango', 'banana', 'grapes']\n"
     ]
    }
   ],
   "source": [
    "#Given list of fruits i.e. fruit_list = ['apple', 'mango', 'banana', 'grapes', 'coffee'], Create new list named fruit_list removing item which is not fruit. Example = coffee.\n",
    "fruit_list = ['mint','apple', 'mango','banana', 'grapes', 'coffee']\n",
    "fruits=['apple', 'mango', 'banana', 'grapes']\n",
    "for i in fruit_list:\n",
    "    if i not in fruits:\n",
    "        fruit_list.remove(i)\n",
    "        \n",
    "print(fruit_list)"
   ]
  },
  {
   "cell_type": "markdown",
   "id": "3740b64d",
   "metadata": {},
   "source": [
    "9. List exercise"
   ]
  },
  {
   "cell_type": "code",
   "execution_count": 22,
   "id": "85eef277",
   "metadata": {},
   "outputs": [
    {
     "name": "stdout",
     "output_type": "stream",
     "text": [
      "banana 6\n"
     ]
    }
   ],
   "source": [
    "# Write a python program that initializes non empty list of words with length = 5. Display longest word with its length.\n",
    "list=['mango', 'banana', 'kiwi', 'apple', 'grapes']\n",
    "\n",
    "longest_word=\"\"\n",
    "max_length=0\n",
    "\n",
    "for word in list:\n",
    "    length=len(word)\n",
    "    \n",
    "    if length>max_length:\n",
    "        longest_word=word\n",
    "        max_length=length\n",
    "print(longest_word,max_length)"
   ]
  },
  {
   "cell_type": "code",
   "execution_count": 26,
   "id": "36aa396b",
   "metadata": {},
   "outputs": [
    {
     "name": "stdout",
     "output_type": "stream",
     "text": [
      "The sum of the list is = 15\n"
     ]
    }
   ],
   "source": [
    "#Write a python program to sum all the items in a list.\n",
    "list=[1, 2, 3, 4, 5]\n",
    "print(f\"The sum of the list is = {sum(list)}\")"
   ]
  },
  {
   "cell_type": "code",
   "execution_count": 28,
   "id": "3a6b3340",
   "metadata": {},
   "outputs": [
    {
     "name": "stdout",
     "output_type": "stream",
     "text": [
      "The largest number from the list is = 100 \n"
     ]
    }
   ],
   "source": [
    "#Write a python program to get the largest number from a list.\n",
    "list= [10, 20, 30, 100, 40]\n",
    "print(F\"The largest number from the list is = {max(list)} \")"
   ]
  },
  {
   "cell_type": "code",
   "execution_count": 30,
   "id": "3bfbc0e4",
   "metadata": {},
   "outputs": [
    {
     "name": "stdout",
     "output_type": "stream",
     "text": [
      "The smallest number is = -1\n"
     ]
    }
   ],
   "source": [
    "#Write a python program to get the smallest number from a list.\n",
    "list=[-1, 0, 1, 2]\n",
    "print(f\"The smallest number is = {min(list)}\")"
   ]
  },
  {
   "cell_type": "code",
   "execution_count": 39,
   "id": "a2b07341",
   "metadata": {},
   "outputs": [
    {
     "name": "stdout",
     "output_type": "stream",
     "text": [
      "2\n"
     ]
    }
   ],
   "source": [
    "#Write a Python program to count the number of strings where the string length is 2 or more and the first and last character are same from a given list of strings.\n",
    "list = ['abc', 'xyz', 'aba', '1221']\n",
    "\n",
    "count=0\n",
    "\n",
    "for words in list:\n",
    "        length=len(words)\n",
    "        #print(length)\n",
    "\n",
    "        if length>=2 and words[0]==words[-1]:\n",
    "            count+=1\n",
    "\n",
    "print(count)"
   ]
  },
  {
   "cell_type": "code",
   "execution_count": 42,
   "id": "2a521067",
   "metadata": {},
   "outputs": [
    {
     "name": "stdout",
     "output_type": "stream",
     "text": [
      "[]\n",
      "The list is empty.\n"
     ]
    }
   ],
   "source": [
    "#Write a python program to check a list is empty or not.\n",
    "list=[]\n",
    "print(list)\n",
    "\n",
    "if not list:\n",
    "    print(\"The list is empty.\")\n",
    "else:\n",
    "    print(\"The list is not empty.\")"
   ]
  },
  {
   "cell_type": "code",
   "execution_count": 58,
   "id": "3733aead",
   "metadata": {},
   "outputs": [
    {
     "name": "stdout",
     "output_type": "stream",
     "text": [
      "['emp1', 'emp2', 'emp3', 'emp4']\n"
     ]
    }
   ],
   "source": [
    "#Write a python program to insert a given string at the beginning of all items in a list.\n",
    "list = [1, 2, 3, 4]\n",
    "str_to_insert = \"emp\"\n",
    "\n",
    "new_list=[]\n",
    "\n",
    "for i in list:\n",
    "    new=str_to_insert + str(i)\n",
    "    new_list.append(new)\n",
    "\n",
    "print(new_list)"
   ]
  }
 ],
 "metadata": {
  "kernelspec": {
   "display_name": "Python 3 (ipykernel)",
   "language": "python",
   "name": "python3"
  },
  "language_info": {
   "codemirror_mode": {
    "name": "ipython",
    "version": 3
   },
   "file_extension": ".py",
   "mimetype": "text/x-python",
   "name": "python",
   "nbconvert_exporter": "python",
   "pygments_lexer": "ipython3",
   "version": "3.11.5"
  }
 },
 "nbformat": 4,
 "nbformat_minor": 5
}
